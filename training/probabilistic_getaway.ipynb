{
 "cells": [
  {
   "cell_type": "markdown",
   "id": "ca39b950-bf9c-4b33-85cc-35245778a129",
   "metadata": {},
   "source": [
    "# Choosing the perfect city for a short vacation with indecisive friends and uncertain criteria\n",
    "## Training part II: Introducing uncertainty in the criteria\n",
    "The scenario is the same as in Part I of the training. This time, however, the criteria are treated as uncertain values, each modeled by a Probability Density Function (PDF)."
   ]
  },
  {
   "cell_type": "markdown",
   "id": "8445427a-1097-43d1-827e-62458d2ab80e",
   "metadata": {},
   "source": [
    "### Outline\n",
    "1. Load input matrix - with uncertainties - and set preferences\n",
    "2. Instatiate ProMCDA\n",
    "3. Normalization\n",
    "4. Aggregation"
   ]
  },
  {
   "cell_type": "code",
   "execution_count": 11,
   "id": "ff44f53d-9048-48eb-8968-d62770e80369",
   "metadata": {},
   "outputs": [],
   "source": [
    "import os\n",
    "import sys\n",
    "import pandas as pd\n",
    "import seaborn as sns\n",
    "import matplotlib.pyplot as plt\n",
    "import plotly.express as px\n",
    "from plotly.io import show"
   ]
  },
  {
   "cell_type": "code",
   "execution_count": 12,
   "id": "95bcaac7-a6b4-40ea-8716-94fbdcc23583",
   "metadata": {},
   "outputs": [],
   "source": [
    "import promcda\n",
    "from utilities import *\n",
    "from promcda.models.ProMCDA import ProMCDA\n",
    "from promcda.enums import PDFType, NormalizationFunctions, AggregationFunctions"
   ]
  },
  {
   "cell_type": "markdown",
   "id": "5907a77c-8019-46fc-b97c-11cf63258e26",
   "metadata": {},
   "source": [
    "### 1. Load data"
   ]
  },
  {
   "cell_type": "code",
   "execution_count": 13,
   "id": "2e04a40e-ed5b-434e-8746-ef7995986ecf",
   "metadata": {},
   "outputs": [],
   "source": [
    "data = pd.read_csv(\"data/matrix_probabilistic.csv\")"
   ]
  },
  {
   "cell_type": "markdown",
   "id": "1673f090-b8db-4f79-b8b2-0ccbcceb7347",
   "metadata": {},
   "source": [
    "Note: the \"Alternatives\" column should be set as index of the df"
   ]
  },
  {
   "cell_type": "code",
   "execution_count": 14,
   "id": "502fe4ad-1f24-4832-b83d-a2a2c1238679",
   "metadata": {},
   "outputs": [],
   "source": [
    "data.set_index(data.columns[0], inplace=True)"
   ]
  },
  {
   "cell_type": "code",
   "execution_count": 15,
   "id": "b9086db5-19af-4281-8e85-1a6cf2f0b6b0",
   "metadata": {},
   "outputs": [
    {
     "data": {
      "text/html": [
       "<div>\n",
       "<style scoped>\n",
       "    .dataframe tbody tr th:only-of-type {\n",
       "        vertical-align: middle;\n",
       "    }\n",
       "\n",
       "    .dataframe tbody tr th {\n",
       "        vertical-align: top;\n",
       "    }\n",
       "\n",
       "    .dataframe thead th {\n",
       "        text-align: right;\n",
       "    }\n",
       "</style>\n",
       "<table border=\"1\" class=\"dataframe\">\n",
       "  <thead>\n",
       "    <tr style=\"text-align: right;\">\n",
       "      <th></th>\n",
       "      <th>Cost_mean</th>\n",
       "      <th>Cost_std</th>\n",
       "      <th>Time_mean</th>\n",
       "      <th>Time_std</th>\n",
       "      <th>Rain_min</th>\n",
       "      <th>Rain_max</th>\n",
       "      <th>Activities_lambda</th>\n",
       "      <th>CO2_mean</th>\n",
       "      <th>CO2_std</th>\n",
       "      <th>Preference</th>\n",
       "    </tr>\n",
       "    <tr>\n",
       "      <th>Destination</th>\n",
       "      <th></th>\n",
       "      <th></th>\n",
       "      <th></th>\n",
       "      <th></th>\n",
       "      <th></th>\n",
       "      <th></th>\n",
       "      <th></th>\n",
       "      <th></th>\n",
       "      <th></th>\n",
       "      <th></th>\n",
       "    </tr>\n",
       "  </thead>\n",
       "  <tbody>\n",
       "    <tr>\n",
       "      <th>Alps</th>\n",
       "      <td>350</td>\n",
       "      <td>30</td>\n",
       "      <td>5</td>\n",
       "      <td>0.5</td>\n",
       "      <td>30</td>\n",
       "      <td>50</td>\n",
       "      <td>8</td>\n",
       "      <td>20</td>\n",
       "      <td>5</td>\n",
       "      <td>7</td>\n",
       "    </tr>\n",
       "    <tr>\n",
       "      <th>Tuscany</th>\n",
       "      <td>300</td>\n",
       "      <td>20</td>\n",
       "      <td>3</td>\n",
       "      <td>0.3</td>\n",
       "      <td>15</td>\n",
       "      <td>25</td>\n",
       "      <td>10</td>\n",
       "      <td>15</td>\n",
       "      <td>3</td>\n",
       "      <td>8</td>\n",
       "    </tr>\n",
       "    <tr>\n",
       "      <th>Amsterdam</th>\n",
       "      <td>400</td>\n",
       "      <td>50</td>\n",
       "      <td>6</td>\n",
       "      <td>1.0</td>\n",
       "      <td>60</td>\n",
       "      <td>80</td>\n",
       "      <td>12</td>\n",
       "      <td>80</td>\n",
       "      <td>20</td>\n",
       "      <td>6</td>\n",
       "    </tr>\n",
       "    <tr>\n",
       "      <th>Barcelona</th>\n",
       "      <td>380</td>\n",
       "      <td>40</td>\n",
       "      <td>4</td>\n",
       "      <td>0.7</td>\n",
       "      <td>40</td>\n",
       "      <td>60</td>\n",
       "      <td>15</td>\n",
       "      <td>50</td>\n",
       "      <td>15</td>\n",
       "      <td>9</td>\n",
       "    </tr>\n",
       "  </tbody>\n",
       "</table>\n",
       "</div>"
      ],
      "text/plain": [
       "             Cost_mean  Cost_std  Time_mean  Time_std  Rain_min  Rain_max  \\\n",
       "Destination                                                                 \n",
       "Alps               350        30          5       0.5        30        50   \n",
       "Tuscany            300        20          3       0.3        15        25   \n",
       "Amsterdam          400        50          6       1.0        60        80   \n",
       "Barcelona          380        40          4       0.7        40        60   \n",
       "\n",
       "             Activities_lambda  CO2_mean  CO2_std  Preference  \n",
       "Destination                                                    \n",
       "Alps                         8        20        5           7  \n",
       "Tuscany                     10        15        3           8  \n",
       "Amsterdam                   12        80       20           6  \n",
       "Barcelona                   15        50       15           9  "
      ]
     },
     "execution_count": 15,
     "metadata": {},
     "output_type": "execute_result"
    }
   ],
   "source": [
    "data.head()"
   ]
  },
  {
   "cell_type": "code",
   "execution_count": 16,
   "id": "28d3538c-ac38-4b0b-85f0-69d5c9ac20b6",
   "metadata": {},
   "outputs": [
    {
     "data": {
      "text/plain": [
       "Index(['Cost_mean', 'Cost_std', 'Time_mean', 'Time_std', 'Rain_min',\n",
       "       'Rain_max', 'Activities_lambda', 'CO2_mean', 'CO2_std', 'Preference'],\n",
       "      dtype='object')"
      ]
     },
     "execution_count": 16,
     "metadata": {},
     "output_type": "execute_result"
    }
   ],
   "source": [
    "data.columns"
   ]
  },
  {
   "cell_type": "markdown",
   "id": "f90c255c-3556-4b75-b24c-a625b5308cf3",
   "metadata": {},
   "source": [
    "### 2. Instantiate ProMCDA"
   ]
  },
  {
   "cell_type": "markdown",
   "id": "8d00bfbb-501b-4ae4-8304-ff8dcd5f6841",
   "metadata": {},
   "source": [
    "#### Preference (weights)"
   ]
  },
  {
   "cell_type": "code",
   "execution_count": 17,
   "id": "b90ba4be-34f9-4dcb-9900-ecb4dbb18551",
   "metadata": {},
   "outputs": [],
   "source": [
    "preference = \"travel time\""
   ]
  },
  {
   "cell_type": "code",
   "execution_count": 18,
   "id": "88a3e5c5-7f18-4ceb-b794-2b6420bfa94c",
   "metadata": {},
   "outputs": [
    {
     "data": {
      "text/plain": [
       "{'input_matrix':              Cost_mean  Cost_std  Time_mean  Time_std  Rain_min  Rain_max  \\\n",
       " Destination                                                                 \n",
       " Alps               350        30          5       0.5        30        50   \n",
       " Tuscany            300        20          3       0.3        15        25   \n",
       " Amsterdam          400        50          6       1.0        60        80   \n",
       " Barcelona          380        40          4       0.7        40        60   \n",
       " \n",
       "              Activities_lambda  CO2_mean  CO2_std  Preference  \n",
       " Destination                                                    \n",
       " Alps                         8        20        5           7  \n",
       " Tuscany                     10        15        3           8  \n",
       " Amsterdam                   12        80       20           6  \n",
       " Barcelona                   15        50       15           9  ,\n",
       " 'polarity': ('-', '-', '-', '+', '-', '+'),\n",
       " 'marginal_distributions': (<PDFType.NORMAL: 'normal'>,\n",
       "  <PDFType.LOGNORMAL: 'lognormal'>,\n",
       "  <PDFType.UNIFORM: 'uniform'>,\n",
       "  <PDFType.POISSON: 'poisson'>,\n",
       "  <PDFType.LOGNORMAL: 'lognormal'>,\n",
       "  <PDFType.EXACT: 'exact'>),\n",
       " 'weights': [0.1, 0.9, 0.1, 0.1, 0.1, 0.1],\n",
       " 'robustness': <RobustnessAnalysisType.INDICATORS: 'indicators'>}"
      ]
     },
     "execution_count": 18,
     "metadata": {},
     "output_type": "execute_result"
    }
   ],
   "source": [
    "# Run the setup and store parameters in a variable\n",
    "setup = setup_robustness(data, preference)\n",
    "# Check the setup parameters\n",
    "setup"
   ]
  },
  {
   "cell_type": "code",
   "execution_count": 19,
   "id": "b6dff237-86a6-49e0-b035-0ed827dc76d6",
   "metadata": {},
   "outputs": [
    {
     "name": "stdout",
     "output_type": "stream",
     "text": [
      "INFO: 2025-06-26 17:13:10,659 - ProMCDA - Alternatives are: ['Alps', 'Tuscany', 'Amsterdam', 'Barcelona']\n"
     ]
    }
   ],
   "source": [
    "promcda = ProMCDA(\n",
    "    input_matrix=setup['input_matrix'],\n",
    "    polarity=setup['polarity'],\n",
    "    marginal_distributions=setup['marginal_distributions'],\n",
    "    weights=setup['weights'],\n",
    "    robustness=setup['robustness'],\n",
    ")"
   ]
  },
  {
   "cell_type": "markdown",
   "id": "16cf0f84-d486-4b58-8f53-4e2b3e1a83d3",
   "metadata": {},
   "source": [
    "### 3. Normalization"
   ]
  },
  {
   "cell_type": "code",
   "execution_count": 20,
   "id": "4fbbe435-dc0e-451e-8736-05b8a96e90a6",
   "metadata": {},
   "outputs": [
    {
     "name": "stdout",
     "output_type": "stream",
     "text": [
      "INFO: 2025-06-26 17:13:13,514 - ProMCDA - Number of alternatives: 4\n",
      "INFO: 2025-06-26 17:13:13,515 - ProMCDA - Number of indicators: 6\n",
      "INFO: 2025-06-26 17:13:13,516 - ProMCDA - Polarities are checked: ('-', '-', '-', '+', '-', '+')\n"
     ]
    },
    {
     "ename": "ValueError",
     "evalue": "too many values to unpack (expected 2)",
     "output_type": "error",
     "traceback": [
      "\u001b[0;31m---------------------------------------------------------------------------\u001b[0m",
      "\u001b[0;31mRemoteTraceback\u001b[0m                           Traceback (most recent call last)",
      "\u001b[0;31mRemoteTraceback\u001b[0m: \n\"\"\"\nTraceback (most recent call last):\n  File \"/opt/homebrew/Caskroom/miniforge/base/envs/ProMCDA/lib/python3.9/multiprocessing/pool.py\", line 125, in worker\n    result = (True, func(*args, **kwds))\n  File \"/opt/homebrew/Caskroom/miniforge/base/envs/ProMCDA/lib/python3.9/multiprocessing/pool.py\", line 48, in mapstar\n    return list(map(*args))\n  File \"/Users/flaminia/Documents/work/ProMCDA/promcda/utils/utils_for_parallelization.py\", line 51, in initialize_and_call_aggregation\n    weights, data = args\nValueError: too many values to unpack (expected 2)\n\"\"\"",
      "\nThe above exception was the direct cause of the following exception:\n",
      "\u001b[0;31mValueError\u001b[0m                                Traceback (most recent call last)",
      "\u001b[0;32m/var/folders/mt/lx9bxf895gq_bfbn6l6_m3kr0000gn/T/ipykernel_68567/2642070327.py\u001b[0m in \u001b[0;36m<module>\u001b[0;34m\u001b[0m\n\u001b[0;32m----> 1\u001b[0;31m \u001b[0mminmax\u001b[0m \u001b[0;34m=\u001b[0m \u001b[0mpromcda\u001b[0m\u001b[0;34m.\u001b[0m\u001b[0mnormalize\u001b[0m\u001b[0;34m(\u001b[0m\u001b[0mNormalizationFunctions\u001b[0m\u001b[0;34m.\u001b[0m\u001b[0mSTANDARDIZED\u001b[0m\u001b[0;34m)\u001b[0m\u001b[0;34m\u001b[0m\u001b[0;34m\u001b[0m\u001b[0m\n\u001b[0m",
      "\u001b[0;32m~/Documents/work/ProMCDA/promcda/models/ProMCDA.py\u001b[0m in \u001b[0;36mnormalize\u001b[0;34m(self, normalization_method)\u001b[0m\n\u001b[1;32m    186\u001b[0m                     n_random_input_matrices, polarity)\n\u001b[1;32m    187\u001b[0m             \u001b[0;32melse\u001b[0m\u001b[0;34m:\u001b[0m\u001b[0;34m\u001b[0m\u001b[0;34m\u001b[0m\u001b[0m\n\u001b[0;32m--> 188\u001b[0;31m                 n_normalized_input_matrices = utils_for_parallelization.parallelize_normalization(\n\u001b[0m\u001b[1;32m    189\u001b[0m                     n_random_input_matrices, polarity, normalization_method)\n\u001b[1;32m    190\u001b[0m \u001b[0;34m\u001b[0m\u001b[0m\n",
      "\u001b[0;32m~/Documents/work/ProMCDA/promcda/utils/utils_for_parallelization.py\u001b[0m in \u001b[0;36mparallelize_normalization\u001b[0;34m(input_matrices, polar, method)\u001b[0m\n\u001b[1;32m    471\u001b[0m     \u001b[0mpartial_func\u001b[0m \u001b[0;34m=\u001b[0m \u001b[0mpartial\u001b[0m\u001b[0;34m(\u001b[0m\u001b[0minitialize_and_call_aggregation\u001b[0m\u001b[0;34m,\u001b[0m \u001b[0mmethod\u001b[0m\u001b[0;34m=\u001b[0m\u001b[0mmethod\u001b[0m\u001b[0;34m)\u001b[0m\u001b[0;34m\u001b[0m\u001b[0;34m\u001b[0m\u001b[0m\n\u001b[1;32m    472\u001b[0m     \u001b[0mpool\u001b[0m \u001b[0;34m=\u001b[0m \u001b[0mmultiprocessing\u001b[0m\u001b[0;34m.\u001b[0m\u001b[0mPool\u001b[0m\u001b[0;34m(\u001b[0m\u001b[0;34m)\u001b[0m\u001b[0;34m\u001b[0m\u001b[0;34m\u001b[0m\u001b[0m\n\u001b[0;32m--> 473\u001b[0;31m     \u001b[0mres\u001b[0m \u001b[0;34m=\u001b[0m \u001b[0mpool\u001b[0m\u001b[0;34m.\u001b[0m\u001b[0mmap\u001b[0m\u001b[0;34m(\u001b[0m\u001b[0mpartial_func\u001b[0m\u001b[0;34m,\u001b[0m \u001b[0margs_for_parallel_norm\u001b[0m\u001b[0;34m)\u001b[0m\u001b[0;34m\u001b[0m\u001b[0;34m\u001b[0m\u001b[0m\n\u001b[0m\u001b[1;32m    474\u001b[0m     \u001b[0mpool\u001b[0m\u001b[0;34m.\u001b[0m\u001b[0mclose\u001b[0m\u001b[0;34m(\u001b[0m\u001b[0;34m)\u001b[0m\u001b[0;34m\u001b[0m\u001b[0;34m\u001b[0m\u001b[0m\n\u001b[1;32m    475\u001b[0m     \u001b[0mpool\u001b[0m\u001b[0;34m.\u001b[0m\u001b[0mjoin\u001b[0m\u001b[0;34m(\u001b[0m\u001b[0;34m)\u001b[0m\u001b[0;34m\u001b[0m\u001b[0;34m\u001b[0m\u001b[0m\n",
      "\u001b[0;32m/opt/homebrew/Caskroom/miniforge/base/envs/ProMCDA/lib/python3.9/multiprocessing/pool.py\u001b[0m in \u001b[0;36mmap\u001b[0;34m(self, func, iterable, chunksize)\u001b[0m\n\u001b[1;32m    362\u001b[0m         \u001b[0;32min\u001b[0m \u001b[0ma\u001b[0m \u001b[0mlist\u001b[0m \u001b[0mthat\u001b[0m \u001b[0;32mis\u001b[0m \u001b[0mreturned\u001b[0m\u001b[0;34m.\u001b[0m\u001b[0;34m\u001b[0m\u001b[0;34m\u001b[0m\u001b[0m\n\u001b[1;32m    363\u001b[0m         '''\n\u001b[0;32m--> 364\u001b[0;31m         \u001b[0;32mreturn\u001b[0m \u001b[0mself\u001b[0m\u001b[0;34m.\u001b[0m\u001b[0m_map_async\u001b[0m\u001b[0;34m(\u001b[0m\u001b[0mfunc\u001b[0m\u001b[0;34m,\u001b[0m \u001b[0miterable\u001b[0m\u001b[0;34m,\u001b[0m \u001b[0mmapstar\u001b[0m\u001b[0;34m,\u001b[0m \u001b[0mchunksize\u001b[0m\u001b[0;34m)\u001b[0m\u001b[0;34m.\u001b[0m\u001b[0mget\u001b[0m\u001b[0;34m(\u001b[0m\u001b[0;34m)\u001b[0m\u001b[0;34m\u001b[0m\u001b[0;34m\u001b[0m\u001b[0m\n\u001b[0m\u001b[1;32m    365\u001b[0m \u001b[0;34m\u001b[0m\u001b[0m\n\u001b[1;32m    366\u001b[0m     \u001b[0;32mdef\u001b[0m \u001b[0mstarmap\u001b[0m\u001b[0;34m(\u001b[0m\u001b[0mself\u001b[0m\u001b[0;34m,\u001b[0m \u001b[0mfunc\u001b[0m\u001b[0;34m,\u001b[0m \u001b[0miterable\u001b[0m\u001b[0;34m,\u001b[0m \u001b[0mchunksize\u001b[0m\u001b[0;34m=\u001b[0m\u001b[0;32mNone\u001b[0m\u001b[0;34m)\u001b[0m\u001b[0;34m:\u001b[0m\u001b[0;34m\u001b[0m\u001b[0;34m\u001b[0m\u001b[0m\n",
      "\u001b[0;32m/opt/homebrew/Caskroom/miniforge/base/envs/ProMCDA/lib/python3.9/multiprocessing/pool.py\u001b[0m in \u001b[0;36mget\u001b[0;34m(self, timeout)\u001b[0m\n\u001b[1;32m    769\u001b[0m             \u001b[0;32mreturn\u001b[0m \u001b[0mself\u001b[0m\u001b[0;34m.\u001b[0m\u001b[0m_value\u001b[0m\u001b[0;34m\u001b[0m\u001b[0;34m\u001b[0m\u001b[0m\n\u001b[1;32m    770\u001b[0m         \u001b[0;32melse\u001b[0m\u001b[0;34m:\u001b[0m\u001b[0;34m\u001b[0m\u001b[0;34m\u001b[0m\u001b[0m\n\u001b[0;32m--> 771\u001b[0;31m             \u001b[0;32mraise\u001b[0m \u001b[0mself\u001b[0m\u001b[0;34m.\u001b[0m\u001b[0m_value\u001b[0m\u001b[0;34m\u001b[0m\u001b[0;34m\u001b[0m\u001b[0m\n\u001b[0m\u001b[1;32m    772\u001b[0m \u001b[0;34m\u001b[0m\u001b[0m\n\u001b[1;32m    773\u001b[0m     \u001b[0;32mdef\u001b[0m \u001b[0m_set\u001b[0m\u001b[0;34m(\u001b[0m\u001b[0mself\u001b[0m\u001b[0;34m,\u001b[0m \u001b[0mi\u001b[0m\u001b[0;34m,\u001b[0m \u001b[0mobj\u001b[0m\u001b[0;34m)\u001b[0m\u001b[0;34m:\u001b[0m\u001b[0;34m\u001b[0m\u001b[0;34m\u001b[0m\u001b[0m\n",
      "\u001b[0;31mValueError\u001b[0m: too many values to unpack (expected 2)"
     ]
    }
   ],
   "source": [
    "minmax = promcda.normalize(NormalizationFunctions.STANDARDIZED)"
   ]
  },
  {
   "cell_type": "code",
   "execution_count": null,
   "id": "7884b6a2-e644-4199-af0a-7c993d813e39",
   "metadata": {},
   "outputs": [],
   "source": [
    "minmax"
   ]
  },
  {
   "cell_type": "code",
   "execution_count": null,
   "id": "2af4c9a6-e9a8-4cea-aac9-3041681e3b85",
   "metadata": {},
   "outputs": [],
   "source": [
    "# promcda.get_normalized_values_with_robustness() # - it displays a very long dictionary! "
   ]
  },
  {
   "cell_type": "markdown",
   "id": "f84e972b-2ce6-45e1-a20f-0f6579f3286a",
   "metadata": {},
   "source": [
    "### 4. Aggregation"
   ]
  },
  {
   "cell_type": "code",
   "execution_count": null,
   "id": "9235c37c-f37d-46c9-86d2-bff693938c49",
   "metadata": {},
   "outputs": [],
   "source": [
    "promcda.aggregate(AggregationFunctions.WEIGHTED_SUM)"
   ]
  },
  {
   "cell_type": "code",
   "execution_count": null,
   "id": "af17b71c-7684-41c1-adf3-30bf34cadd3f",
   "metadata": {},
   "outputs": [],
   "source": [
    "average_scores, normalized_avg_scores, std = promcda.get_aggregated_values_with_robustness_indicators()"
   ]
  },
  {
   "cell_type": "code",
   "execution_count": null,
   "id": "150e20cf-b8bb-40b3-b234-8ecb9a184fb2",
   "metadata": {},
   "outputs": [],
   "source": [
    "alt_names = [\"Alps\", \"Tuscany\", \"Amsterdam\", \"Barcelona\"]"
   ]
  },
  {
   "cell_type": "code",
   "execution_count": null,
   "id": "7ecdba8b-6904-4cf7-b2bb-bc3a78b9c564",
   "metadata": {
    "scrolled": true
   },
   "outputs": [],
   "source": [
    "plot_bar_with_std(average_scores, std, alt_names)"
   ]
  },
  {
   "cell_type": "markdown",
   "id": "1c222038-818c-44a2-a197-d89a1b76c6ef",
   "metadata": {},
   "source": [
    "<div style=\"border: 1px solid #ccc; padding: 10px; border-radius: 5px; background-color: #f9f9f9;\">\n",
    "\n",
    "<b>MCDA ranking of travel destinations under Travel Time preference, with uncertainty</b><br><br>\n",
    "\n",
    "The plot shows the <b>mean MCDA scores</b> for each destination, including <b>uncertainty</b> represented as ± standard deviation error bars. The analysis used a <b>weighted sum aggregation</b> and <b>Min-Max normalization</b>, with a higher weight assigned to <b>Travel Time</b> (shorter time = better score).<br><br>\n",
    "\n",
    "<b>Observations:</b>\n",
    "<ul>\n",
    "<li><b>Tuscany</b> stands out with the <b>highest average score</b> and the <b>smallest uncertainty</b> (narrow error bar). This reflects both its good performance across criteria and the fact that its input variables were modeled with relatively low variability. Tuscany is a robust best alternative.</li>\n",
    "\n",
    "<li><b>Amsterdam</b> shows the <b>lowest score</b> and a <b>larger uncertainty</b>, mainly due to its long travel time and the use of input variables with higher variance.</li>\n",
    "\n",
    "<li><b>Barcelona</b> and <b>Alps</b> fall in between, with <b>moderate scores and moderate uncertainties</b>.</li>\n",
    "</ul>\n",
    "\n",
    "This highlights how both the <b>performance data</b> and the <b>uncertainty assumptions</b> behind the criteria influence the final decision and its robustness.\n",
    "\n",
    "</div>"
   ]
  },
  {
   "cell_type": "markdown",
   "id": "34d4e68d-9c92-4ac0-91ad-35071d76022e",
   "metadata": {},
   "source": [
    "<div style=\"border: 1px solid #ccc; padding: 10px; border-radius: 5px; background-color: #f9f9f9;\">\n",
    "\n",
    "<b>Effect of different Probability Distribution Functions (PDFs) on data variability in MCDA</b><br><br>\n",
    "\n",
    "Different assumptions about input uncertainty (modeled through various PDFs) impact the variability of MCDA outputs. The following table summarizes the key characteristics of each PDF type and their typical influence on the spread (standard deviation) of results:<br><br>\n",
    "\n",
    "| <b>PDF Type</b> | <b>Main Characteristic</b> | <b>Effect on Output Variability (Std)</b> |\n",
    "|---|---|---|\n",
    "| <b>Normal</b> | Symmetric distribution centered around the mean, variance easily controlled | Moderate variability, evenly spread around the mean |\n",
    "| <b>Lognormal (NotNormal)</b> | Skewed distribution with a long right tail | Often leads to higher variability, especially with larger mean or std values |\n",
    "| <b>Uniform</b> | Equal probability for all values within a fixed range | Variability limited to the specified range; depends on how wide the interval is |\n",
    "| <b>Poisson</b> | Discrete distribution centered around lambda (event rate) | Variability increases with lambda but remains discrete and event-based |\n",
    "| <b>Exact</b> | Fixed, deterministic value with no randomness | No added uncertainty from this variable |\n",
    "\n",
    "<br>\n",
    "\n",
    "<b>Key Insights:</b><br>\n",
    "- Distributions like <b>Lognormal</b> and <b>Poisson</b> can amplify input variability, resulting in a larger spread in MCDA outputs.<br>\n",
    "- <b>Normal</b> and <b>Uniform (with a narrow range)</b> lead to more controlled and predictable variability.<br>\n",
    "- <b>Exact</b> inputs contribute no additional uncertainty.<br><br>\n",
    "</div>"
   ]
  },
  {
   "cell_type": "markdown",
   "id": "299c6dab-e532-4ce7-bcb1-5328967b0730",
   "metadata": {},
   "source": [
    "### 6. Sensitivity analysis"
   ]
  },
  {
   "cell_type": "code",
   "execution_count": null,
   "id": "15075435-35a5-4994-a36d-6ed7a9e73252",
   "metadata": {},
   "outputs": [],
   "source": [
    "norm = promcda.normalize()"
   ]
  },
  {
   "cell_type": "code",
   "execution_count": null,
   "id": "eb5aefe4-5ef1-467b-a4bb-4c54bfea55d9",
   "metadata": {},
   "outputs": [],
   "source": [
    "#scores = promcda.aggregate()\n",
    "#ranks = promcda.evaluate_ranks(scores)"
   ]
  },
  {
   "cell_type": "code",
   "execution_count": null,
   "id": "18269dac-e910-4b9f-8abf-e296f5af582b",
   "metadata": {},
   "outputs": [],
   "source": [
    "ranks"
   ]
  }
 ],
 "metadata": {
  "kernelspec": {
   "display_name": "ProMCDA",
   "language": "python",
   "name": "promcda"
  },
  "language_info": {
   "codemirror_mode": {
    "name": "ipython",
    "version": 3
   },
   "file_extension": ".py",
   "mimetype": "text/x-python",
   "name": "python",
   "nbconvert_exporter": "python",
   "pygments_lexer": "ipython3",
   "version": "3.9.20"
  }
 },
 "nbformat": 4,
 "nbformat_minor": 5
}
