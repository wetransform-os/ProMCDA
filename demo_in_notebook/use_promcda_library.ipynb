{
 "cells": [
  {
   "cell_type": "code",
   "execution_count": 1,
   "id": "96df2c84-1509-4e93-952a-9beba8d0ec45",
   "metadata": {},
   "outputs": [
    {
     "name": "stdout",
     "output_type": "stream",
     "text": [
      "Import successful!\n"
     ]
    }
   ],
   "source": [
    "import os\n",
    "import sys\n",
    "import pandas as pd\n",
    "\n",
    "package_path = '/Users/flaminia/Documents/work/ProMCDA'\n",
    "\n",
    "if package_path not in sys.path:\n",
    "    sys.path.append(package_path)\n",
    "\n",
    "try:\n",
    "    from mcda.models.ProMCDA import ProMCDA\n",
    "    print(\"Import successful!\")\n",
    "except ModuleNotFoundError as e:\n",
    "    print(f\"ModuleNotFoundError: {e}\")\n",
    "\n",
    "from mcda.configuration.enums import NormalizationFunctions, AggregationFunctions, OutputColumnNames4Sensitivity, NormalizationNames4Sensitivity, PDFType"
   ]
  },
  {
   "cell_type": "code",
   "execution_count": 9,
   "id": "cef40536-5942-44a4-9a2c-2a9e9b02b7a0",
   "metadata": {},
   "outputs": [
    {
     "data": {
      "text/plain": [
       "{'input_matrix':               ind1_min  ind1_max  ind2  ind3_average  ind3_std  ind4_average  \\\n",
       " alternatives                                                                   \n",
       " alt1             -15.2       8.2  0.04          24.5      6.20         -15.2   \n",
       " alt2             -12.4       8.7  0.05          24.5      4.80         -12.4   \n",
       " alt3              10.6       2.0  0.11          14.0      0.60           1.6   \n",
       " alt4             -39.7      14.0  0.01          26.5      4.41         -39.7   \n",
       " \n",
       "               ind4_std  ind5  ind6_average  ind6_std  \n",
       " alternatives                                          \n",
       " alt1               8.2  0.04          24.5      6.20  \n",
       " alt2               8.7  0.05          24.5      4.80  \n",
       " alt3               2.0  0.11          14.0      0.60  \n",
       " alt4              14.0  0.01          26.5      4.41  ,\n",
       " 'polarity': ('+', '-', '+', '+', '+', '+'),\n",
       " 'robustness_weights': False,\n",
       " 'robustness_indicators': True,\n",
       " 'marginal_distributions': [<PDFType.NORMAL: 'normal'>,\n",
       "  <PDFType.NORMAL: 'normal'>],\n",
       " 'num_runs': 5,\n",
       " 'num_cores': 1,\n",
       " 'output_path': 'mock_output/'}"
      ]
     },
     "execution_count": 9,
     "metadata": {},
     "output_type": "execute_result"
    }
   ],
   "source": [
    "def setUp():\n",
    "    \n",
    "    # Mock input data for testing\n",
    "    input_matrix_without_uncertainty = pd.DataFrame({\n",
    "        'Criteria 1': [0.5, 0.2, 0.8],\n",
    "        'Criteria 2': [0.3, 0.6, 0.1]\n",
    "    }, index=['A', 'B', 'C'])\n",
    "\n",
    "    input_matrix_with_uncertainty = pd.DataFrame({\n",
    "    'alternatives': ['alt1', 'alt2', 'alt3', 'alt4'],\n",
    "    'ind1_min': [-15.20, -12.40, 10.60, -39.70],\n",
    "    'ind1_max': [8.20, 8.70, 2.00, 14.00],\n",
    "    'ind2': [0.04, 0.05, 0.11, 0.01],\n",
    "    'ind3_average': [24.50, 24.50, 14.00, 26.50],\n",
    "    'ind3_std': [6.20, 4.80, 0.60, 4.41],\n",
    "    'ind4_average': [-15.20, -12.40, 1.60, -39.70],\n",
    "    'ind4_std': [8.20, 8.70, 2.00, 14.00],\n",
    "    'ind5': [0.04, 0.05, 0.11, 0.01],\n",
    "    'ind6_average': [24.50, 24.50, 14.00, 26.50],\n",
    "    'ind6_std': [6.20, 4.80, 0.60, 4.41]\n",
    "    })\n",
    "   \n",
    "    input_matrix_with_uncertainty.set_index('alternatives', inplace=True)\n",
    "\n",
    "    polarity = ('+', '-', '+', '+', '+', '+')\n",
    "\n",
    "    robustness_weights = False\n",
    "    robustness_indicators = True\n",
    "\n",
    "    marginal_distributions = [PDFType.NORMAL, PDFType.NORMAL]\n",
    "\n",
    "    num_runs = 5\n",
    "    num_cores = 1\n",
    "\n",
    "    output_path = 'mock_output/'\n",
    "\n",
    "    # Return the setup parameters as a dictionary\n",
    "    return {\n",
    "        'input_matrix': input_matrix_with_uncertainty, # Decide what type of input matrix\n",
    "        'polarity': polarity,\n",
    "        'robustness_weights': robustness_weights,\n",
    "        'robustness_indicators': robustness_indicators,\n",
    "        'marginal_distributions': marginal_distributions,\n",
    "        'num_runs': num_runs,\n",
    "        'num_cores': num_cores,\n",
    "        'output_path': output_path\n",
    "    }\n",
    "\n",
    "# Run the setup and store parameters in a variable\n",
    "setup_parameters = setUp()\n",
    "\n",
    "# Check the setup parameters\n",
    "setup_parameters"
   ]
  },
  {
   "cell_type": "code",
   "execution_count": 10,
   "id": "cd0e175f-9d59-4c96-bcb5-a53d8555988c",
   "metadata": {},
   "outputs": [
    {
     "name": "stdout",
     "output_type": "stream",
     "text": [
      "INFO: 2024-12-12 14:24:40,588 - ProMCDA - Alternatives are ['alt1', 'alt2', 'alt3', 'alt4']\n"
     ]
    }
   ],
   "source": [
    "promcda = ProMCDA(\n",
    "    input_matrix=setup_parameters['input_matrix'],\n",
    "    polarity=setup_parameters['polarity'],\n",
    "    robustness_weights=setup_parameters['robustness_weights'],\n",
    "    robustness_indicators=setup_parameters['robustness_indicators'],\n",
    "    marginal_distributions=setup_parameters['marginal_distributions'],\n",
    "    num_runs=setup_parameters['num_runs'],\n",
    "    num_cores=setup_parameters['num_cores'],\n",
    "    #output_path=setup_parameters['output_path']\n",
    ")"
   ]
  },
  {
   "cell_type": "code",
   "execution_count": 11,
   "id": "1518d4a0-9351-4a5e-91db-806f21d32e96",
   "metadata": {
    "scrolled": true
   },
   "outputs": [
    {
     "name": "stdout",
     "output_type": "stream",
     "text": [
      "INFO: 2024-12-12 14:24:42,348 - ProMCDA - There is a problem with the parameters given in the input matrix with uncertainties. Check your data!\n",
      "INFO: 2024-12-12 14:24:42,349 - ProMCDA - Either standard deviation values of normal/lognormal indicators are larger than their means\n",
      "INFO: 2024-12-12 14:24:42,350 - ProMCDA - or max. values of uniform distributed indicators are smaller than their min. values.\n",
      "INFO: 2024-12-12 14:24:42,350 - ProMCDA - If you continue, the negative values will be rescaled internally to a positive range.\n"
     ]
    },
    {
     "ename": "IndexError",
     "evalue": "positional indexers are out-of-bounds",
     "output_type": "error",
     "traceback": [
      "\u001b[0;31m---------------------------------------------------------------------------\u001b[0m",
      "\u001b[0;31mRemoteTraceback\u001b[0m                           Traceback (most recent call last)",
      "\u001b[0;31mRemoteTraceback\u001b[0m: \n\"\"\"\nTraceback (most recent call last):\n  File \"/opt/homebrew/Caskroom/miniforge/base/envs/ProMCDA/lib/python3.9/multiprocessing/pool.py\", line 125, in worker\n    result = (True, func(*args, **kwds))\n  File \"/opt/homebrew/Caskroom/miniforge/base/envs/ProMCDA/lib/python3.9/multiprocessing/pool.py\", line 48, in mapstar\n    return list(map(*args))\n  File \"/Users/flaminia/Documents/work/ProMCDA/mcda/utils/utils_for_parallelization.py\", line 97, in initialize_and_call_normalization\n    dict_normalized_matrix = normalize_indicators_in_parallel(norm, method)\n  File \"/Users/flaminia/Documents/work/ProMCDA/mcda/utils/utils_for_parallelization.py\", line 138, in normalize_indicators_in_parallel\n    indicators_scaled_minmax_01 = norm.minmax(feature_range=(0, 1))\n  File \"/Users/flaminia/Documents/work/ProMCDA/mcda/mcda_functions/normalization.py\", line 99, in minmax\n    pol = Normalization._cast_polarities(self)\n  File \"/Users/flaminia/Documents/work/ProMCDA/mcda/mcda_functions/normalization.py\", line 30, in _cast_polarities\n    indicators_plus = self._input_matrix.iloc[:, ind_plus]\n  File \"/opt/homebrew/Caskroom/miniforge/base/envs/ProMCDA/lib/python3.9/site-packages/pandas/core/indexing.py\", line 1184, in __getitem__\n    return self._getitem_tuple(key)\n  File \"/opt/homebrew/Caskroom/miniforge/base/envs/ProMCDA/lib/python3.9/site-packages/pandas/core/indexing.py\", line 1690, in _getitem_tuple\n    tup = self._validate_tuple_indexer(tup)\n  File \"/opt/homebrew/Caskroom/miniforge/base/envs/ProMCDA/lib/python3.9/site-packages/pandas/core/indexing.py\", line 966, in _validate_tuple_indexer\n    self._validate_key(k, i)\n  File \"/opt/homebrew/Caskroom/miniforge/base/envs/ProMCDA/lib/python3.9/site-packages/pandas/core/indexing.py\", line 1612, in _validate_key\n    raise IndexError(\"positional indexers are out-of-bounds\")\nIndexError: positional indexers are out-of-bounds\n\"\"\"",
      "\nThe above exception was the direct cause of the following exception:\n",
      "\u001b[0;31mIndexError\u001b[0m                                Traceback (most recent call last)",
      "\u001b[0;32m/var/folders/mt/lx9bxf895gq_bfbn6l6_m3kr0000gn/T/ipykernel_47279/3655398325.py\u001b[0m in \u001b[0;36m<module>\u001b[0;34m\u001b[0m\n\u001b[0;32m----> 1\u001b[0;31m \u001b[0mpromcda\u001b[0m\u001b[0;34m.\u001b[0m\u001b[0mnormalize\u001b[0m\u001b[0;34m(\u001b[0m\u001b[0;34m)\u001b[0m\u001b[0;34m\u001b[0m\u001b[0;34m\u001b[0m\u001b[0m\n\u001b[0m",
      "\u001b[0;32m~/Documents/work/ProMCDA/mcda/models/ProMCDA.py\u001b[0m in \u001b[0;36mnormalize\u001b[0;34m(self, normalization_method)\u001b[0m\n\u001b[1;32m    141\u001b[0m \u001b[0;34m\u001b[0m\u001b[0m\n\u001b[1;32m    142\u001b[0m             \u001b[0;32mif\u001b[0m \u001b[0;32mnot\u001b[0m \u001b[0mnormalization_method\u001b[0m\u001b[0;34m:\u001b[0m\u001b[0;34m\u001b[0m\u001b[0;34m\u001b[0m\u001b[0m\n\u001b[0;32m--> 143\u001b[0;31m                 n_normalized_input_matrices = utils_for_parallelization.parallelize_normalization(\n\u001b[0m\u001b[1;32m    144\u001b[0m                     n_random_input_matrices, self.polarity)\n\u001b[1;32m    145\u001b[0m             \u001b[0;32melse\u001b[0m\u001b[0;34m:\u001b[0m\u001b[0;34m\u001b[0m\u001b[0;34m\u001b[0m\u001b[0m\n",
      "\u001b[0;32m~/Documents/work/ProMCDA/mcda/utils/utils_for_parallelization.py\u001b[0m in \u001b[0;36mparallelize_normalization\u001b[0;34m(input_matrices, polar, method)\u001b[0m\n\u001b[1;32m    291\u001b[0m     \u001b[0mpool\u001b[0m \u001b[0;34m=\u001b[0m \u001b[0mmultiprocessing\u001b[0m\u001b[0;34m.\u001b[0m\u001b[0mPool\u001b[0m\u001b[0;34m(\u001b[0m\u001b[0;34m)\u001b[0m\u001b[0;34m\u001b[0m\u001b[0;34m\u001b[0m\u001b[0m\n\u001b[1;32m    292\u001b[0m     \u001b[0margs_for_parallel_norm\u001b[0m \u001b[0;34m=\u001b[0m \u001b[0;34m[\u001b[0m\u001b[0;34m(\u001b[0m\u001b[0mdf\u001b[0m\u001b[0;34m,\u001b[0m \u001b[0mpolar\u001b[0m\u001b[0;34m,\u001b[0m \u001b[0mmethod\u001b[0m\u001b[0;34m)\u001b[0m \u001b[0;32mfor\u001b[0m \u001b[0mdf\u001b[0m \u001b[0;32min\u001b[0m \u001b[0minput_matrices\u001b[0m\u001b[0;34m]\u001b[0m\u001b[0;34m\u001b[0m\u001b[0;34m\u001b[0m\u001b[0m\n\u001b[0;32m--> 293\u001b[0;31m     \u001b[0mres\u001b[0m \u001b[0;34m=\u001b[0m \u001b[0mpool\u001b[0m\u001b[0;34m.\u001b[0m\u001b[0mmap\u001b[0m\u001b[0;34m(\u001b[0m\u001b[0minitialize_and_call_normalization\u001b[0m\u001b[0;34m,\u001b[0m \u001b[0margs_for_parallel_norm\u001b[0m\u001b[0;34m)\u001b[0m\u001b[0;34m\u001b[0m\u001b[0;34m\u001b[0m\u001b[0m\n\u001b[0m\u001b[1;32m    294\u001b[0m     \u001b[0mpool\u001b[0m\u001b[0;34m.\u001b[0m\u001b[0mclose\u001b[0m\u001b[0;34m(\u001b[0m\u001b[0;34m)\u001b[0m\u001b[0;34m\u001b[0m\u001b[0;34m\u001b[0m\u001b[0m\n\u001b[1;32m    295\u001b[0m     \u001b[0mpool\u001b[0m\u001b[0;34m.\u001b[0m\u001b[0mjoin\u001b[0m\u001b[0;34m(\u001b[0m\u001b[0;34m)\u001b[0m\u001b[0;34m\u001b[0m\u001b[0;34m\u001b[0m\u001b[0m\n",
      "\u001b[0;32m/opt/homebrew/Caskroom/miniforge/base/envs/ProMCDA/lib/python3.9/multiprocessing/pool.py\u001b[0m in \u001b[0;36mmap\u001b[0;34m(self, func, iterable, chunksize)\u001b[0m\n\u001b[1;32m    362\u001b[0m         \u001b[0;32min\u001b[0m \u001b[0ma\u001b[0m \u001b[0mlist\u001b[0m \u001b[0mthat\u001b[0m \u001b[0;32mis\u001b[0m \u001b[0mreturned\u001b[0m\u001b[0;34m.\u001b[0m\u001b[0;34m\u001b[0m\u001b[0;34m\u001b[0m\u001b[0m\n\u001b[1;32m    363\u001b[0m         '''\n\u001b[0;32m--> 364\u001b[0;31m         \u001b[0;32mreturn\u001b[0m \u001b[0mself\u001b[0m\u001b[0;34m.\u001b[0m\u001b[0m_map_async\u001b[0m\u001b[0;34m(\u001b[0m\u001b[0mfunc\u001b[0m\u001b[0;34m,\u001b[0m \u001b[0miterable\u001b[0m\u001b[0;34m,\u001b[0m \u001b[0mmapstar\u001b[0m\u001b[0;34m,\u001b[0m \u001b[0mchunksize\u001b[0m\u001b[0;34m)\u001b[0m\u001b[0;34m.\u001b[0m\u001b[0mget\u001b[0m\u001b[0;34m(\u001b[0m\u001b[0;34m)\u001b[0m\u001b[0;34m\u001b[0m\u001b[0;34m\u001b[0m\u001b[0m\n\u001b[0m\u001b[1;32m    365\u001b[0m \u001b[0;34m\u001b[0m\u001b[0m\n\u001b[1;32m    366\u001b[0m     \u001b[0;32mdef\u001b[0m \u001b[0mstarmap\u001b[0m\u001b[0;34m(\u001b[0m\u001b[0mself\u001b[0m\u001b[0;34m,\u001b[0m \u001b[0mfunc\u001b[0m\u001b[0;34m,\u001b[0m \u001b[0miterable\u001b[0m\u001b[0;34m,\u001b[0m \u001b[0mchunksize\u001b[0m\u001b[0;34m=\u001b[0m\u001b[0;32mNone\u001b[0m\u001b[0;34m)\u001b[0m\u001b[0;34m:\u001b[0m\u001b[0;34m\u001b[0m\u001b[0;34m\u001b[0m\u001b[0m\n",
      "\u001b[0;32m/opt/homebrew/Caskroom/miniforge/base/envs/ProMCDA/lib/python3.9/multiprocessing/pool.py\u001b[0m in \u001b[0;36mget\u001b[0;34m(self, timeout)\u001b[0m\n\u001b[1;32m    769\u001b[0m             \u001b[0;32mreturn\u001b[0m \u001b[0mself\u001b[0m\u001b[0;34m.\u001b[0m\u001b[0m_value\u001b[0m\u001b[0;34m\u001b[0m\u001b[0;34m\u001b[0m\u001b[0m\n\u001b[1;32m    770\u001b[0m         \u001b[0;32melse\u001b[0m\u001b[0;34m:\u001b[0m\u001b[0;34m\u001b[0m\u001b[0;34m\u001b[0m\u001b[0m\n\u001b[0;32m--> 771\u001b[0;31m             \u001b[0;32mraise\u001b[0m \u001b[0mself\u001b[0m\u001b[0;34m.\u001b[0m\u001b[0m_value\u001b[0m\u001b[0;34m\u001b[0m\u001b[0;34m\u001b[0m\u001b[0m\n\u001b[0m\u001b[1;32m    772\u001b[0m \u001b[0;34m\u001b[0m\u001b[0m\n\u001b[1;32m    773\u001b[0m     \u001b[0;32mdef\u001b[0m \u001b[0m_set\u001b[0m\u001b[0;34m(\u001b[0m\u001b[0mself\u001b[0m\u001b[0;34m,\u001b[0m \u001b[0mi\u001b[0m\u001b[0;34m,\u001b[0m \u001b[0mobj\u001b[0m\u001b[0;34m)\u001b[0m\u001b[0;34m:\u001b[0m\u001b[0;34m\u001b[0m\u001b[0;34m\u001b[0m\u001b[0m\n",
      "\u001b[0;31mIndexError\u001b[0m: positional indexers are out-of-bounds"
     ]
    }
   ],
   "source": [
    "promcda.normalize()"
   ]
  },
  {
   "cell_type": "code",
   "execution_count": null,
   "id": "1aec0eab-5c5a-4279-91b1-891a3fc9a868",
   "metadata": {},
   "outputs": [],
   "source": [
    "promcda.normalize(NormalizationFunctions.MINMAX)"
   ]
  },
  {
   "cell_type": "code",
   "execution_count": 7,
   "id": "0038ddb3-5499-4fd4-a5de-d785593885a9",
   "metadata": {},
   "outputs": [],
   "source": [
    "promcda.normalized_values_without_robustness"
   ]
  },
  {
   "cell_type": "code",
   "execution_count": 8,
   "id": "e857a02a-aae8-453a-a302-46844c3e610f",
   "metadata": {},
   "outputs": [
    {
     "name": "stdout",
     "output_type": "stream",
     "text": [
      "INFO: 2024-12-12 14:22:21,046 - ProMCDA - Number of alternatives: 4\n",
      "INFO: 2024-12-12 14:22:21,048 - ProMCDA - Number of indicators: 8\n",
      "INFO: 2024-12-12 14:22:21,049 - ProMCDA - Polarities: ('+', '-')\n",
      "INFO: 2024-12-12 14:22:21,050 - ProMCDA - Weights: [0.5, 0.5, 0.5, 0.5, 0.5, 0.5, 0.5, 0.5]\n",
      "INFO: 2024-12-12 14:22:21,050 - ProMCDA - Normalized weights: [0.125, 0.125, 0.125, 0.125, 0.125, 0.125, 0.125, 0.125]\n",
      "ERROR: 2024-12-12 14:22:21,066 - root - The number of polarities does not correspond to the no. of indicators\n",
      "Stack (most recent call last):\n",
      "  File \"/opt/homebrew/Caskroom/miniforge/base/envs/ProMCDA/lib/python3.9/runpy.py\", line 197, in _run_module_as_main\n",
      "    return _run_code(code, main_globals, None,\n",
      "  File \"/opt/homebrew/Caskroom/miniforge/base/envs/ProMCDA/lib/python3.9/runpy.py\", line 87, in _run_code\n",
      "    exec(code, run_globals)\n",
      "  File \"/opt/homebrew/Caskroom/miniforge/base/envs/ProMCDA/lib/python3.9/site-packages/ipykernel_launcher.py\", line 18, in <module>\n",
      "    app.launch_new_instance()\n",
      "  File \"/opt/homebrew/Caskroom/miniforge/base/envs/ProMCDA/lib/python3.9/site-packages/traitlets/config/application.py\", line 1075, in launch_instance\n",
      "    app.start()\n",
      "  File \"/opt/homebrew/Caskroom/miniforge/base/envs/ProMCDA/lib/python3.9/site-packages/ipykernel/kernelapp.py\", line 739, in start\n",
      "    self.io_loop.start()\n",
      "  File \"/opt/homebrew/Caskroom/miniforge/base/envs/ProMCDA/lib/python3.9/site-packages/tornado/platform/asyncio.py\", line 205, in start\n",
      "    self.asyncio_loop.run_forever()\n",
      "  File \"/opt/homebrew/Caskroom/miniforge/base/envs/ProMCDA/lib/python3.9/asyncio/base_events.py\", line 601, in run_forever\n",
      "    self._run_once()\n",
      "  File \"/opt/homebrew/Caskroom/miniforge/base/envs/ProMCDA/lib/python3.9/asyncio/base_events.py\", line 1905, in _run_once\n",
      "    handle._run()\n",
      "  File \"/opt/homebrew/Caskroom/miniforge/base/envs/ProMCDA/lib/python3.9/asyncio/events.py\", line 80, in _run\n",
      "    self._context.run(self._callback, *self._args)\n",
      "  File \"/opt/homebrew/Caskroom/miniforge/base/envs/ProMCDA/lib/python3.9/site-packages/ipykernel/kernelbase.py\", line 545, in dispatch_queue\n",
      "    await self.process_one()\n",
      "  File \"/opt/homebrew/Caskroom/miniforge/base/envs/ProMCDA/lib/python3.9/site-packages/ipykernel/kernelbase.py\", line 534, in process_one\n",
      "    await dispatch(*args)\n",
      "  File \"/opt/homebrew/Caskroom/miniforge/base/envs/ProMCDA/lib/python3.9/site-packages/ipykernel/kernelbase.py\", line 437, in dispatch_shell\n",
      "    await result\n",
      "  File \"/opt/homebrew/Caskroom/miniforge/base/envs/ProMCDA/lib/python3.9/site-packages/ipykernel/ipkernel.py\", line 362, in execute_request\n",
      "    await super().execute_request(stream, ident, parent)\n",
      "  File \"/opt/homebrew/Caskroom/miniforge/base/envs/ProMCDA/lib/python3.9/site-packages/ipykernel/kernelbase.py\", line 778, in execute_request\n",
      "    reply_content = await reply_content\n",
      "  File \"/opt/homebrew/Caskroom/miniforge/base/envs/ProMCDA/lib/python3.9/site-packages/ipykernel/ipkernel.py\", line 456, in do_execute\n",
      "    res = shell.run_cell(code, store_history=store_history, silent=silent)\n",
      "  File \"/opt/homebrew/Caskroom/miniforge/base/envs/ProMCDA/lib/python3.9/site-packages/ipykernel/zmqshell.py\", line 549, in run_cell\n",
      "    return super().run_cell(*args, **kwargs)\n",
      "  File \"/Users/flaminia/.local/lib/python3.9/site-packages/IPython/core/interactiveshell.py\", line 2914, in run_cell\n",
      "    result = self._run_cell(\n",
      "  File \"/Users/flaminia/.local/lib/python3.9/site-packages/IPython/core/interactiveshell.py\", line 2960, in _run_cell\n",
      "    return runner(coro)\n",
      "  File \"/Users/flaminia/.local/lib/python3.9/site-packages/IPython/core/async_helpers.py\", line 78, in _pseudo_sync_runner\n",
      "    coro.send(None)\n",
      "  File \"/Users/flaminia/.local/lib/python3.9/site-packages/IPython/core/interactiveshell.py\", line 3185, in run_cell_async\n",
      "    has_raised = await self.run_ast_nodes(code_ast.body, cell_name,\n",
      "  File \"/Users/flaminia/.local/lib/python3.9/site-packages/IPython/core/interactiveshell.py\", line 3377, in run_ast_nodes\n",
      "    if (await self.run_code(code, result,  async_=asy)):\n",
      "  File \"/Users/flaminia/.local/lib/python3.9/site-packages/IPython/core/interactiveshell.py\", line 3457, in run_code\n",
      "    exec(code_obj, self.user_global_ns, self.user_ns)\n",
      "  File \"/var/folders/mt/lx9bxf895gq_bfbn6l6_m3kr0000gn/T/ipykernel_47279/497488867.py\", line 1, in <module>\n",
      "    promcda.aggregate(aggregation_method=AggregationFunctions.WEIGHTED_SUM, weights=None)\n",
      "  File \"/Users/flaminia/Documents/work/ProMCDA/mcda/models/ProMCDA.py\", line 211, in aggregate\n",
      "    logging.error(str(e), stack_info=True)\n"
     ]
    },
    {
     "ename": "ValueError",
     "evalue": "The number of polarities does not correspond to the no. of indicators",
     "output_type": "error",
     "traceback": [
      "\u001b[0;31m---------------------------------------------------------------------------\u001b[0m",
      "\u001b[0;31mValueError\u001b[0m                                Traceback (most recent call last)",
      "\u001b[0;32m/var/folders/mt/lx9bxf895gq_bfbn6l6_m3kr0000gn/T/ipykernel_47279/497488867.py\u001b[0m in \u001b[0;36m<module>\u001b[0;34m\u001b[0m\n\u001b[0;32m----> 1\u001b[0;31m \u001b[0mpromcda\u001b[0m\u001b[0;34m.\u001b[0m\u001b[0maggregate\u001b[0m\u001b[0;34m(\u001b[0m\u001b[0maggregation_method\u001b[0m\u001b[0;34m=\u001b[0m\u001b[0mAggregationFunctions\u001b[0m\u001b[0;34m.\u001b[0m\u001b[0mWEIGHTED_SUM\u001b[0m\u001b[0;34m,\u001b[0m \u001b[0mweights\u001b[0m\u001b[0;34m=\u001b[0m\u001b[0;32mNone\u001b[0m\u001b[0;34m)\u001b[0m\u001b[0;34m\u001b[0m\u001b[0;34m\u001b[0m\u001b[0m\n\u001b[0m",
      "\u001b[0;32m~/Documents/work/ProMCDA/mcda/models/ProMCDA.py\u001b[0m in \u001b[0;36maggregate\u001b[0;34m(self, aggregation_method, weights)\u001b[0m\n\u001b[1;32m    206\u001b[0m         \u001b[0;31m# Check the number of indicators, weights, and polarities, assign random weights if uncertainty is enabled\u001b[0m\u001b[0;34m\u001b[0m\u001b[0;34m\u001b[0m\u001b[0m\n\u001b[1;32m    207\u001b[0m         \u001b[0;32mtry\u001b[0m\u001b[0;34m:\u001b[0m\u001b[0;34m\u001b[0m\u001b[0;34m\u001b[0m\u001b[0m\n\u001b[0;32m--> 208\u001b[0;31m             check_indicator_weights_polarities(num_indicators, polar, robustness_weights=self.robustness_weights,\n\u001b[0m\u001b[1;32m    209\u001b[0m                                                weights=weights)\n\u001b[1;32m    210\u001b[0m         \u001b[0;32mexcept\u001b[0m \u001b[0mValueError\u001b[0m \u001b[0;32mas\u001b[0m \u001b[0me\u001b[0m\u001b[0;34m:\u001b[0m\u001b[0;34m\u001b[0m\u001b[0;34m\u001b[0m\u001b[0m\n",
      "\u001b[0;32m~/Documents/work/ProMCDA/mcda/configuration/configuration_validator.py\u001b[0m in \u001b[0;36mcheck_indicator_weights_polarities\u001b[0;34m(num_indicators, polar, robustness_weights, weights)\u001b[0m\n\u001b[1;32m    485\u001b[0m     \"\"\"\n\u001b[1;32m    486\u001b[0m     \u001b[0;32mif\u001b[0m \u001b[0mnum_indicators\u001b[0m \u001b[0;34m!=\u001b[0m \u001b[0mlen\u001b[0m\u001b[0;34m(\u001b[0m\u001b[0mpolar\u001b[0m\u001b[0;34m)\u001b[0m\u001b[0;34m:\u001b[0m\u001b[0;34m\u001b[0m\u001b[0;34m\u001b[0m\u001b[0m\n\u001b[0;32m--> 487\u001b[0;31m         \u001b[0;32mraise\u001b[0m \u001b[0mValueError\u001b[0m\u001b[0;34m(\u001b[0m\u001b[0;34m'The number of polarities does not correspond to the no. of indicators'\u001b[0m\u001b[0;34m)\u001b[0m\u001b[0;34m\u001b[0m\u001b[0;34m\u001b[0m\u001b[0m\n\u001b[0m\u001b[1;32m    488\u001b[0m \u001b[0;34m\u001b[0m\u001b[0m\n\u001b[1;32m    489\u001b[0m     \u001b[0;31m# Check the number of fixed weights if \"robustness_on_all_weights\" is set to \"no\"\u001b[0m\u001b[0;34m\u001b[0m\u001b[0;34m\u001b[0m\u001b[0m\n",
      "\u001b[0;31mValueError\u001b[0m: The number of polarities does not correspond to the no. of indicators"
     ]
    }
   ],
   "source": [
    "promcda.aggregate(aggregation_method=AggregationFunctions.WEIGHTED_SUM, weights=None)"
   ]
  },
  {
   "cell_type": "code",
   "execution_count": null,
   "id": "506619fd-9659-47cd-88fa-7acd985a1071",
   "metadata": {},
   "outputs": [],
   "source": []
  },
  {
   "cell_type": "code",
   "execution_count": null,
   "id": "15bb84ff-e194-4326-a368-c467c9b6e3a7",
   "metadata": {},
   "outputs": [],
   "source": []
  }
 ],
 "metadata": {
  "kernelspec": {
   "display_name": "ProMCDA (Python)",
   "language": "python",
   "name": "promcda"
  },
  "language_info": {
   "codemirror_mode": {
    "name": "ipython",
    "version": 3
   },
   "file_extension": ".py",
   "mimetype": "text/x-python",
   "name": "python",
   "nbconvert_exporter": "python",
   "pygments_lexer": "ipython3",
   "version": "3.9.20"
  }
 },
 "nbformat": 4,
 "nbformat_minor": 5
}
