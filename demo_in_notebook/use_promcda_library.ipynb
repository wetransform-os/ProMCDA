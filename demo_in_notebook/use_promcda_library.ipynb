{
 "cells": [
  {
   "cell_type": "code",
   "execution_count": 1,
   "id": "96df2c84-1509-4e93-952a-9beba8d0ec45",
   "metadata": {},
   "outputs": [
    {
     "name": "stdout",
     "output_type": "stream",
     "text": [
      "Import successful!\n"
     ]
    }
   ],
   "source": [
    "import os\n",
    "import sys\n",
    "import pandas as pd\n",
    "\n",
    "package_path = '/Users/flaminia/Documents/work/ProMCDA'\n",
    "\n",
    "if package_path not in sys.path:\n",
    "    sys.path.append(package_path)\n",
    "\n",
    "try:\n",
    "    from mcda.models.ProMCDA import ProMCDA\n",
    "    print(\"Import successful!\")\n",
    "except ModuleNotFoundError as e:\n",
    "    print(f\"ModuleNotFoundError: {e}\")"
   ]
  },
  {
   "cell_type": "code",
   "execution_count": 2,
   "id": "cef40536-5942-44a4-9a2c-2a9e9b02b7a0",
   "metadata": {},
   "outputs": [
    {
     "data": {
      "text/plain": [
       "{'input_matrix':    Criteria 1  Criteria 2\n",
       " A         0.5         0.3\n",
       " B         0.2         0.6\n",
       " C         0.8         0.1,\n",
       " 'polarity': ('+', '-'),\n",
       " 'sensitivity': {'sensitivity_on': 'no',\n",
       "  'normalization': 'minmax',\n",
       "  'aggregation': 'weighted_sum'},\n",
       " 'robustness': {'robustness_on': 'no',\n",
       "  'on_single_weights': 'no',\n",
       "  'on_all_weights': 'no',\n",
       "  'on_indicators': 'no',\n",
       "  'given_weights': [0.6, 0.4]},\n",
       " 'monte_carlo': {'monte_carlo_runs': 1000,\n",
       "  'num_cores': 2,\n",
       "  'random_seed': 42,\n",
       "  'marginal_distribution_for_each_indicator': 'normal'},\n",
       " 'output_path': 'mock_output/'}"
      ]
     },
     "execution_count": 2,
     "metadata": {},
     "output_type": "execute_result"
    }
   ],
   "source": [
    "def setUp():\n",
    "    \n",
    "    # Mock input data for testing\n",
    "    input_matrix_without_uncertainty = pd.DataFrame({\n",
    "        'Criteria 1': [0.5, 0.2, 0.8],\n",
    "        'Criteria 2': [0.3, 0.6, 0.1]\n",
    "    }, index=['A', 'B', 'C'])\n",
    "\n",
    "    input_matrix_with_uncertainty = pd.DataFrame({\n",
    "    'alternatives': ['alt1', 'alt2', 'alt3', 'alt4'],\n",
    "    'ind1_min': [-15.20, -12.40, 10.60, -39.70],\n",
    "    'ind1_max': [8.20, 8.70, 2.00, 14.00],\n",
    "    'ind2': [0.04, 0.05, 0.11, 0.01],\n",
    "    'ind3_average': [24.50, 24.50, 14.00, 26.50],\n",
    "    'ind3_std': [6.20, 4.80, 0.60, 4.41],\n",
    "    'ind4_average': [-15.20, -12.40, 1.60, -39.70],\n",
    "    'ind4_std': [8.20, 8.70, 2.00, 14.00],\n",
    "    'ind5': [0.04, 0.05, 0.11, 0.01],\n",
    "    'ind6_average': [24.50, 24.50, 14.00, 26.50],\n",
    "    'ind6_std': [6.20, 4.80, 0.60, 4.41]\n",
    "    })\n",
    "   \n",
    "    input_matrix_with_uncertainty.set_index('alternatives', inplace=True)\n",
    "\n",
    "    polarity = ('+', '-')\n",
    "\n",
    "    sensitivity = {\n",
    "        'sensitivity_on': 'no',\n",
    "        'normalization': 'minmax',\n",
    "        'aggregation': 'weighted_sum'\n",
    "    }\n",
    "\n",
    "    robustness = {\n",
    "        'robustness_on': 'no',\n",
    "        'on_single_weights': 'no',\n",
    "        'on_all_weights': 'no',\n",
    "        'on_indicators': 'no',\n",
    "        'given_weights': [0.6, 0.4]\n",
    "    }\n",
    "\n",
    "    monte_carlo = {\n",
    "        'monte_carlo_runs': 1000,\n",
    "        'num_cores': 2,\n",
    "        'random_seed': 42,\n",
    "        'marginal_distribution_for_each_indicator': 'normal'\n",
    "    }\n",
    "\n",
    "    output_path = 'mock_output/'\n",
    "\n",
    "    # Return the setup parameters as a dictionary\n",
    "    return {\n",
    "        'input_matrix': input_matrix_without_uncertainty, # Decide what type of input matrix\n",
    "        'polarity': polarity,\n",
    "        'sensitivity': sensitivity,\n",
    "        'robustness': robustness,\n",
    "        'monte_carlo': monte_carlo,\n",
    "        'output_path': output_path\n",
    "    }\n",
    "\n",
    "# Run the setup and store parameters in a variable\n",
    "setup_parameters = setUp()\n",
    "\n",
    "# Check the setup parameters\n",
    "setup_parameters"
   ]
  },
  {
   "cell_type": "code",
   "execution_count": 9,
   "id": "18ca51a7-87ba-458f-a505-29722e5b93ff",
   "metadata": {},
   "outputs": [
    {
     "name": "stdout",
     "output_type": "stream",
     "text": [
      "Criteria 1\n",
      "Criteria 2\n"
     ]
    },
    {
     "data": {
      "text/plain": [
       "[None, None]"
      ]
     },
     "execution_count": 9,
     "metadata": {},
     "output_type": "execute_result"
    }
   ],
   "source": [
    "[print(col) for col in setup_parameters[\"input_matrix\"].columns]"
   ]
  },
  {
   "cell_type": "code",
   "execution_count": 11,
   "id": "49a4edae-3192-48cf-a50a-ef7c260d9171",
   "metadata": {},
   "outputs": [
    {
     "ename": "NameError",
     "evalue": "name 'method_name' is not defined",
     "output_type": "error",
     "traceback": [
      "\u001b[0;31m---------------------------------------------------------------------------\u001b[0m",
      "\u001b[0;31mNameError\u001b[0m                                 Traceback (most recent call last)",
      "\u001b[0;32m/var/folders/mt/lx9bxf895gq_bfbn6l6_m3kr0000gn/T/ipykernel_36920/3827112317.py\u001b[0m in \u001b[0;36m<module>\u001b[0;34m\u001b[0m\n\u001b[0;32m----> 1\u001b[0;31m \u001b[0mcolumns\u001b[0m \u001b[0;34m=\u001b[0m \u001b[0;34m[\u001b[0m\u001b[0;34mf\"{col}_{method_name}\"\u001b[0m \u001b[0;32mfor\u001b[0m \u001b[0mcol\u001b[0m \u001b[0;32min\u001b[0m \u001b[0msetup_parameters\u001b[0m\u001b[0;34m[\u001b[0m\u001b[0;34m\"input_matrix\"\u001b[0m\u001b[0;34m]\u001b[0m\u001b[0;34m.\u001b[0m\u001b[0mcolumns\u001b[0m\u001b[0;34m.\u001b[0m\u001b[0mtolist\u001b[0m\u001b[0;34m(\u001b[0m\u001b[0;34m)\u001b[0m\u001b[0;34m]\u001b[0m\u001b[0;34m\u001b[0m\u001b[0;34m\u001b[0m\u001b[0m\n\u001b[0m",
      "\u001b[0;32m/var/folders/mt/lx9bxf895gq_bfbn6l6_m3kr0000gn/T/ipykernel_36920/3827112317.py\u001b[0m in \u001b[0;36m<listcomp>\u001b[0;34m(.0)\u001b[0m\n\u001b[0;32m----> 1\u001b[0;31m \u001b[0mcolumns\u001b[0m \u001b[0;34m=\u001b[0m \u001b[0;34m[\u001b[0m\u001b[0;34mf\"{col}_{method_name}\"\u001b[0m \u001b[0;32mfor\u001b[0m \u001b[0mcol\u001b[0m \u001b[0;32min\u001b[0m \u001b[0msetup_parameters\u001b[0m\u001b[0;34m[\u001b[0m\u001b[0;34m\"input_matrix\"\u001b[0m\u001b[0;34m]\u001b[0m\u001b[0;34m.\u001b[0m\u001b[0mcolumns\u001b[0m\u001b[0;34m.\u001b[0m\u001b[0mtolist\u001b[0m\u001b[0;34m(\u001b[0m\u001b[0;34m)\u001b[0m\u001b[0;34m]\u001b[0m\u001b[0;34m\u001b[0m\u001b[0;34m\u001b[0m\u001b[0m\n\u001b[0m",
      "\u001b[0;31mNameError\u001b[0m: name 'method_name' is not defined"
     ]
    }
   ],
   "source": [
    "columns = [f\"{col}_{method_name}\" for col in setup_parameters[\"input_matrix\"].columns.tolist()]"
   ]
  },
  {
   "cell_type": "code",
   "execution_count": 3,
   "id": "cd0e175f-9d59-4c96-bcb5-a53d8555988c",
   "metadata": {},
   "outputs": [],
   "source": [
    "promcda = ProMCDA(\n",
    "    input_matrix=setup_parameters['input_matrix'],\n",
    "    polarity=setup_parameters['polarity'],\n",
    "    sensitivity=setup_parameters['sensitivity'],\n",
    "    robustness=setup_parameters['robustness'],\n",
    "    monte_carlo=setup_parameters['monte_carlo'],\n",
    "    output_path=setup_parameters['output_path']\n",
    ")"
   ]
  },
  {
   "cell_type": "code",
   "execution_count": 4,
   "id": "1518d4a0-9351-4a5e-91db-806f21d32e96",
   "metadata": {
    "scrolled": true
   },
   "outputs": [
    {
     "name": "stdout",
     "output_type": "stream",
     "text": [
      "INFO: 2024-11-15 15:31:17,525 - ProMCDA - Alternatives are ['A', 'B', 'C']\n",
      "0\n",
      "1\n",
      "0\n",
      "1\n",
      "0\n",
      "1\n",
      "0\n",
      "1\n",
      "0\n",
      "1\n",
      "0\n",
      "1\n",
      "0\n",
      "1\n"
     ]
    },
    {
     "data": {
      "text/html": [
       "<div>\n",
       "<style scoped>\n",
       "    .dataframe tbody tr th:only-of-type {\n",
       "        vertical-align: middle;\n",
       "    }\n",
       "\n",
       "    .dataframe tbody tr th {\n",
       "        vertical-align: top;\n",
       "    }\n",
       "\n",
       "    .dataframe thead th {\n",
       "        text-align: right;\n",
       "    }\n",
       "</style>\n",
       "<table border=\"1\" class=\"dataframe\">\n",
       "  <thead>\n",
       "    <tr style=\"text-align: right;\">\n",
       "      <th></th>\n",
       "      <th>0_minmax_01</th>\n",
       "      <th>1_minmax_01</th>\n",
       "      <th>0_minmax_without_zero</th>\n",
       "      <th>1_minmax_without_zero</th>\n",
       "      <th>0_target_01</th>\n",
       "      <th>1_target_01</th>\n",
       "      <th>0_target_without_zero</th>\n",
       "      <th>1_target_without_zero</th>\n",
       "      <th>0_standardized_any</th>\n",
       "      <th>1_standardized_any</th>\n",
       "      <th>0_standardized_without_zero</th>\n",
       "      <th>1_standardized_without_zero</th>\n",
       "      <th>0_rank</th>\n",
       "      <th>1_rank</th>\n",
       "    </tr>\n",
       "  </thead>\n",
       "  <tbody>\n",
       "    <tr>\n",
       "      <th>0</th>\n",
       "      <td>0.5</td>\n",
       "      <td>0.6</td>\n",
       "      <td>0.55</td>\n",
       "      <td>0.64</td>\n",
       "      <td>0.625</td>\n",
       "      <td>0.5</td>\n",
       "      <td>0.6625</td>\n",
       "      <td>0.55</td>\n",
       "      <td>0.0</td>\n",
       "      <td>0.132453</td>\n",
       "      <td>1.1</td>\n",
       "      <td>1.292079</td>\n",
       "      <td>2.0</td>\n",
       "      <td>2.0</td>\n",
       "    </tr>\n",
       "    <tr>\n",
       "      <th>1</th>\n",
       "      <td>0.0</td>\n",
       "      <td>0.0</td>\n",
       "      <td>0.1</td>\n",
       "      <td>0.1</td>\n",
       "      <td>0.25</td>\n",
       "      <td>0.0</td>\n",
       "      <td>0.325</td>\n",
       "      <td>0.1</td>\n",
       "      <td>-1.0</td>\n",
       "      <td>-1.059626</td>\n",
       "      <td>0.1</td>\n",
       "      <td>0.1</td>\n",
       "      <td>1.0</td>\n",
       "      <td>1.0</td>\n",
       "    </tr>\n",
       "    <tr>\n",
       "      <th>2</th>\n",
       "      <td>1.0</td>\n",
       "      <td>1.0</td>\n",
       "      <td>1.0</td>\n",
       "      <td>1.0</td>\n",
       "      <td>1.0</td>\n",
       "      <td>0.833333</td>\n",
       "      <td>1.0</td>\n",
       "      <td>0.85</td>\n",
       "      <td>1.0</td>\n",
       "      <td>0.927173</td>\n",
       "      <td>2.1</td>\n",
       "      <td>2.086799</td>\n",
       "      <td>3.0</td>\n",
       "      <td>3.0</td>\n",
       "    </tr>\n",
       "  </tbody>\n",
       "</table>\n",
       "</div>"
      ],
      "text/plain": [
       "  0_minmax_01 1_minmax_01 0_minmax_without_zero 1_minmax_without_zero  \\\n",
       "0         0.5         0.6                  0.55                  0.64   \n",
       "1         0.0         0.0                   0.1                   0.1   \n",
       "2         1.0         1.0                   1.0                   1.0   \n",
       "\n",
       "  0_target_01 1_target_01 0_target_without_zero 1_target_without_zero  \\\n",
       "0       0.625         0.5                0.6625                  0.55   \n",
       "1        0.25         0.0                 0.325                   0.1   \n",
       "2         1.0    0.833333                   1.0                  0.85   \n",
       "\n",
       "  0_standardized_any 1_standardized_any 0_standardized_without_zero  \\\n",
       "0                0.0           0.132453                         1.1   \n",
       "1               -1.0          -1.059626                         0.1   \n",
       "2                1.0           0.927173                         2.1   \n",
       "\n",
       "  1_standardized_without_zero 0_rank 1_rank  \n",
       "0                    1.292079    2.0    2.0  \n",
       "1                         0.1    1.0    1.0  \n",
       "2                    2.086799    3.0    3.0  "
      ]
     },
     "execution_count": 4,
     "metadata": {},
     "output_type": "execute_result"
    }
   ],
   "source": [
    "promcda.normalize()"
   ]
  },
  {
   "cell_type": "code",
   "execution_count": 5,
   "id": "1aec0eab-5c5a-4279-91b1-891a3fc9a868",
   "metadata": {},
   "outputs": [
    {
     "name": "stdout",
     "output_type": "stream",
     "text": [
      "INFO: 2024-11-15 15:31:17,583 - ProMCDA - Alternatives are ['A', 'B', 'C']\n",
      "0\n",
      "1\n",
      "0\n",
      "1\n"
     ]
    },
    {
     "data": {
      "text/html": [
       "<div>\n",
       "<style scoped>\n",
       "    .dataframe tbody tr th:only-of-type {\n",
       "        vertical-align: middle;\n",
       "    }\n",
       "\n",
       "    .dataframe tbody tr th {\n",
       "        vertical-align: top;\n",
       "    }\n",
       "\n",
       "    .dataframe thead th {\n",
       "        text-align: right;\n",
       "    }\n",
       "</style>\n",
       "<table border=\"1\" class=\"dataframe\">\n",
       "  <thead>\n",
       "    <tr style=\"text-align: right;\">\n",
       "      <th></th>\n",
       "      <th>0_target_01</th>\n",
       "      <th>1_target_01</th>\n",
       "      <th>0_target_without_zero</th>\n",
       "      <th>1_target_without_zero</th>\n",
       "    </tr>\n",
       "  </thead>\n",
       "  <tbody>\n",
       "    <tr>\n",
       "      <th>0</th>\n",
       "      <td>0.625</td>\n",
       "      <td>0.5</td>\n",
       "      <td>0.6625</td>\n",
       "      <td>0.55</td>\n",
       "    </tr>\n",
       "    <tr>\n",
       "      <th>1</th>\n",
       "      <td>0.25</td>\n",
       "      <td>0.0</td>\n",
       "      <td>0.325</td>\n",
       "      <td>0.1</td>\n",
       "    </tr>\n",
       "    <tr>\n",
       "      <th>2</th>\n",
       "      <td>1.0</td>\n",
       "      <td>0.833333</td>\n",
       "      <td>1.0</td>\n",
       "      <td>0.85</td>\n",
       "    </tr>\n",
       "  </tbody>\n",
       "</table>\n",
       "</div>"
      ],
      "text/plain": [
       "  0_target_01 1_target_01 0_target_without_zero 1_target_without_zero\n",
       "0       0.625         0.5                0.6625                  0.55\n",
       "1        0.25         0.0                 0.325                   0.1\n",
       "2         1.0    0.833333                   1.0                  0.85"
      ]
     },
     "execution_count": 5,
     "metadata": {},
     "output_type": "execute_result"
    }
   ],
   "source": [
    "promcda.normalize(\"target\")"
   ]
  },
  {
   "cell_type": "code",
   "execution_count": 6,
   "id": "e857a02a-aae8-453a-a302-46844c3e610f",
   "metadata": {},
   "outputs": [
    {
     "name": "stdout",
     "output_type": "stream",
     "text": [
      "INFO: 2024-11-15 15:31:20,745 - ProMCDA - Alternatives are ['A', 'B', 'C']\n",
      "INFO: 2024-11-15 15:31:20,748 - ProMCDA - Alternatives are ['A', 'B', 'C']\n",
      "0\n",
      "1\n",
      "0\n",
      "1\n",
      "0\n",
      "1\n",
      "0\n",
      "1\n",
      "0\n",
      "1\n",
      "0\n",
      "1\n",
      "0\n",
      "1\n"
     ]
    },
    {
     "data": {
      "text/html": [
       "<div>\n",
       "<style scoped>\n",
       "    .dataframe tbody tr th:only-of-type {\n",
       "        vertical-align: middle;\n",
       "    }\n",
       "\n",
       "    .dataframe tbody tr th {\n",
       "        vertical-align: top;\n",
       "    }\n",
       "\n",
       "    .dataframe thead th {\n",
       "        text-align: right;\n",
       "    }\n",
       "</style>\n",
       "<table border=\"1\" class=\"dataframe\">\n",
       "  <thead>\n",
       "    <tr style=\"text-align: right;\">\n",
       "      <th></th>\n",
       "      <th>minmax_weighted_sum</th>\n",
       "      <th>minmax_geometric</th>\n",
       "      <th>minmax_minimum</th>\n",
       "      <th>target_weighted_sum</th>\n",
       "      <th>target_geometric</th>\n",
       "      <th>target_minimum</th>\n",
       "      <th>standardized_weighted_sum</th>\n",
       "      <th>standardized_geometric</th>\n",
       "      <th>standardized_minimum</th>\n",
       "      <th>rank_weighted_sum</th>\n",
       "      <th>rank_geometric</th>\n",
       "      <th>rank_minimum</th>\n",
       "    </tr>\n",
       "  </thead>\n",
       "  <tbody>\n",
       "    <tr>\n",
       "      <th>0</th>\n",
       "      <td>0.558333</td>\n",
       "      <td>0.600836</td>\n",
       "      <td>0.5</td>\n",
       "      <td>0.552083</td>\n",
       "      <td>0.594346</td>\n",
       "      <td>0.5</td>\n",
       "      <td>0.077264</td>\n",
       "      <td>1.208274</td>\n",
       "      <td>0.0</td>\n",
       "      <td>2.0</td>\n",
       "      <td>NaN</td>\n",
       "      <td>2.0</td>\n",
       "    </tr>\n",
       "    <tr>\n",
       "      <th>1</th>\n",
       "      <td>0.0</td>\n",
       "      <td>0.100000</td>\n",
       "      <td>0.0</td>\n",
       "      <td>0.104167</td>\n",
       "      <td>0.163412</td>\n",
       "      <td>0.0</td>\n",
       "      <td>-1.034782</td>\n",
       "      <td>0.100000</td>\n",
       "      <td>-1.059626</td>\n",
       "      <td>1.0</td>\n",
       "      <td>NaN</td>\n",
       "      <td>1.0</td>\n",
       "    </tr>\n",
       "    <tr>\n",
       "      <th>2</th>\n",
       "      <td>1.0</td>\n",
       "      <td>1.000000</td>\n",
       "      <td>1.0</td>\n",
       "      <td>0.902778</td>\n",
       "      <td>0.909552</td>\n",
       "      <td>0.833333</td>\n",
       "      <td>0.957517</td>\n",
       "      <td>2.092289</td>\n",
       "      <td>0.927173</td>\n",
       "      <td>3.0</td>\n",
       "      <td>NaN</td>\n",
       "      <td>3.0</td>\n",
       "    </tr>\n",
       "  </tbody>\n",
       "</table>\n",
       "</div>"
      ],
      "text/plain": [
       "  minmax_weighted_sum  minmax_geometric minmax_minimum target_weighted_sum  \\\n",
       "0            0.558333          0.600836            0.5            0.552083   \n",
       "1                 0.0          0.100000            0.0            0.104167   \n",
       "2                 1.0          1.000000            1.0            0.902778   \n",
       "\n",
       "   target_geometric target_minimum standardized_weighted_sum  \\\n",
       "0          0.594346            0.5                  0.077264   \n",
       "1          0.163412            0.0                 -1.034782   \n",
       "2          0.909552       0.833333                  0.957517   \n",
       "\n",
       "   standardized_geometric standardized_minimum rank_weighted_sum  \\\n",
       "0                1.208274                  0.0               2.0   \n",
       "1                0.100000            -1.059626               1.0   \n",
       "2                2.092289             0.927173               3.0   \n",
       "\n",
       "   rank_geometric rank_minimum  \n",
       "0             NaN          2.0  \n",
       "1             NaN          1.0  \n",
       "2             NaN          3.0  "
      ]
     },
     "execution_count": 6,
     "metadata": {},
     "output_type": "execute_result"
    }
   ],
   "source": [
    "promcda.aggregate(None, None,[0.5, 0.7])"
   ]
  },
  {
   "cell_type": "code",
   "execution_count": null,
   "id": "6e0949ed-f2a7-4c90-87f8-5d61d27da7ac",
   "metadata": {},
   "outputs": [],
   "source": [
    "promcda.aggregate(\"minmax\", \"geometric\",[0.5, 0.7])"
   ]
  },
  {
   "cell_type": "code",
   "execution_count": null,
   "id": "506619fd-9659-47cd-88fa-7acd985a1071",
   "metadata": {},
   "outputs": [],
   "source": []
  },
  {
   "cell_type": "code",
   "execution_count": null,
   "id": "15bb84ff-e194-4326-a368-c467c9b6e3a7",
   "metadata": {},
   "outputs": [],
   "source": []
  }
 ],
 "metadata": {
  "kernelspec": {
   "display_name": "ProMCDA (Python)",
   "language": "python",
   "name": "promcda"
  },
  "language_info": {
   "codemirror_mode": {
    "name": "ipython",
    "version": 3
   },
   "file_extension": ".py",
   "mimetype": "text/x-python",
   "name": "python",
   "nbconvert_exporter": "python",
   "pygments_lexer": "ipython3",
   "version": "3.9.20"
  }
 },
 "nbformat": 4,
 "nbformat_minor": 5
}
