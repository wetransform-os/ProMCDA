{
 "cells": [
  {
   "cell_type": "code",
   "execution_count": 1,
   "id": "96df2c84-1509-4e93-952a-9beba8d0ec45",
   "metadata": {},
   "outputs": [
    {
     "name": "stdout",
     "output_type": "stream",
     "text": [
      "Import successful!\n"
     ]
    }
   ],
   "source": [
    "import os\n",
    "import sys\n",
    "import pandas as pd\n",
    "\n",
    "package_path = '/Users/flaminia/Documents/work/ProMCDA'\n",
    "\n",
    "if package_path not in sys.path:\n",
    "    sys.path.append(package_path)\n",
    "\n",
    "try:\n",
    "    from mcda.models.ProMCDA import ProMCDA\n",
    "    print(\"Import successful!\")\n",
    "except ModuleNotFoundError as e:\n",
    "    print(f\"ModuleNotFoundError: {e}\")\n",
    "\n",
    "from mcda.configuration.enums import NormalizationFunctions, AggregationFunctions, OutputColumnNames4Sensitivity, NormalizationNames4Sensitivity, PDFType"
   ]
  },
  {
   "cell_type": "code",
   "execution_count": 2,
   "id": "cef40536-5942-44a4-9a2c-2a9e9b02b7a0",
   "metadata": {},
   "outputs": [
    {
     "data": {
      "text/plain": [
       "{'input_matrix':    Criteria 1  Criteria 2\n",
       " A         0.5         0.3\n",
       " B         0.2         0.6\n",
       " C         0.8         0.1,\n",
       " 'polarity': ('+', '-'),\n",
       " 'robustness_weights': False,\n",
       " 'robustness_indicators': False,\n",
       " 'marginal_distributions': [<PDFType.NORMAL: 'normal'>,\n",
       "  <PDFType.NORMAL: 'normal'>],\n",
       " 'num_runs': 5,\n",
       " 'num_cores': 1,\n",
       " 'output_path': 'mock_output/'}"
      ]
     },
     "execution_count": 2,
     "metadata": {},
     "output_type": "execute_result"
    }
   ],
   "source": [
    "def setUp():\n",
    "    \n",
    "    # Mock input data for testing\n",
    "    input_matrix_without_uncertainty = pd.DataFrame({\n",
    "        'Criteria 1': [0.5, 0.2, 0.8],\n",
    "        'Criteria 2': [0.3, 0.6, 0.1]\n",
    "    }, index=['A', 'B', 'C'])\n",
    "\n",
    "    input_matrix_with_uncertainty = pd.DataFrame({\n",
    "    'alternatives': ['alt1', 'alt2', 'alt3', 'alt4'],\n",
    "    'ind1_min': [-15.20, -12.40, 10.60, -39.70],\n",
    "    'ind1_max': [8.20, 8.70, 2.00, 14.00],\n",
    "    'ind2': [0.04, 0.05, 0.11, 0.01],\n",
    "    'ind3_average': [24.50, 24.50, 14.00, 26.50],\n",
    "    'ind3_std': [6.20, 4.80, 0.60, 4.41],\n",
    "    'ind4_average': [-15.20, -12.40, 1.60, -39.70],\n",
    "    'ind4_std': [8.20, 8.70, 2.00, 14.00],\n",
    "    'ind5': [0.04, 0.05, 0.11, 0.01],\n",
    "    'ind6_average': [24.50, 24.50, 14.00, 26.50],\n",
    "    'ind6_std': [6.20, 4.80, 0.60, 4.41]\n",
    "    })\n",
    "   \n",
    "    input_matrix_with_uncertainty.set_index('alternatives', inplace=True)\n",
    "\n",
    "    polarity = ('+', '-')\n",
    "\n",
    "    robustness_weights = False\n",
    "    robustness_indicators = False\n",
    "\n",
    "    marginal_distributions = [PDFType.NORMAL, PDFType.NORMAL]\n",
    "\n",
    "    num_runs = 5\n",
    "    num_cores = 1\n",
    "\n",
    "    output_path = 'mock_output/'\n",
    "\n",
    "    # Return the setup parameters as a dictionary\n",
    "    return {\n",
    "        'input_matrix': input_matrix_without_uncertainty, # Decide what type of input matrix\n",
    "        'polarity': polarity,\n",
    "        'robustness_weights': robustness_weights,\n",
    "        'robustness_indicators': robustness_indicators,\n",
    "        'marginal_distributions': marginal_distributions,\n",
    "        'num_runs': num_runs,\n",
    "        'num_cores': num_cores,\n",
    "        'output_path': output_path\n",
    "    }\n",
    "\n",
    "# Run the setup and store parameters in a variable\n",
    "setup_parameters = setUp()\n",
    "\n",
    "# Check the setup parameters\n",
    "setup_parameters"
   ]
  },
  {
   "cell_type": "code",
   "execution_count": 3,
   "id": "cd0e175f-9d59-4c96-bcb5-a53d8555988c",
   "metadata": {},
   "outputs": [
    {
     "name": "stdout",
     "output_type": "stream",
     "text": [
      "INFO: 2024-12-03 17:26:36,915 - ProMCDA - Alternatives are ['A', 'B', 'C']\n"
     ]
    }
   ],
   "source": [
    "promcda = ProMCDA(\n",
    "    input_matrix=setup_parameters['input_matrix'],\n",
    "    polarity=setup_parameters['polarity'],\n",
    "    robustness_weights=setup_parameters['robustness_weights'],\n",
    "    robustness_indicators=setup_parameters['robustness_indicators'],\n",
    "    marginal_distributions=setup_parameters['marginal_distributions'],\n",
    "    num_runs=setup_parameters['num_runs'],\n",
    "    num_cores=setup_parameters['num_cores'],\n",
    "    #output_path=setup_parameters['output_path']\n",
    ")"
   ]
  },
  {
   "cell_type": "code",
   "execution_count": 4,
   "id": "1518d4a0-9351-4a5e-91db-806f21d32e96",
   "metadata": {
    "scrolled": true
   },
   "outputs": [],
   "source": [
    "#promcda.normalize()"
   ]
  },
  {
   "cell_type": "code",
   "execution_count": 5,
   "id": "1aec0eab-5c5a-4279-91b1-891a3fc9a868",
   "metadata": {},
   "outputs": [
    {
     "data": {
      "text/html": [
       "<div>\n",
       "<style scoped>\n",
       "    .dataframe tbody tr th:only-of-type {\n",
       "        vertical-align: middle;\n",
       "    }\n",
       "\n",
       "    .dataframe tbody tr th {\n",
       "        vertical-align: top;\n",
       "    }\n",
       "\n",
       "    .dataframe thead th {\n",
       "        text-align: right;\n",
       "    }\n",
       "</style>\n",
       "<table border=\"1\" class=\"dataframe\">\n",
       "  <thead>\n",
       "    <tr style=\"text-align: right;\">\n",
       "      <th></th>\n",
       "      <th>Criteria 1_minmax_01</th>\n",
       "      <th>Criteria 2_minmax_01</th>\n",
       "      <th>Criteria 1_minmax_without_zero</th>\n",
       "      <th>Criteria 2_minmax_without_zero</th>\n",
       "    </tr>\n",
       "  </thead>\n",
       "  <tbody>\n",
       "    <tr>\n",
       "      <th>0</th>\n",
       "      <td>0.5</td>\n",
       "      <td>0.6</td>\n",
       "      <td>0.55</td>\n",
       "      <td>0.64</td>\n",
       "    </tr>\n",
       "    <tr>\n",
       "      <th>1</th>\n",
       "      <td>0.0</td>\n",
       "      <td>0.0</td>\n",
       "      <td>0.1</td>\n",
       "      <td>0.1</td>\n",
       "    </tr>\n",
       "    <tr>\n",
       "      <th>2</th>\n",
       "      <td>1.0</td>\n",
       "      <td>1.0</td>\n",
       "      <td>1.0</td>\n",
       "      <td>1.0</td>\n",
       "    </tr>\n",
       "  </tbody>\n",
       "</table>\n",
       "</div>"
      ],
      "text/plain": [
       "  Criteria 1_minmax_01 Criteria 2_minmax_01 Criteria 1_minmax_without_zero  \\\n",
       "0                  0.5                  0.6                           0.55   \n",
       "1                  0.0                  0.0                            0.1   \n",
       "2                  1.0                  1.0                            1.0   \n",
       "\n",
       "  Criteria 2_minmax_without_zero  \n",
       "0                           0.64  \n",
       "1                            0.1  \n",
       "2                            1.0  "
      ]
     },
     "execution_count": 5,
     "metadata": {},
     "output_type": "execute_result"
    }
   ],
   "source": [
    "promcda.normalize(NormalizationFunctions.MINMAX)"
   ]
  },
  {
   "cell_type": "code",
   "execution_count": 6,
   "id": "0038ddb3-5499-4fd4-a5de-d785593885a9",
   "metadata": {},
   "outputs": [
    {
     "name": "stdout",
     "output_type": "stream",
     "text": [
      "  Criteria 1_minmax_01 Criteria 2_minmax_01 Criteria 1_minmax_without_zero  \\\n",
      "0                  0.5                  0.6                           0.55   \n",
      "1                  0.0                  0.0                            0.1   \n",
      "2                  1.0                  1.0                            1.0   \n",
      "\n",
      "  Criteria 2_minmax_without_zero  \n",
      "0                           0.64  \n",
      "1                            0.1  \n",
      "2                            1.0  \n"
     ]
    }
   ],
   "source": [
    "print(promcda.normalized_values_without_robustness)"
   ]
  },
  {
   "cell_type": "code",
   "execution_count": 7,
   "id": "e857a02a-aae8-453a-a302-46844c3e610f",
   "metadata": {},
   "outputs": [
    {
     "name": "stdout",
     "output_type": "stream",
     "text": [
      "Normalization method minmax\n",
      "Entering weighted sum\n",
      "Columns:   Criteria 1_minmax_01 Criteria 2_minmax_01\n",
      "0                  0.5                  0.6\n",
      "1                  0.0                  0.0\n",
      "2                  1.0                  1.0\n",
      "Normalized indicators shape: (3, 2)\n",
      "Weights: [0.5, 0.5]\n"
     ]
    },
    {
     "data": {
      "text/html": [
       "<div>\n",
       "<style scoped>\n",
       "    .dataframe tbody tr th:only-of-type {\n",
       "        vertical-align: middle;\n",
       "    }\n",
       "\n",
       "    .dataframe tbody tr th {\n",
       "        vertical-align: top;\n",
       "    }\n",
       "\n",
       "    .dataframe thead th {\n",
       "        text-align: right;\n",
       "    }\n",
       "</style>\n",
       "<table border=\"1\" class=\"dataframe\">\n",
       "  <thead>\n",
       "    <tr style=\"text-align: right;\">\n",
       "      <th></th>\n",
       "      <th>minmax_weighted_sum</th>\n",
       "    </tr>\n",
       "  </thead>\n",
       "  <tbody>\n",
       "    <tr>\n",
       "      <th>0</th>\n",
       "      <td>0.55</td>\n",
       "    </tr>\n",
       "    <tr>\n",
       "      <th>1</th>\n",
       "      <td>0.0</td>\n",
       "    </tr>\n",
       "    <tr>\n",
       "      <th>2</th>\n",
       "      <td>1.0</td>\n",
       "    </tr>\n",
       "  </tbody>\n",
       "</table>\n",
       "</div>"
      ],
      "text/plain": [
       "  minmax_weighted_sum\n",
       "0                0.55\n",
       "1                 0.0\n",
       "2                 1.0"
      ]
     },
     "execution_count": 7,
     "metadata": {},
     "output_type": "execute_result"
    }
   ],
   "source": [
    "promcda.aggregate(aggregation_method=AggregationFunctions.WEIGHTED_SUM, weights=None)"
   ]
  },
  {
   "cell_type": "code",
   "execution_count": null,
   "id": "506619fd-9659-47cd-88fa-7acd985a1071",
   "metadata": {},
   "outputs": [],
   "source": []
  },
  {
   "cell_type": "code",
   "execution_count": null,
   "id": "15bb84ff-e194-4326-a368-c467c9b6e3a7",
   "metadata": {},
   "outputs": [],
   "source": []
  }
 ],
 "metadata": {
  "kernelspec": {
   "display_name": "ProMCDA (Python)",
   "language": "python",
   "name": "promcda"
  },
  "language_info": {
   "codemirror_mode": {
    "name": "ipython",
    "version": 3
   },
   "file_extension": ".py",
   "mimetype": "text/x-python",
   "name": "python",
   "nbconvert_exporter": "python",
   "pygments_lexer": "ipython3",
   "version": "3.9.20"
  }
 },
 "nbformat": 4,
 "nbformat_minor": 5
}
