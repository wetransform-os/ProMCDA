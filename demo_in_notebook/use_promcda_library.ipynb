{
 "cells": [
  {
   "cell_type": "code",
   "execution_count": 7,
   "id": "96df2c84-1509-4e93-952a-9beba8d0ec45",
   "metadata": {},
   "outputs": [
    {
     "name": "stdout",
     "output_type": "stream",
     "text": [
      "Import successful!\n"
     ]
    }
   ],
   "source": [
    "import os\n",
    "import sys\n",
    "import pandas as pd\n",
    "\n",
    "package_path = '/Users/flaminia/Documents/work/ProMCDA'\n",
    "\n",
    "if package_path not in sys.path:\n",
    "    sys.path.append(package_path)\n",
    "\n",
    "try:\n",
    "    from mcda.models.ProMCDA import ProMCDA\n",
    "    print(\"Import successful!\")\n",
    "except ModuleNotFoundError as e:\n",
    "    print(f\"ModuleNotFoundError: {e}\")\n",
    "\n",
    "from mcda.configuration.enums import NormalizationFunctions, AggregationFunctions, OutputColumnNames4Sensitivity, NormalizationNames4Sensitivity, PDFType"
   ]
  },
  {
   "cell_type": "code",
   "execution_count": 8,
   "id": "cef40536-5942-44a4-9a2c-2a9e9b02b7a0",
   "metadata": {},
   "outputs": [
    {
     "data": {
      "text/plain": [
       "{'input_matrix':               ind1_min  ind1_max  ind2  ind3_average  ind3_std  ind4_average  \\\n",
       " alternatives                                                                   \n",
       " alt1             -15.2       8.2  0.04          24.5      6.20         -15.2   \n",
       " alt2             -12.4       8.7  0.05          24.5      4.80         -12.4   \n",
       " alt3              10.6       2.0  0.11          14.0      0.60           1.6   \n",
       " alt4             -39.7      14.0  0.01          26.5      4.41         -39.7   \n",
       " \n",
       "               ind4_std  ind5  ind6_average  ind6_std  \n",
       " alternatives                                          \n",
       " alt1               8.2  0.04          24.5      6.20  \n",
       " alt2               8.7  0.05          24.5      4.80  \n",
       " alt3               2.0  0.11          14.0      0.60  \n",
       " alt4              14.0  0.01          26.5      4.41  ,\n",
       " 'polarity': ('+', '-'),\n",
       " 'robustness_weights': False,\n",
       " 'robustness_indicators': True,\n",
       " 'marginal_distributions': [<PDFType.NORMAL: 'normal'>,\n",
       "  <PDFType.NORMAL: 'normal'>],\n",
       " 'num_runs': 5,\n",
       " 'num_cores': 1,\n",
       " 'output_path': 'mock_output/'}"
      ]
     },
     "execution_count": 8,
     "metadata": {},
     "output_type": "execute_result"
    }
   ],
   "source": [
    "def setUp():\n",
    "    \n",
    "    # Mock input data for testing\n",
    "    input_matrix_without_uncertainty = pd.DataFrame({\n",
    "        'Criteria 1': [0.5, 0.2, 0.8],\n",
    "        'Criteria 2': [0.3, 0.6, 0.1]\n",
    "    }, index=['A', 'B', 'C'])\n",
    "\n",
    "    input_matrix_with_uncertainty = pd.DataFrame({\n",
    "    'alternatives': ['alt1', 'alt2', 'alt3', 'alt4'],\n",
    "    'ind1_min': [-15.20, -12.40, 10.60, -39.70],\n",
    "    'ind1_max': [8.20, 8.70, 2.00, 14.00],\n",
    "    'ind2': [0.04, 0.05, 0.11, 0.01],\n",
    "    'ind3_average': [24.50, 24.50, 14.00, 26.50],\n",
    "    'ind3_std': [6.20, 4.80, 0.60, 4.41],\n",
    "    'ind4_average': [-15.20, -12.40, 1.60, -39.70],\n",
    "    'ind4_std': [8.20, 8.70, 2.00, 14.00],\n",
    "    'ind5': [0.04, 0.05, 0.11, 0.01],\n",
    "    'ind6_average': [24.50, 24.50, 14.00, 26.50],\n",
    "    'ind6_std': [6.20, 4.80, 0.60, 4.41]\n",
    "    })\n",
    "   \n",
    "    input_matrix_with_uncertainty.set_index('alternatives', inplace=True)\n",
    "\n",
    "    polarity = ('+', '-')\n",
    "\n",
    "    robustness_weights = False\n",
    "    robustness_indicators = True\n",
    "\n",
    "    marginal_distributions = [PDFType.NORMAL, PDFType.NORMAL]\n",
    "\n",
    "    num_runs = 5\n",
    "    num_cores = 1\n",
    "\n",
    "    output_path = 'mock_output/'\n",
    "\n",
    "    # Return the setup parameters as a dictionary\n",
    "    return {\n",
    "        'input_matrix': input_matrix_with_uncertainty, # Decide what type of input matrix\n",
    "        'polarity': polarity,\n",
    "        'robustness_weights': robustness_weights,\n",
    "        'robustness_indicators': robustness_indicators,\n",
    "        'marginal_distributions': marginal_distributions,\n",
    "        'num_runs': num_runs,\n",
    "        'num_cores': num_cores,\n",
    "        'output_path': output_path\n",
    "    }\n",
    "\n",
    "# Run the setup and store parameters in a variable\n",
    "setup_parameters = setUp()\n",
    "\n",
    "# Check the setup parameters\n",
    "setup_parameters"
   ]
  },
  {
   "cell_type": "code",
   "execution_count": 9,
   "id": "cd0e175f-9d59-4c96-bcb5-a53d8555988c",
   "metadata": {},
   "outputs": [],
   "source": [
    "promcda = ProMCDA(\n",
    "    input_matrix=setup_parameters['input_matrix'],\n",
    "    polarity=setup_parameters['polarity'],\n",
    "    robustness_weights=setup_parameters['robustness_weights'],\n",
    "    robustness_indicators=setup_parameters['robustness_indicators'],\n",
    "    marginal_distributions=setup_parameters['marginal_distributions'],\n",
    "    num_runs=setup_parameters['num_runs'],\n",
    "    num_cores=setup_parameters['num_cores'],\n",
    "    #output_path=setup_parameters['output_path']\n",
    ")"
   ]
  },
  {
   "cell_type": "code",
   "execution_count": 10,
   "id": "1518d4a0-9351-4a5e-91db-806f21d32e96",
   "metadata": {
    "scrolled": true
   },
   "outputs": [
    {
     "name": "stdout",
     "output_type": "stream",
     "text": [
      "INFO: 2024-11-27 15:37:19,707 - ProMCDA - Alternatives are ['alt1', 'alt2', 'alt3', 'alt4']\n",
      "INFO: 2024-11-27 15:37:19,713 - ProMCDA - There is a problem with the parameters given in the input matrix with uncertainties. Check your data!\n",
      "INFO: 2024-11-27 15:37:19,714 - ProMCDA - Either standard deviation values of normal/lognormal indicators are larger than their means\n",
      "INFO: 2024-11-27 15:37:19,715 - ProMCDA - or max. values of uniform distributed indicators are smaller than their min. values.\n",
      "INFO: 2024-11-27 15:37:19,716 - ProMCDA - If you continue, the negative values will be rescaled internally to a positive range.\n"
     ]
    },
    {
     "data": {
      "text/plain": [
       "'5 normalized matrices have been normalized.'"
      ]
     },
     "execution_count": 10,
     "metadata": {},
     "output_type": "execute_result"
    }
   ],
   "source": [
    "promcda.normalize()"
   ]
  },
  {
   "cell_type": "code",
   "execution_count": 11,
   "id": "1aec0eab-5c5a-4279-91b1-891a3fc9a868",
   "metadata": {},
   "outputs": [
    {
     "name": "stdout",
     "output_type": "stream",
     "text": [
      "INFO: 2024-11-27 15:39:18,726 - ProMCDA - Alternatives are ['alt1', 'alt2', 'alt3', 'alt4']\n",
      "INFO: 2024-11-27 15:39:18,735 - ProMCDA - There is a problem with the parameters given in the input matrix with uncertainties. Check your data!\n",
      "INFO: 2024-11-27 15:39:18,736 - ProMCDA - Either standard deviation values of normal/lognormal indicators are larger than their means\n",
      "INFO: 2024-11-27 15:39:18,737 - ProMCDA - or max. values of uniform distributed indicators are smaller than their min. values.\n",
      "INFO: 2024-11-27 15:39:18,738 - ProMCDA - If you continue, the negative values will be rescaled internally to a positive range.\n",
      "ERROR: 2024-11-27 15:39:19,851 - ProMCDA utils for parallelization - Error Message\n",
      "Stack (most recent call last):\n",
      "  File \"<string>\", line 1, in <module>\n",
      "  File \"/opt/homebrew/Caskroom/miniforge/base/envs/ProMCDA/lib/python3.9/multiprocessing/spawn.py\", line 116, in spawn_main\n",
      "    exitcode = _main(fd, parent_sentinel)\n",
      "  File \"/opt/homebrew/Caskroom/miniforge/base/envs/ProMCDA/lib/python3.9/multiprocessing/spawn.py\", line 129, in _main\n",
      "    return self._bootstrap(parent_sentinel)\n",
      "  File \"/opt/homebrew/Caskroom/miniforge/base/envs/ProMCDA/lib/python3.9/multiprocessing/process.py\", line 315, in _bootstrap\n",
      "    self.run()\n",
      "  File \"/opt/homebrew/Caskroom/miniforge/base/envs/ProMCDA/lib/python3.9/multiprocessing/process.py\", line 108, in run\n",
      "    self._target(*self._args, **self._kwargs)\n",
      "  File \"/opt/homebrew/Caskroom/miniforge/base/envs/ProMCDA/lib/python3.9/multiprocessing/pool.py\", line 125, in worker\n",
      "    result = (True, func(*args, **kwds))\n",
      "  File \"/opt/homebrew/Caskroom/miniforge/base/envs/ProMCDA/lib/python3.9/multiprocessing/pool.py\", line 48, in mapstar\n",
      "    return list(map(*args))\n",
      "  File \"/Users/flaminia/Documents/work/ProMCDA/mcda/utils/utils_for_parallelization.py\", line 95, in initialize_and_call_normalization\n",
      "    dict_normalized_matrix = normalize_indicators_in_parallel(norm, method)\n",
      "  File \"/Users/flaminia/Documents/work/ProMCDA/mcda/utils/utils_for_parallelization.py\", line 151, in normalize_indicators_in_parallel\n",
      "    logger.error('Error Message', stack_info=True)\n",
      "ERROR: 2024-11-27 15:39:19,897 - ProMCDA utils for parallelization - Error Message\n",
      "Stack (most recent call last):\n",
      "  File \"<string>\", line 1, in <module>\n",
      "  File \"/opt/homebrew/Caskroom/miniforge/base/envs/ProMCDA/lib/python3.9/multiprocessing/spawn.py\", line 116, in spawn_main\n",
      "    exitcode = _main(fd, parent_sentinel)\n",
      "  File \"/opt/homebrew/Caskroom/miniforge/base/envs/ProMCDA/lib/python3.9/multiprocessing/spawn.py\", line 129, in _main\n",
      "    return self._bootstrap(parent_sentinel)\n",
      "  File \"/opt/homebrew/Caskroom/miniforge/base/envs/ProMCDA/lib/python3.9/multiprocessing/process.py\", line 315, in _bootstrap\n",
      "    self.run()\n",
      "  File \"/opt/homebrew/Caskroom/miniforge/base/envs/ProMCDA/lib/python3.9/multiprocessing/process.py\", line 108, in run\n",
      "    self._target(*self._args, **self._kwargs)\n",
      "  File \"/opt/homebrew/Caskroom/miniforge/base/envs/ProMCDA/lib/python3.9/multiprocessing/pool.py\", line 125, in worker\n",
      "    result = (True, func(*args, **kwds))\n",
      "  File \"/opt/homebrew/Caskroom/miniforge/base/envs/ProMCDA/lib/python3.9/multiprocessing/pool.py\", line 48, in mapstar\n",
      "    return list(map(*args))\n",
      "  File \"/Users/flaminia/Documents/work/ProMCDA/mcda/utils/utils_for_parallelization.py\", line 95, in initialize_and_call_normalization\n",
      "    dict_normalized_matrix = normalize_indicators_in_parallel(norm, method)\n",
      "  File \"/Users/flaminia/Documents/work/ProMCDA/mcda/utils/utils_for_parallelization.py\", line 151, in normalize_indicators_in_parallel\n",
      "    logger.error('Error Message', stack_info=True)\n",
      "ERROR: 2024-11-27 15:39:19,898 - ProMCDA utils for parallelization - Error Message\n",
      "Stack (most recent call last):\n",
      "  File \"<string>\", line 1, in <module>\n",
      "  File \"/opt/homebrew/Caskroom/miniforge/base/envs/ProMCDA/lib/python3.9/multiprocessing/spawn.py\", line 116, in spawn_main\n",
      "    exitcode = _main(fd, parent_sentinel)\n",
      "  File \"/opt/homebrew/Caskroom/miniforge/base/envs/ProMCDA/lib/python3.9/multiprocessing/spawn.py\", line 129, in _main\n",
      "    return self._bootstrap(parent_sentinel)\n",
      "  File \"/opt/homebrew/Caskroom/miniforge/base/envs/ProMCDA/lib/python3.9/multiprocessing/process.py\", line 315, in _bootstrap\n",
      "    self.run()\n",
      "  File \"/opt/homebrew/Caskroom/miniforge/base/envs/ProMCDA/lib/python3.9/multiprocessing/process.py\", line 108, in run\n",
      "    self._target(*self._args, **self._kwargs)\n",
      "  File \"/opt/homebrew/Caskroom/miniforge/base/envs/ProMCDA/lib/python3.9/multiprocessing/pool.py\", line 125, in worker\n",
      "    result = (True, func(*args, **kwds))\n",
      "  File \"/opt/homebrew/Caskroom/miniforge/base/envs/ProMCDA/lib/python3.9/multiprocessing/pool.py\", line 48, in mapstar\n",
      "    return list(map(*args))\n",
      "  File \"/Users/flaminia/Documents/work/ProMCDA/mcda/utils/utils_for_parallelization.py\", line 95, in initialize_and_call_normalization\n",
      "    dict_normalized_matrix = normalize_indicators_in_parallel(norm, method)\n",
      "  File \"/Users/flaminia/Documents/work/ProMCDA/mcda/utils/utils_for_parallelization.py\", line 151, in normalize_indicators_in_parallel\n",
      "    logger.error('Error Message', stack_info=True)\n",
      "ERROR: 2024-11-27 15:39:19,899 - ProMCDA utils for parallelization - Error Message\n",
      "Stack (most recent call last):\n",
      "  File \"<string>\", line 1, in <module>\n",
      "  File \"/opt/homebrew/Caskroom/miniforge/base/envs/ProMCDA/lib/python3.9/multiprocessing/spawn.py\", line 116, in spawn_main\n",
      "    exitcode = _main(fd, parent_sentinel)\n",
      "  File \"/opt/homebrew/Caskroom/miniforge/base/envs/ProMCDA/lib/python3.9/multiprocessing/spawn.py\", line 129, in _main\n",
      "    return self._bootstrap(parent_sentinel)\n",
      "  File \"/opt/homebrew/Caskroom/miniforge/base/envs/ProMCDA/lib/python3.9/multiprocessing/process.py\", line 315, in _bootstrap\n",
      "    self.run()\n",
      "  File \"/opt/homebrew/Caskroom/miniforge/base/envs/ProMCDA/lib/python3.9/multiprocessing/process.py\", line 108, in run\n",
      "    self._target(*self._args, **self._kwargs)\n",
      "  File \"/opt/homebrew/Caskroom/miniforge/base/envs/ProMCDA/lib/python3.9/multiprocessing/pool.py\", line 125, in worker\n",
      "    result = (True, func(*args, **kwds))\n",
      "  File \"/opt/homebrew/Caskroom/miniforge/base/envs/ProMCDA/lib/python3.9/multiprocessing/pool.py\", line 48, in mapstar\n",
      "    return list(map(*args))\n",
      "  File \"/Users/flaminia/Documents/work/ProMCDA/mcda/utils/utils_for_parallelization.py\", line 95, in initialize_and_call_normalization\n",
      "    dict_normalized_matrix = normalize_indicators_in_parallel(norm, method)\n",
      "  File \"/Users/flaminia/Documents/work/ProMCDA/mcda/utils/utils_for_parallelization.py\", line 151, in normalize_indicators_in_parallel\n",
      "    logger.error('Error Message', stack_info=True)\n",
      "ERROR: 2024-11-27 15:39:19,903 - ProMCDA utils for parallelization - Error Message\n",
      "Stack (most recent call last):\n",
      "  File \"<string>\", line 1, in <module>\n",
      "  File \"/opt/homebrew/Caskroom/miniforge/base/envs/ProMCDA/lib/python3.9/multiprocessing/spawn.py\", line 116, in spawn_main\n",
      "    exitcode = _main(fd, parent_sentinel)\n",
      "  File \"/opt/homebrew/Caskroom/miniforge/base/envs/ProMCDA/lib/python3.9/multiprocessing/spawn.py\", line 129, in _main\n",
      "    return self._bootstrap(parent_sentinel)\n",
      "  File \"/opt/homebrew/Caskroom/miniforge/base/envs/ProMCDA/lib/python3.9/multiprocessing/process.py\", line 315, in _bootstrap\n",
      "    self.run()\n",
      "  File \"/opt/homebrew/Caskroom/miniforge/base/envs/ProMCDA/lib/python3.9/multiprocessing/process.py\", line 108, in run\n",
      "    self._target(*self._args, **self._kwargs)\n",
      "  File \"/opt/homebrew/Caskroom/miniforge/base/envs/ProMCDA/lib/python3.9/multiprocessing/pool.py\", line 125, in worker\n",
      "    result = (True, func(*args, **kwds))\n",
      "  File \"/opt/homebrew/Caskroom/miniforge/base/envs/ProMCDA/lib/python3.9/multiprocessing/pool.py\", line 48, in mapstar\n",
      "    return list(map(*args))\n",
      "  File \"/Users/flaminia/Documents/work/ProMCDA/mcda/utils/utils_for_parallelization.py\", line 95, in initialize_and_call_normalization\n",
      "    dict_normalized_matrix = normalize_indicators_in_parallel(norm, method)\n",
      "  File \"/Users/flaminia/Documents/work/ProMCDA/mcda/utils/utils_for_parallelization.py\", line 151, in normalize_indicators_in_parallel\n",
      "    logger.error('Error Message', stack_info=True)\n"
     ]
    },
    {
     "ename": "ValueError",
     "evalue": "The selected normalization method is not supported",
     "output_type": "error",
     "traceback": [
      "\u001b[0;31m---------------------------------------------------------------------------\u001b[0m",
      "\u001b[0;31mRemoteTraceback\u001b[0m                           Traceback (most recent call last)",
      "\u001b[0;31mRemoteTraceback\u001b[0m: \n\"\"\"\nTraceback (most recent call last):\n  File \"/opt/homebrew/Caskroom/miniforge/base/envs/ProMCDA/lib/python3.9/multiprocessing/pool.py\", line 125, in worker\n    result = (True, func(*args, **kwds))\n  File \"/opt/homebrew/Caskroom/miniforge/base/envs/ProMCDA/lib/python3.9/multiprocessing/pool.py\", line 48, in mapstar\n    return list(map(*args))\n  File \"/Users/flaminia/Documents/work/ProMCDA/mcda/utils/utils_for_parallelization.py\", line 95, in initialize_and_call_normalization\n    dict_normalized_matrix = normalize_indicators_in_parallel(norm, method)\n  File \"/Users/flaminia/Documents/work/ProMCDA/mcda/utils/utils_for_parallelization.py\", line 152, in normalize_indicators_in_parallel\n    raise ValueError('The selected normalization method is not supported')\nValueError: The selected normalization method is not supported\n\"\"\"",
      "\nThe above exception was the direct cause of the following exception:\n",
      "\u001b[0;31mValueError\u001b[0m                                Traceback (most recent call last)",
      "\u001b[0;32m/var/folders/mt/lx9bxf895gq_bfbn6l6_m3kr0000gn/T/ipykernel_26019/425727362.py\u001b[0m in \u001b[0;36m<module>\u001b[0;34m\u001b[0m\n\u001b[0;32m----> 1\u001b[0;31m \u001b[0mpromcda\u001b[0m\u001b[0;34m.\u001b[0m\u001b[0mnormalize\u001b[0m\u001b[0;34m(\u001b[0m\u001b[0;34m\"target\"\u001b[0m\u001b[0;34m)\u001b[0m\u001b[0;34m\u001b[0m\u001b[0;34m\u001b[0m\u001b[0m\n\u001b[0m",
      "\u001b[0;32m~/Documents/work/ProMCDA/mcda/models/ProMCDA.py\u001b[0m in \u001b[0;36mnormalize\u001b[0;34m(self, method)\u001b[0m\n\u001b[1;32m    131\u001b[0m                     n_random_input_matrices, self.polarity)\n\u001b[1;32m    132\u001b[0m             \u001b[0;32melse\u001b[0m\u001b[0;34m:\u001b[0m\u001b[0;34m\u001b[0m\u001b[0;34m\u001b[0m\u001b[0m\n\u001b[0;32m--> 133\u001b[0;31m                 n_normalized_input_matrices = utils_for_parallelization.parallelize_normalization(\n\u001b[0m\u001b[1;32m    134\u001b[0m                     n_random_input_matrices, self.polarity, method)\n\u001b[1;32m    135\u001b[0m \u001b[0;34m\u001b[0m\u001b[0m\n",
      "\u001b[0;32m~/Documents/work/ProMCDA/mcda/utils/utils_for_parallelization.py\u001b[0m in \u001b[0;36mparallelize_normalization\u001b[0;34m(input_matrices, polar, method)\u001b[0m\n\u001b[1;32m    289\u001b[0m     \u001b[0mpool\u001b[0m \u001b[0;34m=\u001b[0m \u001b[0mmultiprocessing\u001b[0m\u001b[0;34m.\u001b[0m\u001b[0mPool\u001b[0m\u001b[0;34m(\u001b[0m\u001b[0;34m)\u001b[0m\u001b[0;34m\u001b[0m\u001b[0;34m\u001b[0m\u001b[0m\n\u001b[1;32m    290\u001b[0m     \u001b[0margs_for_parallel_norm\u001b[0m \u001b[0;34m=\u001b[0m \u001b[0;34m[\u001b[0m\u001b[0;34m(\u001b[0m\u001b[0mdf\u001b[0m\u001b[0;34m,\u001b[0m \u001b[0mpolar\u001b[0m\u001b[0;34m,\u001b[0m \u001b[0mmethod\u001b[0m\u001b[0;34m)\u001b[0m \u001b[0;32mfor\u001b[0m \u001b[0mdf\u001b[0m \u001b[0;32min\u001b[0m \u001b[0minput_matrices\u001b[0m\u001b[0;34m]\u001b[0m\u001b[0;34m\u001b[0m\u001b[0;34m\u001b[0m\u001b[0m\n\u001b[0;32m--> 291\u001b[0;31m     \u001b[0mres\u001b[0m \u001b[0;34m=\u001b[0m \u001b[0mpool\u001b[0m\u001b[0;34m.\u001b[0m\u001b[0mmap\u001b[0m\u001b[0;34m(\u001b[0m\u001b[0minitialize_and_call_normalization\u001b[0m\u001b[0;34m,\u001b[0m \u001b[0margs_for_parallel_norm\u001b[0m\u001b[0;34m)\u001b[0m\u001b[0;34m\u001b[0m\u001b[0;34m\u001b[0m\u001b[0m\n\u001b[0m\u001b[1;32m    292\u001b[0m     \u001b[0mpool\u001b[0m\u001b[0;34m.\u001b[0m\u001b[0mclose\u001b[0m\u001b[0;34m(\u001b[0m\u001b[0;34m)\u001b[0m\u001b[0;34m\u001b[0m\u001b[0;34m\u001b[0m\u001b[0m\n\u001b[1;32m    293\u001b[0m     \u001b[0mpool\u001b[0m\u001b[0;34m.\u001b[0m\u001b[0mjoin\u001b[0m\u001b[0;34m(\u001b[0m\u001b[0;34m)\u001b[0m\u001b[0;34m\u001b[0m\u001b[0;34m\u001b[0m\u001b[0m\n",
      "\u001b[0;32m/opt/homebrew/Caskroom/miniforge/base/envs/ProMCDA/lib/python3.9/multiprocessing/pool.py\u001b[0m in \u001b[0;36mmap\u001b[0;34m(self, func, iterable, chunksize)\u001b[0m\n\u001b[1;32m    362\u001b[0m         \u001b[0;32min\u001b[0m \u001b[0ma\u001b[0m \u001b[0mlist\u001b[0m \u001b[0mthat\u001b[0m \u001b[0;32mis\u001b[0m \u001b[0mreturned\u001b[0m\u001b[0;34m.\u001b[0m\u001b[0;34m\u001b[0m\u001b[0;34m\u001b[0m\u001b[0m\n\u001b[1;32m    363\u001b[0m         '''\n\u001b[0;32m--> 364\u001b[0;31m         \u001b[0;32mreturn\u001b[0m \u001b[0mself\u001b[0m\u001b[0;34m.\u001b[0m\u001b[0m_map_async\u001b[0m\u001b[0;34m(\u001b[0m\u001b[0mfunc\u001b[0m\u001b[0;34m,\u001b[0m \u001b[0miterable\u001b[0m\u001b[0;34m,\u001b[0m \u001b[0mmapstar\u001b[0m\u001b[0;34m,\u001b[0m \u001b[0mchunksize\u001b[0m\u001b[0;34m)\u001b[0m\u001b[0;34m.\u001b[0m\u001b[0mget\u001b[0m\u001b[0;34m(\u001b[0m\u001b[0;34m)\u001b[0m\u001b[0;34m\u001b[0m\u001b[0;34m\u001b[0m\u001b[0m\n\u001b[0m\u001b[1;32m    365\u001b[0m \u001b[0;34m\u001b[0m\u001b[0m\n\u001b[1;32m    366\u001b[0m     \u001b[0;32mdef\u001b[0m \u001b[0mstarmap\u001b[0m\u001b[0;34m(\u001b[0m\u001b[0mself\u001b[0m\u001b[0;34m,\u001b[0m \u001b[0mfunc\u001b[0m\u001b[0;34m,\u001b[0m \u001b[0miterable\u001b[0m\u001b[0;34m,\u001b[0m \u001b[0mchunksize\u001b[0m\u001b[0;34m=\u001b[0m\u001b[0;32mNone\u001b[0m\u001b[0;34m)\u001b[0m\u001b[0;34m:\u001b[0m\u001b[0;34m\u001b[0m\u001b[0;34m\u001b[0m\u001b[0m\n",
      "\u001b[0;32m/opt/homebrew/Caskroom/miniforge/base/envs/ProMCDA/lib/python3.9/multiprocessing/pool.py\u001b[0m in \u001b[0;36mget\u001b[0;34m(self, timeout)\u001b[0m\n\u001b[1;32m    769\u001b[0m             \u001b[0;32mreturn\u001b[0m \u001b[0mself\u001b[0m\u001b[0;34m.\u001b[0m\u001b[0m_value\u001b[0m\u001b[0;34m\u001b[0m\u001b[0;34m\u001b[0m\u001b[0m\n\u001b[1;32m    770\u001b[0m         \u001b[0;32melse\u001b[0m\u001b[0;34m:\u001b[0m\u001b[0;34m\u001b[0m\u001b[0;34m\u001b[0m\u001b[0m\n\u001b[0;32m--> 771\u001b[0;31m             \u001b[0;32mraise\u001b[0m \u001b[0mself\u001b[0m\u001b[0;34m.\u001b[0m\u001b[0m_value\u001b[0m\u001b[0;34m\u001b[0m\u001b[0;34m\u001b[0m\u001b[0m\n\u001b[0m\u001b[1;32m    772\u001b[0m \u001b[0;34m\u001b[0m\u001b[0m\n\u001b[1;32m    773\u001b[0m     \u001b[0;32mdef\u001b[0m \u001b[0m_set\u001b[0m\u001b[0;34m(\u001b[0m\u001b[0mself\u001b[0m\u001b[0;34m,\u001b[0m \u001b[0mi\u001b[0m\u001b[0;34m,\u001b[0m \u001b[0mobj\u001b[0m\u001b[0;34m)\u001b[0m\u001b[0;34m:\u001b[0m\u001b[0;34m\u001b[0m\u001b[0;34m\u001b[0m\u001b[0m\n",
      "\u001b[0;31mValueError\u001b[0m: The selected normalization method is not supported"
     ]
    }
   ],
   "source": [
    "promcda.normalize(Normalization)"
   ]
  },
  {
   "cell_type": "code",
   "execution_count": null,
   "id": "0038ddb3-5499-4fd4-a5de-d785593885a9",
   "metadata": {},
   "outputs": [],
   "source": []
  },
  {
   "cell_type": "code",
   "execution_count": null,
   "id": "e857a02a-aae8-453a-a302-46844c3e610f",
   "metadata": {},
   "outputs": [],
   "source": [
    "promcda.aggregate(None, None,[0.5, 0.7])"
   ]
  },
  {
   "cell_type": "code",
   "execution_count": null,
   "id": "6e0949ed-f2a7-4c90-87f8-5d61d27da7ac",
   "metadata": {},
   "outputs": [],
   "source": [
    "promcda.aggregate(\"minmax\", \"geometric\",[0.5, 0.7])"
   ]
  },
  {
   "cell_type": "code",
   "execution_count": null,
   "id": "506619fd-9659-47cd-88fa-7acd985a1071",
   "metadata": {},
   "outputs": [],
   "source": []
  },
  {
   "cell_type": "code",
   "execution_count": null,
   "id": "15bb84ff-e194-4326-a368-c467c9b6e3a7",
   "metadata": {},
   "outputs": [],
   "source": []
  }
 ],
 "metadata": {
  "kernelspec": {
   "display_name": "ProMCDA (Python)",
   "language": "python",
   "name": "promcda"
  },
  "language_info": {
   "codemirror_mode": {
    "name": "ipython",
    "version": 3
   },
   "file_extension": ".py",
   "mimetype": "text/x-python",
   "name": "python",
   "nbconvert_exporter": "python",
   "pygments_lexer": "ipython3",
   "version": "3.9.20"
  }
 },
 "nbformat": 4,
 "nbformat_minor": 5
}
