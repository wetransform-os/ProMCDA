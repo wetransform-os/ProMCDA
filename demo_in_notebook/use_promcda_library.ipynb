{
 "cells": [
  {
   "cell_type": "code",
   "execution_count": 4,
   "id": "96df2c84-1509-4e93-952a-9beba8d0ec45",
   "metadata": {},
   "outputs": [
    {
     "name": "stdout",
     "output_type": "stream",
     "text": [
      "Import successful!\n"
     ]
    }
   ],
   "source": [
    "import os\n",
    "import sys\n",
    "import pandas as pd\n",
    "import matplotlib.pyplot as plt\n",
    "from plotly.io import show\n",
    "\n",
    "plt.show()\n",
    "\n",
    "package_path = '/Users/flaminia/Documents/work/ProMCDA' # change the path\n",
    "\n",
    "if package_path not in sys.path:\n",
    "    sys.path.append(package_path)\n",
    "\n",
    "try:\n",
    "    from promcda.models.ProMCDA import ProMCDA\n",
    "    print(\"Import successful!\")\n",
    "except ModuleNotFoundError as e:\n",
    "    print(f\"ModuleNotFoundError: {e}\")\n",
    "\n",
    "from promcda.enums import NormalizationFunctions, AggregationFunctions, OutputColumnNames4Sensitivity, NormalizationNames4Sensitivity, PDFType"
   ]
  },
  {
   "cell_type": "code",
   "execution_count": 5,
   "id": "9dbbd731-e201-47cc-8bfb-159a52559b25",
   "metadata": {},
   "outputs": [
    {
     "data": {
      "text/plain": [
       "{'input_matrix':               Criteria 1  Criteria 2\n",
       " Alternatives                        \n",
       " A                    0.5         0.3\n",
       " B                    0.2         0.6\n",
       " C                    0.8         0.1,\n",
       " 'polarity': ('+', '-'),\n",
       " 'robustness_weights': False,\n",
       " 'robustness_single_weights': False,\n",
       " 'robustness_indicators': False,\n",
       " 'marginal_distributions': (<PDFType.NORMAL: 'normal'>,\n",
       "  <PDFType.NORMAL: 'normal'>),\n",
       " 'num_runs': 5,\n",
       " 'num_cores': 1,\n",
       " 'output_path': 'mock_output/'}"
      ]
     },
     "execution_count": 5,
     "metadata": {},
     "output_type": "execute_result"
    }
   ],
   "source": [
    "def setUpNoRobustnessIndicators():\n",
    "    \n",
    "    # Mock input data for testing\n",
    "    input_matrix_without_uncertainty = pd.DataFrame({\n",
    "        'Alternatives': ['A', 'B', 'C'],\n",
    "        'Criteria 1': [0.5, 0.2, 0.8],\n",
    "        'Criteria 2': [0.3, 0.6, 0.1]\n",
    "    }, index=['A', 'B', 'C'])\n",
    "   \n",
    "    input_matrix_without_uncertainty.set_index('Alternatives', inplace=True)\n",
    "\n",
    "    polarity = ('+', '-')\n",
    "\n",
    "    weights = [0.9, 0.1]\n",
    "    robustness_weights = False\n",
    "    robustness_single_weights = False # change it for testing\n",
    "    robustness_indicators = False # change it for testing\n",
    "\n",
    "    marginal_distributions = (PDFType.NORMAL, PDFType.NORMAL)\n",
    "\n",
    "    num_runs = 5\n",
    "    num_cores = 1\n",
    "\n",
    "    output_path = 'mock_output/'\n",
    "\n",
    "    # Return the setup parameters as a dictionary\n",
    "    return {\n",
    "        'input_matrix': input_matrix_without_uncertainty, # Decide what type of input matrix\n",
    "        'polarity': polarity,\n",
    "        'robustness_weights': robustness_weights,\n",
    "        'robustness_single_weights': robustness_single_weights,\n",
    "        'robustness_indicators': robustness_indicators,\n",
    "        'marginal_distributions': marginal_distributions,\n",
    "        'num_runs': num_runs,\n",
    "        'num_cores': num_cores,\n",
    "        'output_path': output_path\n",
    "    }\n",
    "\n",
    "# Run the setup and store parameters in a variable\n",
    "setup_no_robustness_indicators = setUpNoRobustnessIndicators()\n",
    "\n",
    "# Check the setup parameters\n",
    "setup_no_robustness_indicators"
   ]
  },
  {
   "cell_type": "code",
   "execution_count": 47,
   "id": "cef40536-5942-44a4-9a2c-2a9e9b02b7a0",
   "metadata": {},
   "outputs": [
    {
     "data": {
      "text/plain": [
       "{'input_matrix':               Criterion1_mean  Criterion1_std  Criterion2_mean  Criterion2_std\n",
       " Alternatives                                                                  \n",
       " A                         0.5            0.10              0.3            0.03\n",
       " B                         0.2            0.02              0.6            0.06\n",
       " C                         0.8            0.07              0.1            0.01,\n",
       " 'polarity': ('+', '-'),\n",
       " 'robustness_weights': False,\n",
       " 'robustness_indicators': True,\n",
       " 'marginal_distributions': (<PDFType.NORMAL: 'normal'>,\n",
       "  <PDFType.NORMAL: 'normal'>),\n",
       " 'num_runs': 5,\n",
       " 'num_cores': 1,\n",
       " 'output_path': 'mock_output/'}"
      ]
     },
     "execution_count": 47,
     "metadata": {},
     "output_type": "execute_result"
    }
   ],
   "source": [
    "def setUpRobustnessIndicators():\n",
    "    \n",
    "    # Mock input data for testing\n",
    "    input_matrix_with_uncertainty = pd.DataFrame({\n",
    "    'Alternatives': ['A', 'B', 'C'],\n",
    "    'Criterion1_mean': [0.5, 0.2, 0.8],\n",
    "    'Criterion1_std': [0.1, 0.02, 0.07],\n",
    "    'Criterion2_mean': [0.3, 0.6, 0.1],\n",
    "    'Criterion2_std': [0.03, 0.06, 0.01]\n",
    "        })\n",
    "   \n",
    "    input_matrix_with_uncertainty.set_index('Alternatives', inplace=True)\n",
    "\n",
    "    polarity = ('+', '-')\n",
    "\n",
    "    robustness_weights = False\n",
    "    robustness_single_weights = False\n",
    "    robustness_indicators = True\n",
    "\n",
    "    marginal_distributions = (PDFType.NORMAL, PDFType.NORMAL)\n",
    "\n",
    "    num_runs = 5\n",
    "    num_cores = 1\n",
    "\n",
    "    output_path = 'mock_output/'\n",
    "\n",
    "    # Return the setup parameters as a dictionary\n",
    "    return {\n",
    "        'input_matrix': input_matrix_with_uncertainty, # Decide what type of input matrix\n",
    "        'polarity': polarity,\n",
    "        'robustness_weights': robustness_weights,\n",
    "        'robustness_indicators': robustness_indicators,\n",
    "        'marginal_distributions': marginal_distributions,\n",
    "        'num_runs': num_runs,\n",
    "        'num_cores': num_cores,\n",
    "        'output_path': output_path\n",
    "    }\n",
    "\n",
    "# Run the setup and store parameters in a variable\n",
    "setup_robustness_indicators = setUpRobustnessIndicators()\n",
    "\n",
    "# Check the setup parameters\n",
    "setup_robustness_indicators"
   ]
  },
  {
   "cell_type": "markdown",
   "id": "07775901-e7d2-447c-a96e-b882748e9f4f",
   "metadata": {},
   "source": [
    "## TEST NO ROBUSTNESS ON INDICATORS - need setUpNoRobustnessIndicators"
   ]
  },
  {
   "cell_type": "code",
   "execution_count": 7,
   "id": "c9ffcdc6-0243-4303-8afd-33c7f3de5c21",
   "metadata": {},
   "outputs": [
    {
     "name": "stdout",
     "output_type": "stream",
     "text": [
      "INFO: 2025-04-08 16:57:19,771 - ProMCDA - Alternatives are ['A', 'B', 'C']\n"
     ]
    }
   ],
   "source": [
    "promcda = ProMCDA(\n",
    "    input_matrix=setup_no_robustness_indicators['input_matrix'],\n",
    "    polarity=setup_no_robustness_indicators['polarity'],\n",
    "    robustness_weights=setup_no_robustness_indicators['robustness_weights'],\n",
    "    robustness_indicators=setup_no_robustness_indicators['robustness_indicators'],\n",
    "    marginal_distributions=setup_no_robustness_indicators['marginal_distributions'],\n",
    "    num_runs=setup_no_robustness_indicators['num_runs'],\n",
    "    num_cores=setup_no_robustness_indicators['num_cores'],\n",
    ")"
   ]
  },
  {
   "cell_type": "markdown",
   "id": "94796bf7-fd25-4f0d-bdd6-f828f3e0b5f1",
   "metadata": {},
   "source": [
    "### Test normalize with sensitivity¶"
   ]
  },
  {
   "cell_type": "code",
   "execution_count": 8,
   "id": "dfd69479-446e-4919-8b3e-c888d9e675f7",
   "metadata": {},
   "outputs": [
    {
     "name": "stdout",
     "output_type": "stream",
     "text": [
      "INFO: 2025-04-08 17:00:07,587 - ProMCDA - Number of indicators: 2\n",
      "INFO: 2025-04-08 17:00:07,588 - ProMCDA - Polarities are checked: ('+', '-')\n",
      "INFO: 2025-04-08 17:00:07,589 - ProMCDA - Weights: [0.5, 0.5]\n",
      "INFO: 2025-04-08 17:00:07,590 - ProMCDA - Normalized weights: [0.5, 0.5]\n"
     ]
    },
    {
     "data": {
      "text/html": [
       "<div>\n",
       "<style scoped>\n",
       "    .dataframe tbody tr th:only-of-type {\n",
       "        vertical-align: middle;\n",
       "    }\n",
       "\n",
       "    .dataframe tbody tr th {\n",
       "        vertical-align: top;\n",
       "    }\n",
       "\n",
       "    .dataframe thead th {\n",
       "        text-align: right;\n",
       "    }\n",
       "</style>\n",
       "<table border=\"1\" class=\"dataframe\">\n",
       "  <thead>\n",
       "    <tr style=\"text-align: right;\">\n",
       "      <th></th>\n",
       "      <th>Criteria 1_minmax_01</th>\n",
       "      <th>Criteria 2_minmax_01</th>\n",
       "      <th>Criteria 1_minmax_without_zero</th>\n",
       "      <th>Criteria 2_minmax_without_zero</th>\n",
       "      <th>Criteria 1_target_01</th>\n",
       "      <th>Criteria 2_target_01</th>\n",
       "      <th>Criteria 1_target_without_zero</th>\n",
       "      <th>Criteria 2_target_without_zero</th>\n",
       "      <th>Criteria 1_standardized_any</th>\n",
       "      <th>Criteria 2_standardized_any</th>\n",
       "      <th>Criteria 1_standardized_without_zero</th>\n",
       "      <th>Criteria 2_standardized_without_zero</th>\n",
       "      <th>Criteria 1_rank</th>\n",
       "      <th>Criteria 2_rank</th>\n",
       "    </tr>\n",
       "  </thead>\n",
       "  <tbody>\n",
       "    <tr>\n",
       "      <th>0</th>\n",
       "      <td>0.5</td>\n",
       "      <td>0.6</td>\n",
       "      <td>0.55</td>\n",
       "      <td>0.64</td>\n",
       "      <td>0.625</td>\n",
       "      <td>0.5</td>\n",
       "      <td>0.6625</td>\n",
       "      <td>0.55</td>\n",
       "      <td>0.0</td>\n",
       "      <td>0.132453</td>\n",
       "      <td>1.1</td>\n",
       "      <td>1.292079</td>\n",
       "      <td>2.0</td>\n",
       "      <td>2.0</td>\n",
       "    </tr>\n",
       "    <tr>\n",
       "      <th>1</th>\n",
       "      <td>0.0</td>\n",
       "      <td>0.0</td>\n",
       "      <td>0.1</td>\n",
       "      <td>0.1</td>\n",
       "      <td>0.25</td>\n",
       "      <td>0.0</td>\n",
       "      <td>0.325</td>\n",
       "      <td>0.1</td>\n",
       "      <td>-1.0</td>\n",
       "      <td>-1.059626</td>\n",
       "      <td>0.1</td>\n",
       "      <td>0.1</td>\n",
       "      <td>1.0</td>\n",
       "      <td>1.0</td>\n",
       "    </tr>\n",
       "    <tr>\n",
       "      <th>2</th>\n",
       "      <td>1.0</td>\n",
       "      <td>1.0</td>\n",
       "      <td>1.0</td>\n",
       "      <td>1.0</td>\n",
       "      <td>1.0</td>\n",
       "      <td>0.833333</td>\n",
       "      <td>1.0</td>\n",
       "      <td>0.85</td>\n",
       "      <td>1.0</td>\n",
       "      <td>0.927173</td>\n",
       "      <td>2.1</td>\n",
       "      <td>2.086799</td>\n",
       "      <td>3.0</td>\n",
       "      <td>3.0</td>\n",
       "    </tr>\n",
       "  </tbody>\n",
       "</table>\n",
       "</div>"
      ],
      "text/plain": [
       "  Criteria 1_minmax_01 Criteria 2_minmax_01 Criteria 1_minmax_without_zero  \\\n",
       "0                  0.5                  0.6                           0.55   \n",
       "1                  0.0                  0.0                            0.1   \n",
       "2                  1.0                  1.0                            1.0   \n",
       "\n",
       "  Criteria 2_minmax_without_zero Criteria 1_target_01 Criteria 2_target_01  \\\n",
       "0                           0.64                0.625                  0.5   \n",
       "1                            0.1                 0.25                  0.0   \n",
       "2                            1.0                  1.0             0.833333   \n",
       "\n",
       "  Criteria 1_target_without_zero Criteria 2_target_without_zero  \\\n",
       "0                         0.6625                           0.55   \n",
       "1                          0.325                            0.1   \n",
       "2                            1.0                           0.85   \n",
       "\n",
       "  Criteria 1_standardized_any Criteria 2_standardized_any  \\\n",
       "0                         0.0                    0.132453   \n",
       "1                        -1.0                   -1.059626   \n",
       "2                         1.0                    0.927173   \n",
       "\n",
       "  Criteria 1_standardized_without_zero Criteria 2_standardized_without_zero  \\\n",
       "0                                  1.1                             1.292079   \n",
       "1                                  0.1                                  0.1   \n",
       "2                                  2.1                             2.086799   \n",
       "\n",
       "  Criteria 1_rank Criteria 2_rank  \n",
       "0             2.0             2.0  \n",
       "1             1.0             1.0  \n",
       "2             3.0             3.0  "
      ]
     },
     "execution_count": 8,
     "metadata": {},
     "output_type": "execute_result"
    }
   ],
   "source": [
    "promcda.normalize()"
   ]
  },
  {
   "cell_type": "markdown",
   "id": "267aae1e-3b4d-4ad0-8337-fa46a68081f8",
   "metadata": {},
   "source": [
    "### Test normalize with specific method"
   ]
  },
  {
   "cell_type": "code",
   "execution_count": 9,
   "id": "2ba273b0-18ac-43a1-8afc-f3280f6e2d9f",
   "metadata": {},
   "outputs": [
    {
     "name": "stdout",
     "output_type": "stream",
     "text": [
      "INFO: 2025-04-08 17:00:15,399 - ProMCDA - Number of indicators: 2\n",
      "INFO: 2025-04-08 17:00:15,401 - ProMCDA - Polarities are checked: ('+', '-')\n",
      "INFO: 2025-04-08 17:00:15,402 - ProMCDA - Weights: [0.5, 0.5]\n",
      "INFO: 2025-04-08 17:00:15,404 - ProMCDA - Normalized weights: [0.5, 0.5]\n"
     ]
    },
    {
     "data": {
      "text/html": [
       "<div>\n",
       "<style scoped>\n",
       "    .dataframe tbody tr th:only-of-type {\n",
       "        vertical-align: middle;\n",
       "    }\n",
       "\n",
       "    .dataframe tbody tr th {\n",
       "        vertical-align: top;\n",
       "    }\n",
       "\n",
       "    .dataframe thead th {\n",
       "        text-align: right;\n",
       "    }\n",
       "</style>\n",
       "<table border=\"1\" class=\"dataframe\">\n",
       "  <thead>\n",
       "    <tr style=\"text-align: right;\">\n",
       "      <th></th>\n",
       "      <th>Criteria 1_minmax_01</th>\n",
       "      <th>Criteria 2_minmax_01</th>\n",
       "      <th>Criteria 1_minmax_without_zero</th>\n",
       "      <th>Criteria 2_minmax_without_zero</th>\n",
       "    </tr>\n",
       "  </thead>\n",
       "  <tbody>\n",
       "    <tr>\n",
       "      <th>0</th>\n",
       "      <td>0.5</td>\n",
       "      <td>0.6</td>\n",
       "      <td>0.55</td>\n",
       "      <td>0.64</td>\n",
       "    </tr>\n",
       "    <tr>\n",
       "      <th>1</th>\n",
       "      <td>0.0</td>\n",
       "      <td>0.0</td>\n",
       "      <td>0.1</td>\n",
       "      <td>0.1</td>\n",
       "    </tr>\n",
       "    <tr>\n",
       "      <th>2</th>\n",
       "      <td>1.0</td>\n",
       "      <td>1.0</td>\n",
       "      <td>1.0</td>\n",
       "      <td>1.0</td>\n",
       "    </tr>\n",
       "  </tbody>\n",
       "</table>\n",
       "</div>"
      ],
      "text/plain": [
       "  Criteria 1_minmax_01 Criteria 2_minmax_01 Criteria 1_minmax_without_zero  \\\n",
       "0                  0.5                  0.6                           0.55   \n",
       "1                  0.0                  0.0                            0.1   \n",
       "2                  1.0                  1.0                            1.0   \n",
       "\n",
       "  Criteria 2_minmax_without_zero  \n",
       "0                           0.64  \n",
       "1                            0.1  \n",
       "2                            1.0  "
      ]
     },
     "execution_count": 9,
     "metadata": {},
     "output_type": "execute_result"
    }
   ],
   "source": [
    "promcda.normalize(NormalizationFunctions.MINMAX)"
   ]
  },
  {
   "cell_type": "markdown",
   "id": "835de942-fd96-486a-b354-d3add748c2ff",
   "metadata": {},
   "source": [
    "#### Example of plotting normalized indicator values"
   ]
  },
  {
   "cell_type": "code",
   "execution_count": 19,
   "id": "04424098-0c18-4e0f-847a-fd7c691b2d33",
   "metadata": {},
   "outputs": [
    {
     "name": "stdout",
     "output_type": "stream",
     "text": [
      "INFO: 2025-04-08 17:11:34,537 - ProMCDA - Number of indicators: 2\n",
      "INFO: 2025-04-08 17:11:34,539 - ProMCDA - Polarities are checked: ('+', '-')\n",
      "INFO: 2025-04-08 17:11:34,539 - ProMCDA - Weights: [0.5, 0.5]\n",
      "INFO: 2025-04-08 17:11:34,540 - ProMCDA - Normalized weights: [0.5, 0.5]\n"
     ]
    },
    {
     "data": {
      "image/png": "[encoded data removed]",
      "text/plain": [
       "<Figure size 576x432 with 1 Axes>"
      ]
     },
     "metadata": {
      "needs_background": "light"
     },
     "output_type": "display_data"
    }
   ],
   "source": [
    "data_minmax = promcda.normalize(NormalizationFunctions.MINMAX)\n",
    "\n",
    "filtered_columns = [col for col in data_minmax.columns if col.endswith(\"_minmax_01\") and \"without_zero\" not in col]\n",
    "\n",
    "import logging\n",
    "import seaborn as sns\n",
    "logging.getLogger('matplotlib').setLevel(logging.WARNING)\n",
    "\n",
    "plt.figure(figsize=(8, 6))\n",
    "sns.boxplot(data=data_minmax[filtered_columns]) \n",
    "plt.xticks(rotation=90)\n",
    "\n",
    "\n",
    "clean_labels = [col.replace(\"_minmax_01\", \"\") for col in filtered_columns]\n",
    "plt.xticks(ticks=range(len(clean_labels)), labels=clean_labels, rotation=90)\n",
    "\n",
    "plt.title(\"minmax functionNormalized indicator values\", fontsize=12, fontweight='bold')\n",
    "plt.suptitle(\"Normalized indicator values\", fontsize=16, fontweight='bold')\n",
    "plt.xlabel(\"Indicators\", fontsize=14, fontweight='bold')\n",
    "plt.ylabel(\"Normalized value\", fontsize=14, fontweight='bold')\n",
    "\n",
    "#plt.legend(fontsize=12)\n",
    "plt.grid(True, linestyle='--', alpha=0.6)\n",
    "plt.show()"
   ]
  },
  {
   "cell_type": "code",
   "execution_count": 10,
   "id": "81651dc2-1772-4435-ac3b-1c553e9e5935",
   "metadata": {},
   "outputs": [
    {
     "name": "stdout",
     "output_type": "stream",
     "text": [
      "INFO: 2025-04-08 17:00:20,294 - ProMCDA - Number of indicators: 2\n",
      "INFO: 2025-04-08 17:00:20,296 - ProMCDA - Polarities are checked: ('+', '-')\n",
      "INFO: 2025-04-08 17:00:20,296 - ProMCDA - Weights: [0.5, 0.5]\n",
      "INFO: 2025-04-08 17:00:20,297 - ProMCDA - Normalized weights: [0.5, 0.5]\n"
     ]
    },
    {
     "data": {
      "text/html": [
       "<div>\n",
       "<style scoped>\n",
       "    .dataframe tbody tr th:only-of-type {\n",
       "        vertical-align: middle;\n",
       "    }\n",
       "\n",
       "    .dataframe tbody tr th {\n",
       "        vertical-align: top;\n",
       "    }\n",
       "\n",
       "    .dataframe thead th {\n",
       "        text-align: right;\n",
       "    }\n",
       "</style>\n",
       "<table border=\"1\" class=\"dataframe\">\n",
       "  <thead>\n",
       "    <tr style=\"text-align: right;\">\n",
       "      <th></th>\n",
       "      <th>Criteria 1_rank</th>\n",
       "      <th>Criteria 2_rank</th>\n",
       "    </tr>\n",
       "  </thead>\n",
       "  <tbody>\n",
       "    <tr>\n",
       "      <th>0</th>\n",
       "      <td>2.0</td>\n",
       "      <td>2.0</td>\n",
       "    </tr>\n",
       "    <tr>\n",
       "      <th>1</th>\n",
       "      <td>1.0</td>\n",
       "      <td>1.0</td>\n",
       "    </tr>\n",
       "    <tr>\n",
       "      <th>2</th>\n",
       "      <td>3.0</td>\n",
       "      <td>3.0</td>\n",
       "    </tr>\n",
       "  </tbody>\n",
       "</table>\n",
       "</div>"
      ],
      "text/plain": [
       "  Criteria 1_rank Criteria 2_rank\n",
       "0             2.0             2.0\n",
       "1             1.0             1.0\n",
       "2             3.0             3.0"
      ]
     },
     "execution_count": 10,
     "metadata": {},
     "output_type": "execute_result"
    }
   ],
   "source": [
    "promcda.normalize(NormalizationFunctions.RANK)"
   ]
  },
  {
   "cell_type": "markdown",
   "id": "eb96c3cb-6a6c-493a-9e30-089fc3676052",
   "metadata": {},
   "source": [
    "### Test aggregate with full sensitivity"
   ]
  },
  {
   "cell_type": "code",
   "execution_count": 11,
   "id": "dccaf3ad-79e2-4110-a286-8bfef5abbd6a",
   "metadata": {},
   "outputs": [
    {
     "name": "stdout",
     "output_type": "stream",
     "text": [
      "INFO: 2025-04-08 17:00:27,149 - ProMCDA - Number of indicators: 2\n",
      "INFO: 2025-04-08 17:00:27,151 - ProMCDA - Polarities are checked: ('+', '-')\n",
      "INFO: 2025-04-08 17:00:27,151 - ProMCDA - Weights: [0.5, 0.5]\n",
      "INFO: 2025-04-08 17:00:27,152 - ProMCDA - Normalized weights: [0.5, 0.5]\n",
      "INFO: 2025-04-08 17:00:27,180 - ProMCDA - Number of indicators: 2\n",
      "INFO: 2025-04-08 17:00:27,181 - ProMCDA - Polarities are checked: ('+', '-')\n",
      "INFO: 2025-04-08 17:00:27,182 - ProMCDA - Weights: [0.5, 0.5]\n",
      "INFO: 2025-04-08 17:00:27,182 - ProMCDA - Normalized weights: [0.5, 0.5]\n"
     ]
    },
    {
     "data": {
      "text/html": [
       "<div>\n",
       "<style scoped>\n",
       "    .dataframe tbody tr th:only-of-type {\n",
       "        vertical-align: middle;\n",
       "    }\n",
       "\n",
       "    .dataframe tbody tr th {\n",
       "        vertical-align: top;\n",
       "    }\n",
       "\n",
       "    .dataframe thead th {\n",
       "        text-align: right;\n",
       "    }\n",
       "</style>\n",
       "<table border=\"1\" class=\"dataframe\">\n",
       "  <thead>\n",
       "    <tr style=\"text-align: right;\">\n",
       "      <th></th>\n",
       "      <th>ws-minmax_01</th>\n",
       "      <th>ws-target_01</th>\n",
       "      <th>ws-standardized_any</th>\n",
       "      <th>ws-rank</th>\n",
       "      <th>geom-minmax_without_zero</th>\n",
       "      <th>geom-target_without_zero</th>\n",
       "      <th>geom-standardized_without_zero</th>\n",
       "      <th>geom-rank</th>\n",
       "      <th>harm-minmax_without_zero</th>\n",
       "      <th>harm-target_without_zero</th>\n",
       "      <th>harm-standardized_without_zero</th>\n",
       "      <th>harm-rank</th>\n",
       "      <th>min-standardized_any</th>\n",
       "    </tr>\n",
       "  </thead>\n",
       "  <tbody>\n",
       "    <tr>\n",
       "      <th>0</th>\n",
       "      <td>0.55</td>\n",
       "      <td>0.5625</td>\n",
       "      <td>0.066227</td>\n",
       "      <td>2.0</td>\n",
       "      <td>0.593296</td>\n",
       "      <td>0.603635</td>\n",
       "      <td>1.192177</td>\n",
       "      <td>2.0</td>\n",
       "      <td>0.591597</td>\n",
       "      <td>0.601031</td>\n",
       "      <td>1.188328</td>\n",
       "      <td>2.0</td>\n",
       "      <td>0.0</td>\n",
       "    </tr>\n",
       "    <tr>\n",
       "      <th>1</th>\n",
       "      <td>0.0</td>\n",
       "      <td>0.125</td>\n",
       "      <td>-1.029813</td>\n",
       "      <td>1.0</td>\n",
       "      <td>0.100000</td>\n",
       "      <td>0.180278</td>\n",
       "      <td>0.100000</td>\n",
       "      <td>1.0</td>\n",
       "      <td>0.1</td>\n",
       "      <td>0.152941</td>\n",
       "      <td>0.1</td>\n",
       "      <td>1.0</td>\n",
       "      <td>-1.059626</td>\n",
       "    </tr>\n",
       "    <tr>\n",
       "      <th>2</th>\n",
       "      <td>1.0</td>\n",
       "      <td>0.916667</td>\n",
       "      <td>0.963586</td>\n",
       "      <td>3.0</td>\n",
       "      <td>1.000000</td>\n",
       "      <td>0.921954</td>\n",
       "      <td>2.093389</td>\n",
       "      <td>3.0</td>\n",
       "      <td>1.0</td>\n",
       "      <td>0.918919</td>\n",
       "      <td>2.093378</td>\n",
       "      <td>3.0</td>\n",
       "      <td>0.927173</td>\n",
       "    </tr>\n",
       "  </tbody>\n",
       "</table>\n",
       "</div>"
      ],
      "text/plain": [
       "  ws-minmax_01 ws-target_01 ws-standardized_any ws-rank  \\\n",
       "0         0.55       0.5625            0.066227     2.0   \n",
       "1          0.0        0.125           -1.029813     1.0   \n",
       "2          1.0     0.916667            0.963586     3.0   \n",
       "\n",
       "   geom-minmax_without_zero  geom-target_without_zero  \\\n",
       "0                  0.593296                  0.603635   \n",
       "1                  0.100000                  0.180278   \n",
       "2                  1.000000                  0.921954   \n",
       "\n",
       "   geom-standardized_without_zero  geom-rank harm-minmax_without_zero  \\\n",
       "0                        1.192177        2.0                 0.591597   \n",
       "1                        0.100000        1.0                      0.1   \n",
       "2                        2.093389        3.0                      1.0   \n",
       "\n",
       "  harm-target_without_zero harm-standardized_without_zero harm-rank  \\\n",
       "0                 0.601031                       1.188328       2.0   \n",
       "1                 0.152941                            0.1       1.0   \n",
       "2                 0.918919                       2.093378       3.0   \n",
       "\n",
       "  min-standardized_any  \n",
       "0                  0.0  \n",
       "1            -1.059626  \n",
       "2             0.927173  "
      ]
     },
     "execution_count": 11,
     "metadata": {},
     "output_type": "execute_result"
    }
   ],
   "source": [
    "promcda.normalize()\n",
    "promcda.aggregate()"
   ]
  },
  {
   "cell_type": "code",
   "execution_count": 12,
   "id": "aab1c7e2-037d-4f71-9b6b-9db52bbc4c39",
   "metadata": {},
   "outputs": [
    {
     "name": "stdout",
     "output_type": "stream",
     "text": [
      "INFO: 2025-04-08 17:01:02,370 - ProMCDA - Number of indicators: 2\n",
      "INFO: 2025-04-08 17:01:02,372 - ProMCDA - Polarities are checked: ('+', '-')\n",
      "INFO: 2025-04-08 17:01:02,372 - ProMCDA - Weights: [0.5, 0.5]\n",
      "INFO: 2025-04-08 17:01:02,373 - ProMCDA - Normalized weights: [0.5, 0.5]\n"
     ]
    }
   ],
   "source": [
    "scores = promcda.aggregate()"
   ]
  },
  {
   "cell_type": "markdown",
   "id": "c79ebe10-45ea-4b56-a147-2dcba67f1d8a",
   "metadata": {},
   "source": [
    "#### Example of plotting the best alternative's score using different pairs of normalization and agregation functions"
   ]
  },
  {
   "cell_type": "code",
   "execution_count": 27,
   "id": "927030c8-a1ac-4c45-9165-2a3bb8ae9e33",
   "metadata": {},
   "outputs": [
    {
     "data": {
      "image/png": "[encoded data removed]",
      "text/plain": [
       "<Figure size 864x576 with 1 Axes>"
      ]
     },
     "metadata": {
      "needs_background": "light"
     },
     "output_type": "display_data"
    }
   ],
   "source": [
    "# Crea il boxplot\n",
    "plt.figure(figsize=(12, 8))\n",
    "ax = sns.boxplot(data=scores)\n",
    "plt.xticks(rotation=90)\n",
    "\n",
    "# Annotazioni per i valori massimi\n",
    "for i, col in enumerate(scores):\n",
    "    max_value = scores[col].max()\n",
    "    max_index = scores[col].idxmax()\n",
    "    alternative = f'Alt. {max_index + 1}'\n",
    "    plt.text(i, max_value, f'{alternative}\\n{max_value:.2f}', ha='center', va='bottom', fontsize=10, color='red')\n",
    "\n",
    "# Personalizza le etichette degli assi e il titolo\n",
    "plt.xlabel(\"Pair norm/aggr\", fontsize=14, fontweight='bold')\n",
    "plt.ylabel(\"Scores\", fontsize=14, fontweight='bold')\n",
    "plt.title(\"The best alternative's score across different norm/aggr pairs\", fontsize=16, fontweight='bold')\n",
    "\n",
    "plt.grid(True, linestyle='--', alpha=0.6)\n",
    "plt.show()"
   ]
  },
  {
   "cell_type": "markdown",
   "id": "3d221807-cd40-41fc-b295-a9e0e1c4dc08",
   "metadata": {},
   "source": [
    "### Test aggregate with sensitivity on aggregation"
   ]
  },
  {
   "cell_type": "code",
   "execution_count": 30,
   "id": "587b6905-e9bc-4cbc-a923-501f35e225ad",
   "metadata": {},
   "outputs": [
    {
     "name": "stdout",
     "output_type": "stream",
     "text": [
      "INFO: 2025-04-08 18:21:58,091 - ProMCDA - Number of indicators: 2\n",
      "INFO: 2025-04-08 18:21:58,092 - ProMCDA - Polarities are checked: ('+', '-')\n",
      "INFO: 2025-04-08 18:21:58,093 - ProMCDA - Weights: [0.5, 0.5]\n",
      "INFO: 2025-04-08 18:21:58,094 - ProMCDA - Normalized weights: [0.5, 0.5]\n",
      "INFO: 2025-04-08 18:21:58,111 - ProMCDA - Number of indicators: 2\n",
      "INFO: 2025-04-08 18:21:58,112 - ProMCDA - Polarities are checked: ('+', '-')\n",
      "INFO: 2025-04-08 18:21:58,113 - ProMCDA - Weights: [0.5, 0.5]\n",
      "INFO: 2025-04-08 18:21:58,114 - ProMCDA - Normalized weights: [0.5, 0.5]\n"
     ]
    },
    {
     "data": {
      "text/html": [
       "<div>\n",
       "<style scoped>\n",
       "    .dataframe tbody tr th:only-of-type {\n",
       "        vertical-align: middle;\n",
       "    }\n",
       "\n",
       "    .dataframe tbody tr th {\n",
       "        vertical-align: top;\n",
       "    }\n",
       "\n",
       "    .dataframe thead th {\n",
       "        text-align: right;\n",
       "    }\n",
       "</style>\n",
       "<table border=\"1\" class=\"dataframe\">\n",
       "  <thead>\n",
       "    <tr style=\"text-align: right;\">\n",
       "      <th></th>\n",
       "      <th>ws-minmax_01</th>\n",
       "      <th>geom-minmax_without_zero</th>\n",
       "      <th>harm-minmax_without_zero</th>\n",
       "    </tr>\n",
       "  </thead>\n",
       "  <tbody>\n",
       "    <tr>\n",
       "      <th>0</th>\n",
       "      <td>0.55</td>\n",
       "      <td>0.593296</td>\n",
       "      <td>0.591597</td>\n",
       "    </tr>\n",
       "    <tr>\n",
       "      <th>1</th>\n",
       "      <td>0.0</td>\n",
       "      <td>0.100000</td>\n",
       "      <td>0.1</td>\n",
       "    </tr>\n",
       "    <tr>\n",
       "      <th>2</th>\n",
       "      <td>1.0</td>\n",
       "      <td>1.000000</td>\n",
       "      <td>1.0</td>\n",
       "    </tr>\n",
       "  </tbody>\n",
       "</table>\n",
       "</div>"
      ],
      "text/plain": [
       "  ws-minmax_01  geom-minmax_without_zero harm-minmax_without_zero\n",
       "0         0.55                  0.593296                 0.591597\n",
       "1          0.0                  0.100000                      0.1\n",
       "2          1.0                  1.000000                      1.0"
      ]
     },
     "execution_count": 30,
     "metadata": {},
     "output_type": "execute_result"
    }
   ],
   "source": [
    "promcda.normalize(NormalizationFunctions.MINMAX)\n",
    "promcda.aggregate()"
   ]
  },
  {
   "cell_type": "markdown",
   "id": "29e6c4e2-e347-4e9c-8897-2113770441e0",
   "metadata": {},
   "source": [
    "### Test aggregate with sensitivity on normalization"
   ]
  },
  {
   "cell_type": "code",
   "execution_count": 31,
   "id": "89425df3-407c-4d13-945a-4355182d2900",
   "metadata": {},
   "outputs": [
    {
     "name": "stdout",
     "output_type": "stream",
     "text": [
      "INFO: 2025-04-08 18:22:05,529 - ProMCDA - Number of indicators: 2\n",
      "INFO: 2025-04-08 18:22:05,531 - ProMCDA - Polarities are checked: ('+', '-')\n",
      "INFO: 2025-04-08 18:22:05,532 - ProMCDA - Weights: [0.5, 0.5]\n",
      "INFO: 2025-04-08 18:22:05,532 - ProMCDA - Normalized weights: [0.5, 0.5]\n",
      "INFO: 2025-04-08 18:22:05,570 - ProMCDA - Number of indicators: 2\n",
      "INFO: 2025-04-08 18:22:05,571 - ProMCDA - Polarities are checked: ('+', '-')\n",
      "INFO: 2025-04-08 18:22:05,571 - ProMCDA - Weights: [0.5, 0.5]\n",
      "INFO: 2025-04-08 18:22:05,572 - ProMCDA - Normalized weights: [0.5, 0.5]\n"
     ]
    },
    {
     "data": {
      "text/html": [
       "<div>\n",
       "<style scoped>\n",
       "    .dataframe tbody tr th:only-of-type {\n",
       "        vertical-align: middle;\n",
       "    }\n",
       "\n",
       "    .dataframe tbody tr th {\n",
       "        vertical-align: top;\n",
       "    }\n",
       "\n",
       "    .dataframe thead th {\n",
       "        text-align: right;\n",
       "    }\n",
       "</style>\n",
       "<table border=\"1\" class=\"dataframe\">\n",
       "  <thead>\n",
       "    <tr style=\"text-align: right;\">\n",
       "      <th></th>\n",
       "      <th>ws-minmax_01</th>\n",
       "      <th>ws-target_01</th>\n",
       "      <th>ws-standardized_any</th>\n",
       "      <th>ws-rank</th>\n",
       "    </tr>\n",
       "  </thead>\n",
       "  <tbody>\n",
       "    <tr>\n",
       "      <th>0</th>\n",
       "      <td>0.55</td>\n",
       "      <td>0.5625</td>\n",
       "      <td>0.066227</td>\n",
       "      <td>2.0</td>\n",
       "    </tr>\n",
       "    <tr>\n",
       "      <th>1</th>\n",
       "      <td>0.0</td>\n",
       "      <td>0.125</td>\n",
       "      <td>-1.029813</td>\n",
       "      <td>1.0</td>\n",
       "    </tr>\n",
       "    <tr>\n",
       "      <th>2</th>\n",
       "      <td>1.0</td>\n",
       "      <td>0.916667</td>\n",
       "      <td>0.963586</td>\n",
       "      <td>3.0</td>\n",
       "    </tr>\n",
       "  </tbody>\n",
       "</table>\n",
       "</div>"
      ],
      "text/plain": [
       "  ws-minmax_01 ws-target_01 ws-standardized_any ws-rank\n",
       "0         0.55       0.5625            0.066227     2.0\n",
       "1          0.0        0.125           -1.029813     1.0\n",
       "2          1.0     0.916667            0.963586     3.0"
      ]
     },
     "execution_count": 31,
     "metadata": {},
     "output_type": "execute_result"
    }
   ],
   "source": [
    "promcda.normalize()\n",
    "promcda.aggregate(aggregation_method=AggregationFunctions.WEIGHTED_SUM)"
   ]
  },
  {
   "cell_type": "markdown",
   "id": "cd50f9eb-2987-451b-bf1d-c67a0b2a80e8",
   "metadata": {},
   "source": [
    "### Test aggregate with robustness on weights, fix methods"
   ]
  },
  {
   "cell_type": "code",
   "execution_count": 32,
   "id": "3e8bfc0c-9b78-4058-bdc2-90d00bc8ae7e",
   "metadata": {},
   "outputs": [
    {
     "name": "stdout",
     "output_type": "stream",
     "text": [
      "INFO: 2025-04-08 18:22:10,066 - ProMCDA - Alternatives are ['A', 'B', 'C']\n"
     ]
    }
   ],
   "source": [
    "promcda = ProMCDA(\n",
    "    input_matrix=setup_no_robustness_indicators['input_matrix'],\n",
    "    polarity=setup_no_robustness_indicators['polarity'],\n",
    "    robustness_weights=True,\n",
    "    robustness_indicators=setup_no_robustness_indicators['robustness_indicators'],\n",
    "    marginal_distributions=setup_no_robustness_indicators['marginal_distributions'],\n",
    "    num_runs=setup_no_robustness_indicators['num_runs'],\n",
    "    num_cores=setup_no_robustness_indicators['num_cores'],\n",
    "    #output_path=setup_parameters['output_path']\n",
    ")"
   ]
  },
  {
   "cell_type": "code",
   "execution_count": 33,
   "id": "8ab04ddd-69a0-4e41-808b-bf57506eda95",
   "metadata": {},
   "outputs": [
    {
     "name": "stdout",
     "output_type": "stream",
     "text": [
      "INFO: 2025-04-08 18:22:10,778 - ProMCDA - Number of indicators: 2\n",
      "INFO: 2025-04-08 18:22:10,780 - ProMCDA - Polarities are checked: ('+', '-')\n",
      "INFO: 2025-04-08 18:22:10,793 - ProMCDA - Number of indicators: 2\n",
      "INFO: 2025-04-08 18:22:10,795 - ProMCDA - Polarities are checked: ('+', '-')\n",
      "INFO: 2025-04-08 18:22:10,795 - ProMCDA - Start ProMCDA with uncertainty on the weights\n",
      "INFO: 2025-04-08 18:22:10,796 - ProMCDA - All weights are randomly sampled from a uniform distribution.\n"
     ]
    },
    {
     "data": {
      "text/plain": [
       "'Aggregation considered uncertainty on all weights, results are not explicitly shown.'"
      ]
     },
     "execution_count": 33,
     "metadata": {},
     "output_type": "execute_result"
    }
   ],
   "source": [
    "promcda.normalize(NormalizationFunctions.MINMAX)\n",
    "promcda.aggregate(aggregation_method=AggregationFunctions.WEIGHTED_SUM)"
   ]
  },
  {
   "cell_type": "code",
   "execution_count": 34,
   "id": "4bf3afe7-a611-4f29-969f-7fc31c9c7b4b",
   "metadata": {},
   "outputs": [
    {
     "name": "stdout",
     "output_type": "stream",
     "text": [
      "Mean scores are: \n",
      "  ws-minmax_01\n",
      "0     0.542512\n",
      "1          0.0\n",
      "2          1.0\n"
     ]
    }
   ],
   "source": [
    "means, normalized_means, std= promcda.get_aggregated_values_with_robustness_weights()\n",
    "print(\"Mean scores are: \")\n",
    "print(means)"
   ]
  },
  {
   "cell_type": "markdown",
   "id": "17df7b57-082b-4d66-9948-796f80f0ec84",
   "metadata": {},
   "source": [
    "### Test aggregate with robustness on weights, sensitivity"
   ]
  },
  {
   "cell_type": "code",
   "execution_count": 35,
   "id": "42e4508e-2151-4237-8c56-ed4fcc6abd89",
   "metadata": {},
   "outputs": [
    {
     "name": "stdout",
     "output_type": "stream",
     "text": [
      "INFO: 2025-04-08 18:22:19,893 - ProMCDA - Alternatives are ['A', 'B', 'C']\n"
     ]
    }
   ],
   "source": [
    "promcda = ProMCDA(\n",
    "    input_matrix=setup_no_robustness_indicators['input_matrix'],\n",
    "    polarity=setup_no_robustness_indicators['polarity'],\n",
    "    robustness_weights=True,\n",
    "    robustness_indicators=setup_no_robustness_indicators['robustness_indicators'],\n",
    "    marginal_distributions=setup_no_robustness_indicators['marginal_distributions'],\n",
    "    num_runs=setup_no_robustness_indicators['num_runs'],\n",
    "    num_cores=setup_no_robustness_indicators['num_cores'],\n",
    "    #output_path=setup_parameters['output_path']\n",
    ")"
   ]
  },
  {
   "cell_type": "code",
   "execution_count": 36,
   "id": "debee6f2-67e3-4f5f-8ed0-4f3397f8f728",
   "metadata": {},
   "outputs": [
    {
     "name": "stdout",
     "output_type": "stream",
     "text": [
      "INFO: 2025-04-08 18:22:22,940 - ProMCDA - Number of indicators: 2\n",
      "INFO: 2025-04-08 18:22:22,942 - ProMCDA - Polarities are checked: ('+', '-')\n",
      "INFO: 2025-04-08 18:22:23,000 - ProMCDA - Number of indicators: 2\n",
      "INFO: 2025-04-08 18:22:23,001 - ProMCDA - Polarities are checked: ('+', '-')\n",
      "INFO: 2025-04-08 18:22:23,002 - ProMCDA - Start ProMCDA with uncertainty on the weights\n",
      "INFO: 2025-04-08 18:22:23,002 - ProMCDA - All weights are randomly sampled from a uniform distribution.\n"
     ]
    },
    {
     "data": {
      "text/plain": [
       "'Aggregation considered uncertainty on all weights, results are not explicitly shown.'"
      ]
     },
     "execution_count": 36,
     "metadata": {},
     "output_type": "execute_result"
    }
   ],
   "source": [
    "promcda.normalize()\n",
    "promcda.aggregate()"
   ]
  },
  {
   "cell_type": "code",
   "execution_count": 37,
   "id": "6c84e25b-a9ec-49bf-b4f1-cecdcd06f71a",
   "metadata": {},
   "outputs": [
    {
     "name": "stdout",
     "output_type": "stream",
     "text": [
      "(  ws-minmax_01 ws-target_01 ws-standardized_any ws-rank  \\\n",
      "0     0.546006     0.567492            0.060937     2.0   \n",
      "1          0.0     0.134984           -1.027432     1.0   \n",
      "2          1.0     0.923323            0.966495     3.0   \n",
      "\n",
      "   geom-minmax_without_zero  geom-target_without_zero  \\\n",
      "0                  0.590014                  0.608598   \n",
      "1                  0.100000                  0.194616   \n",
      "2                  1.000000                  0.928494   \n",
      "\n",
      "   geom-standardized_without_zero  geom-rank harm-minmax_without_zero  \\\n",
      "0                        1.185215        2.0                 0.588635   \n",
      "1                        0.100000        1.0                      0.1   \n",
      "2                        2.093918        3.0                      1.0   \n",
      "\n",
      "  harm-target_without_zero harm-standardized_without_zero harm-rank  \\\n",
      "0                 0.606437                       1.182092       2.0   \n",
      "1                 0.168345                            0.1       1.0   \n",
      "2                  0.92598                       2.093909       3.0   \n",
      "\n",
      "  min-standardized_any  \n",
      "0                  0.0  \n",
      "1            -1.059626  \n",
      "2             0.927173  ,    ws-minmax_01  ws-target_01  ws-standardized_any  ws-rank  \\\n",
      "0      0.546006      0.548169             0.545871      0.5   \n",
      "1      0.000000      0.000000             0.000000      0.0   \n",
      "2      1.000000      1.000000             1.000000      1.0   \n",
      "\n",
      "   geom-minmax_without_zero  geom-target_without_zero  \\\n",
      "0                   0.54446                   0.56372   \n",
      "1                   0.00000                   0.00000   \n",
      "2                   1.00000                   1.00000   \n",
      "\n",
      "   geom-standardized_without_zero  geom-rank  harm-minmax_without_zero  \\\n",
      "0                        0.544292        0.5                  0.542928   \n",
      "1                        0.000000        0.0                  0.000000   \n",
      "2                        1.000000        1.0                  1.000000   \n",
      "\n",
      "   harm-target_without_zero  harm-standardized_without_zero  harm-rank  \\\n",
      "0                    0.5781                        0.542728        0.5   \n",
      "1                    0.0000                        0.000000        0.0   \n",
      "2                    1.0000                        1.000000        1.0   \n",
      "\n",
      "   min-standardized_any  \n",
      "0              0.533333  \n",
      "1              0.000000  \n",
      "2              1.000000  ,    ws-minmax_01  ws-target_01  ws-standardized_any  ws-rank  \\\n",
      "0      0.023422      0.029278             0.031023      0.0   \n",
      "1      0.000000      0.058555             0.013966      0.0   \n",
      "2      0.000000      0.039037             0.017058      0.0   \n",
      "\n",
      "   geom-minmax_without_zero  geom-target_without_zero  \\\n",
      "0              2.105602e-02                  0.026346   \n",
      "1              1.699675e-17                  0.051152   \n",
      "2              0.000000e+00                  0.035132   \n",
      "\n",
      "   geom-standardized_without_zero     geom-rank  harm-minmax_without_zero  \\\n",
      "0                    4.493318e-02  1.922963e-16                  0.020981   \n",
      "1                    1.699675e-17  0.000000e+00                  0.000000   \n",
      "2                    3.092139e-03  0.000000e+00                  0.000000   \n",
      "\n",
      "   harm-target_without_zero  harm-standardized_without_zero     harm-rank  \\\n",
      "0                  0.026244                        0.044754  0.000000e+00   \n",
      "1                  0.042438                        0.000000  0.000000e+00   \n",
      "2                  0.035031                        0.003092  4.440892e-16   \n",
      "\n",
      "   min-standardized_any  \n",
      "0                   0.0  \n",
      "1                   0.0  \n",
      "2                   0.0  )\n",
      "<class 'tuple'>\n"
     ]
    }
   ],
   "source": [
    "result = promcda.get_aggregated_values_with_robustness_weights()\n",
    "print(result)  # Verifica il ritorno della funzione\n",
    "print(type(result))"
   ]
  },
  {
   "cell_type": "code",
   "execution_count": 38,
   "id": "88904c2c-6eee-490c-a513-5656539240b7",
   "metadata": {},
   "outputs": [],
   "source": [
    "means, normalized_means, stds = promcda.get_aggregated_values_with_robustness_weights()"
   ]
  },
  {
   "cell_type": "code",
   "execution_count": 39,
   "id": "bbd592e6-6aa4-4690-b53a-d2fbfa748492",
   "metadata": {},
   "outputs": [
    {
     "data": {
      "text/html": [
       "<div>\n",
       "<style scoped>\n",
       "    .dataframe tbody tr th:only-of-type {\n",
       "        vertical-align: middle;\n",
       "    }\n",
       "\n",
       "    .dataframe tbody tr th {\n",
       "        vertical-align: top;\n",
       "    }\n",
       "\n",
       "    .dataframe thead th {\n",
       "        text-align: right;\n",
       "    }\n",
       "</style>\n",
       "<table border=\"1\" class=\"dataframe\">\n",
       "  <thead>\n",
       "    <tr style=\"text-align: right;\">\n",
       "      <th></th>\n",
       "      <th>ws-minmax_01</th>\n",
       "      <th>ws-target_01</th>\n",
       "      <th>ws-standardized_any</th>\n",
       "      <th>ws-rank</th>\n",
       "      <th>geom-minmax_without_zero</th>\n",
       "      <th>geom-target_without_zero</th>\n",
       "      <th>geom-standardized_without_zero</th>\n",
       "      <th>geom-rank</th>\n",
       "      <th>harm-minmax_without_zero</th>\n",
       "      <th>harm-target_without_zero</th>\n",
       "      <th>harm-standardized_without_zero</th>\n",
       "      <th>harm-rank</th>\n",
       "      <th>min-standardized_any</th>\n",
       "    </tr>\n",
       "  </thead>\n",
       "  <tbody>\n",
       "    <tr>\n",
       "      <th>0</th>\n",
       "      <td>0.546006</td>\n",
       "      <td>0.567492</td>\n",
       "      <td>0.060937</td>\n",
       "      <td>2.0</td>\n",
       "      <td>0.590014</td>\n",
       "      <td>0.608598</td>\n",
       "      <td>1.185215</td>\n",
       "      <td>2.0</td>\n",
       "      <td>0.588635</td>\n",
       "      <td>0.606437</td>\n",
       "      <td>1.182092</td>\n",
       "      <td>2.0</td>\n",
       "      <td>0.0</td>\n",
       "    </tr>\n",
       "    <tr>\n",
       "      <th>1</th>\n",
       "      <td>0.0</td>\n",
       "      <td>0.134984</td>\n",
       "      <td>-1.027432</td>\n",
       "      <td>1.0</td>\n",
       "      <td>0.100000</td>\n",
       "      <td>0.194616</td>\n",
       "      <td>0.100000</td>\n",
       "      <td>1.0</td>\n",
       "      <td>0.1</td>\n",
       "      <td>0.168345</td>\n",
       "      <td>0.1</td>\n",
       "      <td>1.0</td>\n",
       "      <td>-1.059626</td>\n",
       "    </tr>\n",
       "    <tr>\n",
       "      <th>2</th>\n",
       "      <td>1.0</td>\n",
       "      <td>0.923323</td>\n",
       "      <td>0.966495</td>\n",
       "      <td>3.0</td>\n",
       "      <td>1.000000</td>\n",
       "      <td>0.928494</td>\n",
       "      <td>2.093918</td>\n",
       "      <td>3.0</td>\n",
       "      <td>1.0</td>\n",
       "      <td>0.92598</td>\n",
       "      <td>2.093909</td>\n",
       "      <td>3.0</td>\n",
       "      <td>0.927173</td>\n",
       "    </tr>\n",
       "  </tbody>\n",
       "</table>\n",
       "</div>"
      ],
      "text/plain": [
       "  ws-minmax_01 ws-target_01 ws-standardized_any ws-rank  \\\n",
       "0     0.546006     0.567492            0.060937     2.0   \n",
       "1          0.0     0.134984           -1.027432     1.0   \n",
       "2          1.0     0.923323            0.966495     3.0   \n",
       "\n",
       "   geom-minmax_without_zero  geom-target_without_zero  \\\n",
       "0                  0.590014                  0.608598   \n",
       "1                  0.100000                  0.194616   \n",
       "2                  1.000000                  0.928494   \n",
       "\n",
       "   geom-standardized_without_zero  geom-rank harm-minmax_without_zero  \\\n",
       "0                        1.185215        2.0                 0.588635   \n",
       "1                        0.100000        1.0                      0.1   \n",
       "2                        2.093918        3.0                      1.0   \n",
       "\n",
       "  harm-target_without_zero harm-standardized_without_zero harm-rank  \\\n",
       "0                 0.606437                       1.182092       2.0   \n",
       "1                 0.168345                            0.1       1.0   \n",
       "2                  0.92598                       2.093909       3.0   \n",
       "\n",
       "  min-standardized_any  \n",
       "0                  0.0  \n",
       "1            -1.059626  \n",
       "2             0.927173  "
      ]
     },
     "execution_count": 39,
     "metadata": {},
     "output_type": "execute_result"
    }
   ],
   "source": [
    "means"
   ]
  },
  {
   "cell_type": "markdown",
   "id": "a09be8b6-2d59-4498-8c94-2f3fa50fcf86",
   "metadata": {},
   "source": [
    "### Test aggregate with robustness on one weight at time, sensitivity"
   ]
  },
  {
   "cell_type": "code",
   "execution_count": 40,
   "id": "8e2709e2-02b6-46ec-b620-9efd7c53b2d2",
   "metadata": {},
   "outputs": [
    {
     "name": "stdout",
     "output_type": "stream",
     "text": [
      "INFO: 2025-04-08 18:22:35,023 - ProMCDA - Alternatives are ['A', 'B', 'C']\n"
     ]
    }
   ],
   "source": [
    "promcda = ProMCDA(\n",
    "    input_matrix=setup_no_robustness_indicators['input_matrix'],\n",
    "    polarity=setup_no_robustness_indicators['polarity'],\n",
    "    robustness_weights=False,\n",
    "    robustness_single_weights=True,\n",
    "    robustness_indicators=setup_no_robustness_indicators['robustness_indicators'],\n",
    "    \n",
    "    marginal_distributions=setup_no_robustness_indicators['marginal_distributions'],\n",
    "    num_runs=setup_no_robustness_indicators['num_runs'],\n",
    "    num_cores=setup_no_robustness_indicators['num_cores'],\n",
    "    #output_path=setup_parameters['output_path']\n",
    ")"
   ]
  },
  {
   "cell_type": "code",
   "execution_count": 41,
   "id": "ed75c0b3-5859-4437-b3ad-1eb91287ce77",
   "metadata": {},
   "outputs": [
    {
     "name": "stdout",
     "output_type": "stream",
     "text": [
      "INFO: 2025-04-08 18:22:35,603 - ProMCDA - Number of indicators: 2\n",
      "INFO: 2025-04-08 18:22:35,605 - ProMCDA - Polarities are checked: ('+', '-')\n",
      "INFO: 2025-04-08 18:22:35,740 - ProMCDA - Number of indicators: 2\n",
      "INFO: 2025-04-08 18:22:35,741 - ProMCDA - Polarities are checked: ('+', '-')\n",
      "INFO: 2025-04-08 18:22:35,741 - ProMCDA - Start ProMCDA with uncertainty on one weight at time\n",
      "INFO: 2025-04-08 18:22:35,741 - ProMCDA - One weight at time is randomly sampled from a uniform distribution.\n"
     ]
    },
    {
     "data": {
      "text/plain": [
       "'Aggregation considered uncertainty on one weight at time, results are not explicitly shown.'"
      ]
     },
     "execution_count": 41,
     "metadata": {},
     "output_type": "execute_result"
    }
   ],
   "source": [
    "promcda.normalize()\n",
    "promcda.aggregate()"
   ]
  },
  {
   "cell_type": "code",
   "execution_count": 42,
   "id": "7bcc9bad-4063-4675-a798-eb71bc9bf479",
   "metadata": {},
   "outputs": [],
   "source": [
    "means, normalized_means, stds = promcda.get_aggregated_values_with_robustness_one_weight()"
   ]
  },
  {
   "cell_type": "code",
   "execution_count": 43,
   "id": "462ed782-0e75-4835-9871-e3a9771b259b",
   "metadata": {},
   "outputs": [
    {
     "name": "stdout",
     "output_type": "stream",
     "text": [
      "{'indicator_1':   Alternatives ws-minmax_01 ws-target_01 ws-standardized_any ws-rank  \\\n",
      "0            A     0.576187     0.529766            0.100912     2.0   \n",
      "1            B          0.0     0.059532           -1.045427     1.0   \n",
      "2            C          1.0     0.873021            0.944515     3.0   \n",
      "\n",
      "   geom-minmax_without_zero  geom-target_without_zero  \\\n",
      "0                   0.61746                  0.575126   \n",
      "1                   0.10000                  0.134283   \n",
      "2                   1.00000                  0.883779   \n",
      "\n",
      "   geom-standardized_without_zero  geom-rank harm-minmax_without_zero  \\\n",
      "0                        1.243827        2.0                  0.61631   \n",
      "1                        0.100000        1.0                      0.1   \n",
      "2                        2.089935        3.0                      1.0   \n",
      "\n",
      "  harm-target_without_zero harm-standardized_without_zero harm-rank  \\\n",
      "0                 0.573544                       1.241213       2.0   \n",
      "1                 0.121451                            0.1       1.0   \n",
      "2                 0.881922                       2.089929       3.0   \n",
      "\n",
      "  min-standardized_any  \n",
      "0                  0.0  \n",
      "1            -1.059626  \n",
      "2             0.927173  , 'indicator_2':   Alternatives ws-minmax_01 ws-target_01 ws-standardized_any ws-rank  \\\n",
      "0            A     0.542723     0.571597            0.056588     2.0   \n",
      "1            B          0.0     0.143193           -1.025474     1.0   \n",
      "2            C          1.0     0.928796            0.968886     3.0   \n",
      "\n",
      "   geom-minmax_without_zero  geom-target_without_zero  \\\n",
      "0                   0.58682                  0.611915   \n",
      "1                   0.10000                  0.197074   \n",
      "2                   1.00000                  0.932981   \n",
      "\n",
      "   geom-standardized_without_zero  geom-rank harm-minmax_without_zero  \\\n",
      "0                        1.178367        2.0                 0.585216   \n",
      "1                        0.100000        1.0                      0.1   \n",
      "2                        2.094350        3.0                      1.0   \n",
      "\n",
      "  harm-target_without_zero harm-standardized_without_zero harm-rank  \\\n",
      "0                  0.60936                       1.174737       2.0   \n",
      "1                 0.166805                            0.1       1.0   \n",
      "2                  0.93001                        2.09434       3.0   \n",
      "\n",
      "  min-standardized_any  \n",
      "0                  0.0  \n",
      "1            -1.059626  \n",
      "2             0.927173  }\n"
     ]
    }
   ],
   "source": [
    "print(means)"
   ]
  },
  {
   "cell_type": "markdown",
   "id": "77630228-b015-44b4-9ec5-499e25dce0fd",
   "metadata": {},
   "source": [
    "### Test aggregate with robustness on one weight at time, fixed methods¶"
   ]
  },
  {
   "cell_type": "code",
   "execution_count": 44,
   "id": "d98aab8b-a474-493c-8f0e-b372b58a0b6c",
   "metadata": {},
   "outputs": [
    {
     "name": "stdout",
     "output_type": "stream",
     "text": [
      "INFO: 2025-04-08 18:22:41,260 - ProMCDA - Number of indicators: 2\n",
      "INFO: 2025-04-08 18:22:41,262 - ProMCDA - Polarities are checked: ('+', '-')\n",
      "INFO: 2025-04-08 18:22:41,274 - ProMCDA - Number of indicators: 2\n",
      "INFO: 2025-04-08 18:22:41,275 - ProMCDA - Polarities are checked: ('+', '-')\n",
      "INFO: 2025-04-08 18:22:41,276 - ProMCDA - Start ProMCDA with uncertainty on one weight at time\n",
      "INFO: 2025-04-08 18:22:41,277 - ProMCDA - One weight at time is randomly sampled from a uniform distribution.\n"
     ]
    },
    {
     "data": {
      "text/plain": [
       "'Aggregation considered uncertainty on one weight at time, results are not explicitly shown.'"
      ]
     },
     "execution_count": 44,
     "metadata": {},
     "output_type": "execute_result"
    }
   ],
   "source": [
    "promcda.normalize(NormalizationFunctions.MINMAX)\n",
    "promcda.aggregate(aggregation_method=AggregationFunctions.WEIGHTED_SUM)"
   ]
  },
  {
   "cell_type": "code",
   "execution_count": 45,
   "id": "b0a88125-3510-46e1-a1e0-f3d22ce0995d",
   "metadata": {},
   "outputs": [
    {
     "name": "stdout",
     "output_type": "stream",
     "text": [
      "{'indicator_1':   Alternatives  ws-minmax_01\n",
      "0            A      0.008817\n",
      "1            B      0.000000\n",
      "2            C      0.000000, 'indicator_2':   Alternatives  ws-minmax_01\n",
      "0            A      0.009789\n",
      "1            B      0.000000\n",
      "2            C      0.000000}\n"
     ]
    }
   ],
   "source": [
    "means, normalized_means, stds = promcda.get_aggregated_values_with_robustness_one_weight()\n",
    "print(stds)"
   ]
  },
  {
   "cell_type": "markdown",
   "id": "04da27ae-0303-447a-b454-5324361fbdf3",
   "metadata": {},
   "source": [
    "## TEST ROBUSTNESS INDICATORS - need setUpRobustnessIndicators"
   ]
  },
  {
   "cell_type": "code",
   "execution_count": 48,
   "id": "cd0e175f-9d59-4c96-bcb5-a53d8555988c",
   "metadata": {},
   "outputs": [
    {
     "name": "stdout",
     "output_type": "stream",
     "text": [
      "INFO: 2025-04-08 18:25:06,370 - ProMCDA - Alternatives are ['A', 'B', 'C']\n",
      "INFO: 2025-04-08 18:25:06,374 - ProMCDA - Number of alternatives: 3\n",
      "INFO: 2025-04-08 18:25:06,375 - ProMCDA - Number of indicators: 4\n",
      "INFO: 2025-04-08 18:25:06,376 - ProMCDA - Polarities are checked: ('+', '-')\n"
     ]
    }
   ],
   "source": [
    "promcda = ProMCDA(\n",
    "    input_matrix=setup_robustness_indicators['input_matrix'],\n",
    "    polarity=setup_robustness_indicators['polarity'],\n",
    "    robustness_weights=setup_robustness_indicators['robustness_weights'],\n",
    "    robustness_indicators=setup_robustness_indicators['robustness_indicators'],\n",
    "    marginal_distributions=setup_robustness_indicators['marginal_distributions'],\n",
    "    num_runs=setup_robustness_indicators['num_runs'],\n",
    "    num_cores=setup_robustness_indicators['num_cores'],\n",
    ")"
   ]
  },
  {
   "cell_type": "markdown",
   "id": "448f86cd-6136-4636-9c5e-b803de97ca74",
   "metadata": {},
   "source": [
    "### Test normalize with sensitivity"
   ]
  },
  {
   "cell_type": "code",
   "execution_count": 49,
   "id": "1518d4a0-9351-4a5e-91db-806f21d32e96",
   "metadata": {
    "scrolled": true
   },
   "outputs": [
    {
     "name": "stdout",
     "output_type": "stream",
     "text": [
      "INFO: 2025-04-08 18:25:13,417 - ProMCDA - Number of alternatives: 3\n",
      "INFO: 2025-04-08 18:25:13,418 - ProMCDA - Number of indicators: 4\n",
      "INFO: 2025-04-08 18:25:13,419 - ProMCDA - Polarities are checked: ('+', '-')\n"
     ]
    },
    {
     "data": {
      "text/plain": [
       "[{'standardized_any':           0         1\n",
       "  0  0.107857  0.228287\n",
       "  1 -1.049557 -1.094406\n",
       "  2  0.941699  0.866119,\n",
       "  'standardized_without_zero':           0         1\n",
       "  0  1.257414  1.422692\n",
       "  1       0.1       0.1\n",
       "  2  2.091256  2.060524,\n",
       "  'minmax_01':           0         1\n",
       "  0  0.581248  0.674663\n",
       "  1       0.0       0.0\n",
       "  2       1.0       1.0,\n",
       "  'minmax_without_zero':           0         1\n",
       "  0  0.623123  0.707196\n",
       "  1       0.1       0.1\n",
       "  2       1.0       1.0,\n",
       "  'target_01':           0         1\n",
       "  0  0.679686  0.586277\n",
       "  1  0.235073       0.0\n",
       "  2       1.0  0.868992,\n",
       "  'target_without_zero':           0         1\n",
       "  0  0.711717  0.627649\n",
       "  1  0.311566       0.1\n",
       "  2       1.0  0.882093,\n",
       "  'rank':      0    1\n",
       "  0  2.0  2.0\n",
       "  1  1.0  1.0\n",
       "  2  3.0  3.0},\n",
       " {'standardized_any':           0         1\n",
       "  0 -0.114056  0.161992\n",
       "  1 -0.938082 -1.071107\n",
       "  2  1.052138  0.909114,\n",
       "  'standardized_without_zero':           0         1\n",
       "  0  0.924026  1.333099\n",
       "  1       0.1       0.1\n",
       "  2   2.09022  2.080221,\n",
       "  'minmax_01':           0         1\n",
       "  0  0.414038  0.622708\n",
       "  1       0.0       0.0\n",
       "  2       1.0       1.0,\n",
       "  'minmax_without_zero':           0         1\n",
       "  0  0.472634  0.660437\n",
       "  1       0.1       0.1\n",
       "  2       1.0       1.0,\n",
       "  'target_01':           0         1\n",
       "  0  0.579062  0.508629\n",
       "  1  0.281629       0.0\n",
       "  2       1.0  0.816802,\n",
       "  'target_without_zero':           0         1\n",
       "  0  0.621156  0.557766\n",
       "  1  0.353467       0.1\n",
       "  2       1.0  0.835122,\n",
       "  'rank':      0    1\n",
       "  0  2.0  2.0\n",
       "  1  1.0  1.0\n",
       "  2  3.0  3.0},\n",
       " {'standardized_any':           0         1\n",
       "  0 -0.029782  0.244632\n",
       "  1 -0.984776 -1.099617\n",
       "  2  1.014558  0.854985,\n",
       "  'standardized_without_zero':           0         1\n",
       "  0  1.054994  1.444249\n",
       "  1       0.1       0.1\n",
       "  2  2.099335  2.054601,\n",
       "  'minmax_01':           0         1\n",
       "  0  0.477656  0.687736\n",
       "  1       0.0       0.0\n",
       "  2       1.0       1.0,\n",
       "  'minmax_without_zero':          0         1\n",
       "  0  0.52989  0.718962\n",
       "  1      0.1       0.1\n",
       "  2      1.0       1.0,\n",
       "  'target_01':           0         1\n",
       "  0  0.618886  0.597756\n",
       "  1  0.270378       0.0\n",
       "  2       1.0  0.869166,\n",
       "  'target_without_zero':           0         1\n",
       "  0  0.656998  0.637981\n",
       "  1   0.34334       0.1\n",
       "  2       1.0  0.882249,\n",
       "  'rank':      0    1\n",
       "  0  2.0  2.0\n",
       "  1  1.0  1.0\n",
       "  2  3.0  3.0},\n",
       " {'standardized_any':           0         1\n",
       "  0   -0.1171  0.176795\n",
       "  1 -0.936295 -1.076607\n",
       "  2  1.053394  0.899812,\n",
       "  'standardized_without_zero':           0         1\n",
       "  0  0.919195  1.353401\n",
       "  1       0.1       0.1\n",
       "  2  2.089689  2.076419,\n",
       "  'minmax_01':          0         1\n",
       "  0  0.41172  0.634178\n",
       "  1      0.0       0.0\n",
       "  2      1.0       1.0,\n",
       "  'minmax_without_zero':           0        1\n",
       "  0  0.470548  0.67076\n",
       "  1       0.1      0.1\n",
       "  2       1.0      1.0,\n",
       "  'target_01':           0         1\n",
       "  0  0.548255  0.538117\n",
       "  1  0.232092       0.0\n",
       "  2       1.0  0.848526,\n",
       "  'target_without_zero':           0         1\n",
       "  0   0.59343  0.584305\n",
       "  1  0.308883       0.1\n",
       "  2       1.0  0.863673,\n",
       "  'rank':      0    1\n",
       "  0  2.0  2.0\n",
       "  1  1.0  1.0\n",
       "  2  3.0  3.0},\n",
       " {'standardized_any':           0         1\n",
       "  0  -0.34284  0.126952\n",
       "  1 -0.783486 -1.057414\n",
       "  2  1.126326  0.930462,\n",
       "  'standardized_without_zero':           0         1\n",
       "  0  0.540646  1.284365\n",
       "  1       0.1       0.1\n",
       "  2  2.009812  2.087876,\n",
       "  'minmax_01':           0         1\n",
       "  0  0.230727  0.595794\n",
       "  1       0.0       0.0\n",
       "  2       1.0       1.0,\n",
       "  'minmax_without_zero':           0         1\n",
       "  0  0.307655  0.636215\n",
       "  1       0.1       0.1\n",
       "  2       1.0       1.0,\n",
       "  'target_01':           0         1\n",
       "  0    0.3992   0.49227\n",
       "  1  0.219002       0.0\n",
       "  2       1.0  0.826242,\n",
       "  'target_without_zero':           0         1\n",
       "  0   0.45928  0.543043\n",
       "  1  0.297102       0.1\n",
       "  2       1.0  0.843618,\n",
       "  'rank':      0    1\n",
       "  0  2.0  2.0\n",
       "  1  1.0  1.0\n",
       "  2  3.0  3.0}]"
      ]
     },
     "execution_count": 49,
     "metadata": {},
     "output_type": "execute_result"
    }
   ],
   "source": [
    "promcda.normalize()\n",
    "promcda.get_normalized_values_with_robustness() # If robustness_indicators"
   ]
  },
  {
   "cell_type": "markdown",
   "id": "e3d4c24e-6203-4ab6-bfb4-72defe219ac3",
   "metadata": {},
   "source": [
    "### Test normalize with specific method"
   ]
  },
  {
   "cell_type": "code",
   "execution_count": 50,
   "id": "1aec0eab-5c5a-4279-91b1-891a3fc9a868",
   "metadata": {},
   "outputs": [
    {
     "name": "stdout",
     "output_type": "stream",
     "text": [
      "INFO: 2025-04-08 18:25:22,931 - ProMCDA - Number of alternatives: 3\n",
      "INFO: 2025-04-08 18:25:22,932 - ProMCDA - Number of indicators: 4\n",
      "INFO: 2025-04-08 18:25:22,933 - ProMCDA - Polarities are checked: ('+', '-')\n"
     ]
    },
    {
     "data": {
      "text/plain": [
       "[{'minmax_01':           0         1\n",
       "  0  0.581248  0.674663\n",
       "  1       0.0       0.0\n",
       "  2       1.0       1.0,\n",
       "  'minmax_without_zero':           0         1\n",
       "  0  0.623123  0.707196\n",
       "  1       0.1       0.1\n",
       "  2       1.0       1.0},\n",
       " {'minmax_01':           0         1\n",
       "  0  0.414038  0.622708\n",
       "  1       0.0       0.0\n",
       "  2       1.0       1.0,\n",
       "  'minmax_without_zero':           0         1\n",
       "  0  0.472634  0.660437\n",
       "  1       0.1       0.1\n",
       "  2       1.0       1.0},\n",
       " {'minmax_01':           0         1\n",
       "  0  0.477656  0.687736\n",
       "  1       0.0       0.0\n",
       "  2       1.0       1.0,\n",
       "  'minmax_without_zero':          0         1\n",
       "  0  0.52989  0.718962\n",
       "  1      0.1       0.1\n",
       "  2      1.0       1.0},\n",
       " {'minmax_01':          0         1\n",
       "  0  0.41172  0.634178\n",
       "  1      0.0       0.0\n",
       "  2      1.0       1.0,\n",
       "  'minmax_without_zero':           0        1\n",
       "  0  0.470548  0.67076\n",
       "  1       0.1      0.1\n",
       "  2       1.0      1.0},\n",
       " {'minmax_01':           0         1\n",
       "  0  0.230727  0.595794\n",
       "  1       0.0       0.0\n",
       "  2       1.0       1.0,\n",
       "  'minmax_without_zero':           0         1\n",
       "  0  0.307655  0.636215\n",
       "  1       0.1       0.1\n",
       "  2       1.0       1.0}]"
      ]
     },
     "execution_count": 50,
     "metadata": {},
     "output_type": "execute_result"
    }
   ],
   "source": [
    "promcda.normalize(NormalizationFunctions.MINMAX)\n",
    "promcda.get_normalized_values_with_robustness() # If robustness_indicators"
   ]
  },
  {
   "cell_type": "markdown",
   "id": "2c6ad5ee-a10e-4c89-8bb3-c60190bb587d",
   "metadata": {},
   "source": [
    "### Test aggregate with specific methods "
   ]
  },
  {
   "cell_type": "code",
   "execution_count": 51,
   "id": "15bb84ff-e194-4326-a368-c467c9b6e3a7",
   "metadata": {
    "scrolled": true
   },
   "outputs": [
    {
     "name": "stdout",
     "output_type": "stream",
     "text": [
      "INFO: 2025-04-08 18:25:35,640 - ProMCDA - Number of alternatives: 3\n",
      "INFO: 2025-04-08 18:25:35,641 - ProMCDA - Number of indicators: 4\n",
      "INFO: 2025-04-08 18:25:35,642 - ProMCDA - Polarities are checked: ('+', '-')\n",
      "INFO: 2025-04-08 18:25:37,053 - ProMCDA - Number of alternatives: 3\n",
      "INFO: 2025-04-08 18:25:37,053 - ProMCDA - Number of indicators: 4\n",
      "INFO: 2025-04-08 18:25:37,054 - ProMCDA - Polarities are checked: ('+', '-')\n",
      "INFO: 2025-04-08 18:25:37,054 - ProMCDA - Start ProMCDA with uncertainty on the indicators\n",
      "INFO: 2025-04-08 18:25:37,054 - ProMCDA - The number of Monte-Carlo runs is only 5\n",
      "INFO: 2025-04-08 18:25:37,054 - ProMCDA - A meaningful number of Monte-Carlo runs is equal or larger than 1000\n"
     ]
    },
    {
     "data": {
      "text/plain": [
       "'Aggregation considered uncertainty on indicators, results are not explicitly shown.'"
      ]
     },
     "execution_count": 51,
     "metadata": {},
     "output_type": "execute_result"
    }
   ],
   "source": [
    "promcda.normalize(normalization_method=NormalizationFunctions.MINMAX)\n",
    "promcda.aggregate(aggregation_method=AggregationFunctions.WEIGHTED_SUM)"
   ]
  },
  {
   "cell_type": "code",
   "execution_count": 52,
   "id": "128cc88d-928e-439e-896a-be71faa60075",
   "metadata": {},
   "outputs": [
    {
     "name": "stdout",
     "output_type": "stream",
     "text": [
      "   ws-minmax_01\n",
      "0  8.083722e-02\n",
      "1  0.000000e+00\n",
      "2  5.551115e-17\n"
     ]
    }
   ],
   "source": [
    "means, normalized_means, stds = promcda.get_aggregated_values_with_robustness_indicators()\n",
    "print(stds)"
   ]
  },
  {
   "cell_type": "markdown",
   "id": "49678cf4-c0be-4764-9fe5-85cb84dbee08",
   "metadata": {},
   "source": [
    "### Test aggregate with sensitivity"
   ]
  },
  {
   "cell_type": "code",
   "execution_count": 53,
   "id": "5fda14fb-8388-4a03-9586-412ecf16ded4",
   "metadata": {},
   "outputs": [
    {
     "name": "stdout",
     "output_type": "stream",
     "text": [
      "INFO: 2025-04-08 18:25:43,345 - ProMCDA - Number of alternatives: 3\n",
      "INFO: 2025-04-08 18:25:43,347 - ProMCDA - Number of indicators: 4\n",
      "INFO: 2025-04-08 18:25:43,347 - ProMCDA - Polarities are checked: ('+', '-')\n",
      "INFO: 2025-04-08 18:25:44,878 - ProMCDA - Number of alternatives: 3\n",
      "INFO: 2025-04-08 18:25:44,879 - ProMCDA - Number of indicators: 4\n",
      "INFO: 2025-04-08 18:25:44,879 - ProMCDA - Polarities are checked: ('+', '-')\n",
      "INFO: 2025-04-08 18:25:44,880 - ProMCDA - Start ProMCDA with uncertainty on the indicators\n",
      "INFO: 2025-04-08 18:25:44,881 - ProMCDA - The number of Monte-Carlo runs is only 5\n",
      "INFO: 2025-04-08 18:25:44,881 - ProMCDA - A meaningful number of Monte-Carlo runs is equal or larger than 1000\n"
     ]
    },
    {
     "data": {
      "text/plain": [
       "'Aggregation considered uncertainty on indicators, results are not explicitly shown.'"
      ]
     },
     "execution_count": 53,
     "metadata": {},
     "output_type": "execute_result"
    }
   ],
   "source": [
    "promcda.normalize()\n",
    "promcda.aggregate()"
   ]
  },
  {
   "cell_type": "code",
   "execution_count": 54,
   "id": "1a002098-255d-4ef4-ae0a-8b6304e61a40",
   "metadata": {},
   "outputs": [
    {
     "name": "stdout",
     "output_type": "stream",
     "text": [
      "   ws-standardized_any  min-standardized_any  geom-standardized_without_zero  \\\n",
      "0             0.533341              0.533047                         0.53895   \n",
      "1             0.000000              0.000000                         0.00000   \n",
      "2             1.000000              1.000000                         1.00000   \n",
      "\n",
      "   harm-standardized_without_zero  ws-minmax_01  geom-minmax_without_zero  \\\n",
      "0                             0.5      0.519443                  0.520885   \n",
      "1                             0.0      0.000000                  0.000000   \n",
      "2                             1.0      1.000000                  1.000000   \n",
      "\n",
      "   harm-minmax_without_zero  ws-target_01  geom-target_without_zero  \\\n",
      "0                  0.559242           0.5                  0.506337   \n",
      "1                  0.000000           0.0                  0.000000   \n",
      "2                  1.000000           1.0                  1.000000   \n",
      "\n",
      "   harm-target_without_zero   ws-rank  geom-rank  harm-rank  \n",
      "0                  0.509207  0.575366        0.5   0.497765  \n",
      "1                  0.000000  0.000000        0.0   0.000000  \n",
      "2                  1.000000  1.000000        1.0   1.000000  \n"
     ]
    }
   ],
   "source": [
    "means, normalized_means, stds = promcda.get_aggregated_values_with_robustness_indicators()\n",
    "print(normalized_means)"
   ]
  },
  {
   "cell_type": "markdown",
   "id": "f4657c7d-38ec-4f16-afeb-4a6721dd1e78",
   "metadata": {},
   "source": [
    "### Test aggregate with partial sensitivity"
   ]
  },
  {
   "cell_type": "code",
   "execution_count": 55,
   "id": "f6e01f30-bf8f-4f11-a949-29c636ed6b68",
   "metadata": {},
   "outputs": [
    {
     "name": "stdout",
     "output_type": "stream",
     "text": [
      "INFO: 2025-04-08 18:25:48,953 - ProMCDA - Number of alternatives: 3\n",
      "INFO: 2025-04-08 18:25:48,955 - ProMCDA - Number of indicators: 4\n",
      "INFO: 2025-04-08 18:25:48,955 - ProMCDA - Polarities are checked: ('+', '-')\n",
      "INFO: 2025-04-08 18:25:50,434 - ProMCDA - Number of alternatives: 3\n",
      "INFO: 2025-04-08 18:25:50,435 - ProMCDA - Number of indicators: 4\n",
      "INFO: 2025-04-08 18:25:50,435 - ProMCDA - Polarities are checked: ('+', '-')\n",
      "INFO: 2025-04-08 18:25:50,435 - ProMCDA - Start ProMCDA with uncertainty on the indicators\n",
      "INFO: 2025-04-08 18:25:50,435 - ProMCDA - The number of Monte-Carlo runs is only 5\n",
      "INFO: 2025-04-08 18:25:50,435 - ProMCDA - A meaningful number of Monte-Carlo runs is equal or larger than 1000\n"
     ]
    },
    {
     "data": {
      "text/plain": [
       "'Aggregation considered uncertainty on indicators, results are not explicitly shown.'"
      ]
     },
     "execution_count": 55,
     "metadata": {},
     "output_type": "execute_result"
    }
   ],
   "source": [
    "promcda.normalize(normalization_method=NormalizationFunctions.MINMAX)\n",
    "promcda.aggregate()"
   ]
  },
  {
   "cell_type": "code",
   "execution_count": 56,
   "id": "14a94059-69d2-46d1-9532-e922931f5a88",
   "metadata": {},
   "outputs": [
    {
     "name": "stdout",
     "output_type": "stream",
     "text": [
      "   ws-minmax_01  geom-minmax_without_zero  harm-minmax_without_zero\n",
      "0      0.533047                  0.520885                  0.509207\n",
      "1      0.000000                  0.000000                  0.000000\n",
      "2      1.000000                  1.000000                  1.000000\n"
     ]
    }
   ],
   "source": [
    "means, normalized_means, stds = promcda.get_aggregated_values_with_robustness_indicators()\n",
    "print(normalized_means)"
   ]
  }
 ],
 "metadata": {
  "kernelspec": {
   "display_name": "promcda_library",
   "language": "python",
   "name": "promcda_library"
  },
  "language_info": {
   "codemirror_mode": {
    "name": "ipython",
    "version": 3
   },
   "file_extension": ".py",
   "mimetype": "text/x-python",
   "name": "python",
   "nbconvert_exporter": "python",
   "pygments_lexer": "ipython3",
   "version": "3.9.20"
  }
 },
 "nbformat": 4,
 "nbformat_minor": 5
}
