{
 "cells": [
  {
   "cell_type": "code",
   "execution_count": 1,
   "id": "96df2c84-1509-4e93-952a-9beba8d0ec45",
   "metadata": {},
   "outputs": [
    {
     "name": "stdout",
     "output_type": "stream",
     "text": [
      "Import successful!\n"
     ]
    }
   ],
   "source": [
    "import os\n",
    "import sys\n",
    "import pandas as pd\n",
    "\n",
    "package_path = '/Users/flaminia/Documents/work/ProMCDA'\n",
    "\n",
    "if package_path not in sys.path:\n",
    "    sys.path.append(package_path)\n",
    "\n",
    "try:\n",
    "    from mcda.models.ProMCDA import ProMCDA\n",
    "    print(\"Import successful!\")\n",
    "except ModuleNotFoundError as e:\n",
    "    print(f\"ModuleNotFoundError: {e}\")\n",
    "\n",
    "from mcda.configuration.enums import NormalizationFunctions, AggregationFunctions, OutputColumnNames4Sensitivity, NormalizationNames4Sensitivity, PDFType"
   ]
  },
  {
   "cell_type": "code",
   "execution_count": 2,
   "id": "9dbbd731-e201-47cc-8bfb-159a52559b25",
   "metadata": {},
   "outputs": [
    {
     "data": {
      "text/plain": [
       "{'input_matrix':               Criteria 1  Criteria 2\n",
       " Alternatives                        \n",
       " A                    0.5         0.3\n",
       " B                    0.2         0.6\n",
       " C                    0.8         0.1,\n",
       " 'polarity': ('+', '-'),\n",
       " 'robustness_weights': False,\n",
       " 'robustness_indicators': False,\n",
       " 'marginal_distributions': [<PDFType.NORMAL: 'normal'>,\n",
       "  <PDFType.NORMAL: 'normal'>],\n",
       " 'num_runs': 5,\n",
       " 'num_cores': 1,\n",
       " 'output_path': 'mock_output/'}"
      ]
     },
     "execution_count": 2,
     "metadata": {},
     "output_type": "execute_result"
    }
   ],
   "source": [
    "def setUpNoRobustnessIndicators():\n",
    "    \n",
    "    # Mock input data for testing\n",
    "    input_matrix_without_uncertainty = pd.DataFrame({\n",
    "        'Alternatives': ['A', 'B', 'C'],\n",
    "        'Criteria 1': [0.5, 0.2, 0.8],\n",
    "        'Criteria 2': [0.3, 0.6, 0.1]\n",
    "    }, index=['A', 'B', 'C'])\n",
    "   \n",
    "    input_matrix_without_uncertainty.set_index('Alternatives', inplace=True)\n",
    "\n",
    "    polarity = ('+', '-')\n",
    "\n",
    "    robustness_weights = False\n",
    "    robustness_indicators = False\n",
    "\n",
    "    marginal_distributions = [PDFType.NORMAL, PDFType.NORMAL]\n",
    "\n",
    "    num_runs = 5\n",
    "    num_cores = 1\n",
    "\n",
    "    output_path = 'mock_output/'\n",
    "\n",
    "    # Return the setup parameters as a dictionary\n",
    "    return {\n",
    "        'input_matrix': input_matrix_without_uncertainty, # Decide what type of input matrix\n",
    "        'polarity': polarity,\n",
    "        'robustness_weights': robustness_weights,\n",
    "        'robustness_indicators': robustness_indicators,\n",
    "        'marginal_distributions': marginal_distributions,\n",
    "        'num_runs': num_runs,\n",
    "        'num_cores': num_cores,\n",
    "        'output_path': output_path\n",
    "    }\n",
    "\n",
    "# Run the setup and store parameters in a variable\n",
    "setup_no_robustness_indicators = setUpNoRobustnessIndicators()\n",
    "\n",
    "# Check the setup parameters\n",
    "setup_no_robustness_indicators"
   ]
  },
  {
   "cell_type": "code",
   "execution_count": 3,
   "id": "cef40536-5942-44a4-9a2c-2a9e9b02b7a0",
   "metadata": {},
   "outputs": [
    {
     "data": {
      "text/plain": [
       "{'input_matrix':               Criterion1_mean  Criterion1_std  Criterion2_mean  Criterion2_std\n",
       " Alternatives                                                                  \n",
       " A                         0.5            0.10              0.3            0.03\n",
       " B                         0.2            0.02              0.6            0.06\n",
       " C                         0.8            0.07              0.1            0.01,\n",
       " 'polarity': ('+', '-'),\n",
       " 'robustness_weights': False,\n",
       " 'robustness_indicators': True,\n",
       " 'marginal_distributions': [<PDFType.NORMAL: 'normal'>,\n",
       "  <PDFType.NORMAL: 'normal'>],\n",
       " 'num_runs': 5,\n",
       " 'num_cores': 1,\n",
       " 'output_path': 'mock_output/'}"
      ]
     },
     "execution_count": 3,
     "metadata": {},
     "output_type": "execute_result"
    }
   ],
   "source": [
    "def setUpRobustnessIndicators():\n",
    "    \n",
    "    # Mock input data for testing\n",
    "    input_matrix_with_uncertainty = pd.DataFrame({\n",
    "    'Alternatives': ['A', 'B', 'C'],\n",
    "    'Criterion1_mean': [0.5, 0.2, 0.8],\n",
    "    'Criterion1_std': [0.1, 0.02, 0.07],\n",
    "    'Criterion2_mean': [0.3, 0.6, 0.1],\n",
    "    'Criterion2_std': [0.03, 0.06, 0.01]\n",
    "        })\n",
    "   \n",
    "    input_matrix_with_uncertainty.set_index('Alternatives', inplace=True)\n",
    "\n",
    "    polarity = ('+', '-')\n",
    "\n",
    "    robustness_weights = False\n",
    "    robustness_indicators = True\n",
    "\n",
    "    marginal_distributions = [PDFType.NORMAL, PDFType.NORMAL]\n",
    "\n",
    "    num_runs = 5\n",
    "    num_cores = 1\n",
    "\n",
    "    output_path = 'mock_output/'\n",
    "\n",
    "    # Return the setup parameters as a dictionary\n",
    "    return {\n",
    "        'input_matrix': input_matrix_with_uncertainty, # Decide what type of input matrix\n",
    "        'polarity': polarity,\n",
    "        'robustness_weights': robustness_weights,\n",
    "        'robustness_indicators': robustness_indicators,\n",
    "        'marginal_distributions': marginal_distributions,\n",
    "        'num_runs': num_runs,\n",
    "        'num_cores': num_cores,\n",
    "        'output_path': output_path\n",
    "    }\n",
    "\n",
    "# Run the setup and store parameters in a variable\n",
    "setup_robustness_indicators = setUpRobustnessIndicators()\n",
    "\n",
    "# Check the setup parameters\n",
    "setup_robustness_indicators"
   ]
  },
  {
   "cell_type": "markdown",
   "id": "07775901-e7d2-447c-a96e-b882748e9f4f",
   "metadata": {},
   "source": [
    "## TEST NO ROBUSTNESS ON INDICATORS"
   ]
  },
  {
   "cell_type": "code",
   "execution_count": 4,
   "id": "c9ffcdc6-0243-4303-8afd-33c7f3de5c21",
   "metadata": {},
   "outputs": [
    {
     "name": "stdout",
     "output_type": "stream",
     "text": [
      "INFO: 2024-12-19 13:56:56,169 - ProMCDA - Alternatives are ['A', 'B', 'C']\n"
     ]
    }
   ],
   "source": [
    "promcda = ProMCDA(\n",
    "    input_matrix=setup_no_robustness_indicators['input_matrix'],\n",
    "    polarity=setup_no_robustness_indicators['polarity'],\n",
    "    robustness_weights=setup_no_robustness_indicators['robustness_weights'],\n",
    "    robustness_indicators=setup_no_robustness_indicators['robustness_indicators'],\n",
    "    marginal_distributions=setup_no_robustness_indicators['marginal_distributions'],\n",
    "    num_runs=setup_no_robustness_indicators['num_runs'],\n",
    "    num_cores=setup_no_robustness_indicators['num_cores'],\n",
    "    #output_path=setup_parameters['output_path']\n",
    ")"
   ]
  },
  {
   "cell_type": "markdown",
   "id": "94796bf7-fd25-4f0d-bdd6-f828f3e0b5f1",
   "metadata": {},
   "source": [
    "### Test normalize with sensitivity¶"
   ]
  },
  {
   "cell_type": "code",
   "execution_count": 5,
   "id": "dfd69479-446e-4919-8b3e-c888d9e675f7",
   "metadata": {},
   "outputs": [
    {
     "data": {
      "text/html": [
       "<div>\n",
       "<style scoped>\n",
       "    .dataframe tbody tr th:only-of-type {\n",
       "        vertical-align: middle;\n",
       "    }\n",
       "\n",
       "    .dataframe tbody tr th {\n",
       "        vertical-align: top;\n",
       "    }\n",
       "\n",
       "    .dataframe thead th {\n",
       "        text-align: right;\n",
       "    }\n",
       "</style>\n",
       "<table border=\"1\" class=\"dataframe\">\n",
       "  <thead>\n",
       "    <tr style=\"text-align: right;\">\n",
       "      <th></th>\n",
       "      <th>Criteria 1_minmax_01</th>\n",
       "      <th>Criteria 2_minmax_01</th>\n",
       "      <th>Criteria 1_minmax_without_zero</th>\n",
       "      <th>Criteria 2_minmax_without_zero</th>\n",
       "      <th>Criteria 1_target_01</th>\n",
       "      <th>Criteria 2_target_01</th>\n",
       "      <th>Criteria 1_target_without_zero</th>\n",
       "      <th>Criteria 2_target_without_zero</th>\n",
       "      <th>Criteria 1_standardized_any</th>\n",
       "      <th>Criteria 2_standardized_any</th>\n",
       "      <th>Criteria 1_standardized_without_zero</th>\n",
       "      <th>Criteria 2_standardized_without_zero</th>\n",
       "      <th>Criteria 1_rank</th>\n",
       "      <th>Criteria 2_rank</th>\n",
       "    </tr>\n",
       "  </thead>\n",
       "  <tbody>\n",
       "    <tr>\n",
       "      <th>0</th>\n",
       "      <td>0.5</td>\n",
       "      <td>0.6</td>\n",
       "      <td>0.55</td>\n",
       "      <td>0.64</td>\n",
       "      <td>0.625</td>\n",
       "      <td>0.5</td>\n",
       "      <td>0.6625</td>\n",
       "      <td>0.55</td>\n",
       "      <td>0.0</td>\n",
       "      <td>0.132453</td>\n",
       "      <td>1.1</td>\n",
       "      <td>1.292079</td>\n",
       "      <td>2.0</td>\n",
       "      <td>2.0</td>\n",
       "    </tr>\n",
       "    <tr>\n",
       "      <th>1</th>\n",
       "      <td>0.0</td>\n",
       "      <td>0.0</td>\n",
       "      <td>0.1</td>\n",
       "      <td>0.1</td>\n",
       "      <td>0.25</td>\n",
       "      <td>0.0</td>\n",
       "      <td>0.325</td>\n",
       "      <td>0.1</td>\n",
       "      <td>-1.0</td>\n",
       "      <td>-1.059626</td>\n",
       "      <td>0.1</td>\n",
       "      <td>0.1</td>\n",
       "      <td>1.0</td>\n",
       "      <td>1.0</td>\n",
       "    </tr>\n",
       "    <tr>\n",
       "      <th>2</th>\n",
       "      <td>1.0</td>\n",
       "      <td>1.0</td>\n",
       "      <td>1.0</td>\n",
       "      <td>1.0</td>\n",
       "      <td>1.0</td>\n",
       "      <td>0.833333</td>\n",
       "      <td>1.0</td>\n",
       "      <td>0.85</td>\n",
       "      <td>1.0</td>\n",
       "      <td>0.927173</td>\n",
       "      <td>2.1</td>\n",
       "      <td>2.086799</td>\n",
       "      <td>3.0</td>\n",
       "      <td>3.0</td>\n",
       "    </tr>\n",
       "  </tbody>\n",
       "</table>\n",
       "</div>"
      ],
      "text/plain": [
       "  Criteria 1_minmax_01 Criteria 2_minmax_01 Criteria 1_minmax_without_zero  \\\n",
       "0                  0.5                  0.6                           0.55   \n",
       "1                  0.0                  0.0                            0.1   \n",
       "2                  1.0                  1.0                            1.0   \n",
       "\n",
       "  Criteria 2_minmax_without_zero Criteria 1_target_01 Criteria 2_target_01  \\\n",
       "0                           0.64                0.625                  0.5   \n",
       "1                            0.1                 0.25                  0.0   \n",
       "2                            1.0                  1.0             0.833333   \n",
       "\n",
       "  Criteria 1_target_without_zero Criteria 2_target_without_zero  \\\n",
       "0                         0.6625                           0.55   \n",
       "1                          0.325                            0.1   \n",
       "2                            1.0                           0.85   \n",
       "\n",
       "  Criteria 1_standardized_any Criteria 2_standardized_any  \\\n",
       "0                         0.0                    0.132453   \n",
       "1                        -1.0                   -1.059626   \n",
       "2                         1.0                    0.927173   \n",
       "\n",
       "  Criteria 1_standardized_without_zero Criteria 2_standardized_without_zero  \\\n",
       "0                                  1.1                             1.292079   \n",
       "1                                  0.1                                  0.1   \n",
       "2                                  2.1                             2.086799   \n",
       "\n",
       "  Criteria 1_rank Criteria 2_rank  \n",
       "0             2.0             2.0  \n",
       "1             1.0             1.0  \n",
       "2             3.0             3.0  "
      ]
     },
     "execution_count": 5,
     "metadata": {},
     "output_type": "execute_result"
    }
   ],
   "source": [
    "promcda.normalize()"
   ]
  },
  {
   "cell_type": "markdown",
   "id": "267aae1e-3b4d-4ad0-8337-fa46a68081f8",
   "metadata": {},
   "source": [
    "### Test normalize with specific method"
   ]
  },
  {
   "cell_type": "code",
   "execution_count": 6,
   "id": "2ba273b0-18ac-43a1-8afc-f3280f6e2d9f",
   "metadata": {},
   "outputs": [
    {
     "data": {
      "text/html": [
       "<div>\n",
       "<style scoped>\n",
       "    .dataframe tbody tr th:only-of-type {\n",
       "        vertical-align: middle;\n",
       "    }\n",
       "\n",
       "    .dataframe tbody tr th {\n",
       "        vertical-align: top;\n",
       "    }\n",
       "\n",
       "    .dataframe thead th {\n",
       "        text-align: right;\n",
       "    }\n",
       "</style>\n",
       "<table border=\"1\" class=\"dataframe\">\n",
       "  <thead>\n",
       "    <tr style=\"text-align: right;\">\n",
       "      <th></th>\n",
       "      <th>Criteria 1_minmax_01</th>\n",
       "      <th>Criteria 2_minmax_01</th>\n",
       "      <th>Criteria 1_minmax_without_zero</th>\n",
       "      <th>Criteria 2_minmax_without_zero</th>\n",
       "    </tr>\n",
       "  </thead>\n",
       "  <tbody>\n",
       "    <tr>\n",
       "      <th>0</th>\n",
       "      <td>0.5</td>\n",
       "      <td>0.6</td>\n",
       "      <td>0.55</td>\n",
       "      <td>0.64</td>\n",
       "    </tr>\n",
       "    <tr>\n",
       "      <th>1</th>\n",
       "      <td>0.0</td>\n",
       "      <td>0.0</td>\n",
       "      <td>0.1</td>\n",
       "      <td>0.1</td>\n",
       "    </tr>\n",
       "    <tr>\n",
       "      <th>2</th>\n",
       "      <td>1.0</td>\n",
       "      <td>1.0</td>\n",
       "      <td>1.0</td>\n",
       "      <td>1.0</td>\n",
       "    </tr>\n",
       "  </tbody>\n",
       "</table>\n",
       "</div>"
      ],
      "text/plain": [
       "  Criteria 1_minmax_01 Criteria 2_minmax_01 Criteria 1_minmax_without_zero  \\\n",
       "0                  0.5                  0.6                           0.55   \n",
       "1                  0.0                  0.0                            0.1   \n",
       "2                  1.0                  1.0                            1.0   \n",
       "\n",
       "  Criteria 2_minmax_without_zero  \n",
       "0                           0.64  \n",
       "1                            0.1  \n",
       "2                            1.0  "
      ]
     },
     "execution_count": 6,
     "metadata": {},
     "output_type": "execute_result"
    }
   ],
   "source": [
    "promcda.normalize(NormalizationFunctions.MINMAX)"
   ]
  },
  {
   "cell_type": "code",
   "execution_count": 7,
   "id": "81651dc2-1772-4435-ac3b-1c553e9e5935",
   "metadata": {},
   "outputs": [
    {
     "data": {
      "text/html": [
       "<div>\n",
       "<style scoped>\n",
       "    .dataframe tbody tr th:only-of-type {\n",
       "        vertical-align: middle;\n",
       "    }\n",
       "\n",
       "    .dataframe tbody tr th {\n",
       "        vertical-align: top;\n",
       "    }\n",
       "\n",
       "    .dataframe thead th {\n",
       "        text-align: right;\n",
       "    }\n",
       "</style>\n",
       "<table border=\"1\" class=\"dataframe\">\n",
       "  <thead>\n",
       "    <tr style=\"text-align: right;\">\n",
       "      <th></th>\n",
       "      <th>Criteria 1_rank</th>\n",
       "      <th>Criteria 2_rank</th>\n",
       "    </tr>\n",
       "  </thead>\n",
       "  <tbody>\n",
       "    <tr>\n",
       "      <th>0</th>\n",
       "      <td>2.0</td>\n",
       "      <td>2.0</td>\n",
       "    </tr>\n",
       "    <tr>\n",
       "      <th>1</th>\n",
       "      <td>1.0</td>\n",
       "      <td>1.0</td>\n",
       "    </tr>\n",
       "    <tr>\n",
       "      <th>2</th>\n",
       "      <td>3.0</td>\n",
       "      <td>3.0</td>\n",
       "    </tr>\n",
       "  </tbody>\n",
       "</table>\n",
       "</div>"
      ],
      "text/plain": [
       "  Criteria 1_rank Criteria 2_rank\n",
       "0             2.0             2.0\n",
       "1             1.0             1.0\n",
       "2             3.0             3.0"
      ]
     },
     "execution_count": 7,
     "metadata": {},
     "output_type": "execute_result"
    }
   ],
   "source": [
    "promcda.normalize(NormalizationFunctions.RANK)"
   ]
  },
  {
   "cell_type": "markdown",
   "id": "eb96c3cb-6a6c-493a-9e30-089fc3676052",
   "metadata": {},
   "source": [
    "### Test aggregate with full sensitivity"
   ]
  },
  {
   "cell_type": "code",
   "execution_count": 8,
   "id": "dccaf3ad-79e2-4110-a286-8bfef5abbd6a",
   "metadata": {},
   "outputs": [
    {
     "name": "stdout",
     "output_type": "stream",
     "text": [
      "INFO: 2024-12-19 13:58:42,150 - ProMCDA - Number of alternatives: 3\n",
      "INFO: 2024-12-19 13:58:42,153 - ProMCDA - Number of indicators: 2\n",
      "INFO: 2024-12-19 13:58:42,154 - ProMCDA - Polarities: ('+', '-')\n",
      "INFO: 2024-12-19 13:58:42,154 - ProMCDA - Weights: [0.5, 0.5]\n",
      "INFO: 2024-12-19 13:58:42,154 - ProMCDA - Normalized weights: [0.5, 0.5]\n"
     ]
    },
    {
     "data": {
      "text/html": [
       "<div>\n",
       "<style scoped>\n",
       "    .dataframe tbody tr th:only-of-type {\n",
       "        vertical-align: middle;\n",
       "    }\n",
       "\n",
       "    .dataframe tbody tr th {\n",
       "        vertical-align: top;\n",
       "    }\n",
       "\n",
       "    .dataframe thead th {\n",
       "        text-align: right;\n",
       "    }\n",
       "</style>\n",
       "<table border=\"1\" class=\"dataframe\">\n",
       "  <thead>\n",
       "    <tr style=\"text-align: right;\">\n",
       "      <th></th>\n",
       "      <th>minmax_weighted_sum</th>\n",
       "      <th>target_weighted_sum</th>\n",
       "      <th>standardized_weighted_sum</th>\n",
       "      <th>rank_weighted_sum</th>\n",
       "      <th>minmax_geometric</th>\n",
       "      <th>target_geometric</th>\n",
       "      <th>standardized_geometric</th>\n",
       "      <th>rank_geometric</th>\n",
       "      <th>minmax_harmonic</th>\n",
       "      <th>target_harmonic</th>\n",
       "      <th>standardized_harmonic</th>\n",
       "      <th>rank_harmonic</th>\n",
       "      <th>standardized_minimum</th>\n",
       "    </tr>\n",
       "  </thead>\n",
       "  <tbody>\n",
       "    <tr>\n",
       "      <th>0</th>\n",
       "      <td>0.55</td>\n",
       "      <td>0.5625</td>\n",
       "      <td>0.066227</td>\n",
       "      <td>2.0</td>\n",
       "      <td>0.593296</td>\n",
       "      <td>0.603635</td>\n",
       "      <td>1.192177</td>\n",
       "      <td>2.0</td>\n",
       "      <td>0.591597</td>\n",
       "      <td>0.601031</td>\n",
       "      <td>1.188328</td>\n",
       "      <td>2.0</td>\n",
       "      <td>0.0</td>\n",
       "    </tr>\n",
       "    <tr>\n",
       "      <th>1</th>\n",
       "      <td>0.0</td>\n",
       "      <td>0.125</td>\n",
       "      <td>-1.029813</td>\n",
       "      <td>1.0</td>\n",
       "      <td>0.100000</td>\n",
       "      <td>0.180278</td>\n",
       "      <td>0.100000</td>\n",
       "      <td>1.0</td>\n",
       "      <td>0.1</td>\n",
       "      <td>0.152941</td>\n",
       "      <td>0.1</td>\n",
       "      <td>1.0</td>\n",
       "      <td>-1.059626</td>\n",
       "    </tr>\n",
       "    <tr>\n",
       "      <th>2</th>\n",
       "      <td>1.0</td>\n",
       "      <td>0.916667</td>\n",
       "      <td>0.963586</td>\n",
       "      <td>3.0</td>\n",
       "      <td>1.000000</td>\n",
       "      <td>0.921954</td>\n",
       "      <td>2.093389</td>\n",
       "      <td>3.0</td>\n",
       "      <td>1.0</td>\n",
       "      <td>0.918919</td>\n",
       "      <td>2.093378</td>\n",
       "      <td>3.0</td>\n",
       "      <td>0.927173</td>\n",
       "    </tr>\n",
       "  </tbody>\n",
       "</table>\n",
       "</div>"
      ],
      "text/plain": [
       "  minmax_weighted_sum target_weighted_sum standardized_weighted_sum  \\\n",
       "0                0.55              0.5625                  0.066227   \n",
       "1                 0.0               0.125                 -1.029813   \n",
       "2                 1.0            0.916667                  0.963586   \n",
       "\n",
       "  rank_weighted_sum  minmax_geometric  target_geometric  \\\n",
       "0               2.0          0.593296          0.603635   \n",
       "1               1.0          0.100000          0.180278   \n",
       "2               3.0          1.000000          0.921954   \n",
       "\n",
       "   standardized_geometric  rank_geometric minmax_harmonic target_harmonic  \\\n",
       "0                1.192177             2.0        0.591597        0.601031   \n",
       "1                0.100000             1.0             0.1        0.152941   \n",
       "2                2.093389             3.0             1.0        0.918919   \n",
       "\n",
       "  standardized_harmonic rank_harmonic standardized_minimum  \n",
       "0              1.188328           2.0                  0.0  \n",
       "1                   0.1           1.0            -1.059626  \n",
       "2              2.093378           3.0             0.927173  "
      ]
     },
     "execution_count": 8,
     "metadata": {},
     "output_type": "execute_result"
    }
   ],
   "source": [
    "promcda.normalize()\n",
    "promcda.aggregate()"
   ]
  },
  {
   "cell_type": "markdown",
   "id": "3d221807-cd40-41fc-b295-a9e0e1c4dc08",
   "metadata": {},
   "source": [
    "### Test aggregate with sensitivity on aggregation"
   ]
  },
  {
   "cell_type": "code",
   "execution_count": 9,
   "id": "587b6905-e9bc-4cbc-a923-501f35e225ad",
   "metadata": {},
   "outputs": [
    {
     "name": "stdout",
     "output_type": "stream",
     "text": [
      "INFO: 2024-12-19 13:59:09,718 - ProMCDA - Number of alternatives: 3\n",
      "INFO: 2024-12-19 13:59:09,721 - ProMCDA - Number of indicators: 2\n",
      "INFO: 2024-12-19 13:59:09,722 - ProMCDA - Polarities: ('+', '-')\n",
      "INFO: 2024-12-19 13:59:09,723 - ProMCDA - Weights: [0.5, 0.5]\n",
      "INFO: 2024-12-19 13:59:09,724 - ProMCDA - Normalized weights: [0.5, 0.5]\n"
     ]
    },
    {
     "data": {
      "text/html": [
       "<div>\n",
       "<style scoped>\n",
       "    .dataframe tbody tr th:only-of-type {\n",
       "        vertical-align: middle;\n",
       "    }\n",
       "\n",
       "    .dataframe tbody tr th {\n",
       "        vertical-align: top;\n",
       "    }\n",
       "\n",
       "    .dataframe thead th {\n",
       "        text-align: right;\n",
       "    }\n",
       "</style>\n",
       "<table border=\"1\" class=\"dataframe\">\n",
       "  <thead>\n",
       "    <tr style=\"text-align: right;\">\n",
       "      <th></th>\n",
       "      <th>minmax_weighted_sum</th>\n",
       "      <th>minmax_geometric</th>\n",
       "      <th>minmax_harmonic</th>\n",
       "    </tr>\n",
       "  </thead>\n",
       "  <tbody>\n",
       "    <tr>\n",
       "      <th>0</th>\n",
       "      <td>0.55</td>\n",
       "      <td>0.593296</td>\n",
       "      <td>0.591597</td>\n",
       "    </tr>\n",
       "    <tr>\n",
       "      <th>1</th>\n",
       "      <td>0.0</td>\n",
       "      <td>0.100000</td>\n",
       "      <td>0.1</td>\n",
       "    </tr>\n",
       "    <tr>\n",
       "      <th>2</th>\n",
       "      <td>1.0</td>\n",
       "      <td>1.000000</td>\n",
       "      <td>1.0</td>\n",
       "    </tr>\n",
       "  </tbody>\n",
       "</table>\n",
       "</div>"
      ],
      "text/plain": [
       "  minmax_weighted_sum  minmax_geometric minmax_harmonic\n",
       "0                0.55          0.593296        0.591597\n",
       "1                 0.0          0.100000             0.1\n",
       "2                 1.0          1.000000             1.0"
      ]
     },
     "execution_count": 9,
     "metadata": {},
     "output_type": "execute_result"
    }
   ],
   "source": [
    "promcda.normalize(NormalizationFunctions.MINMAX)\n",
    "promcda.aggregate()"
   ]
  },
  {
   "cell_type": "markdown",
   "id": "29e6c4e2-e347-4e9c-8897-2113770441e0",
   "metadata": {},
   "source": [
    "### Test aggregate with sensitivity on normalization"
   ]
  },
  {
   "cell_type": "code",
   "execution_count": 10,
   "id": "89425df3-407c-4d13-945a-4355182d2900",
   "metadata": {},
   "outputs": [
    {
     "name": "stdout",
     "output_type": "stream",
     "text": [
      "INFO: 2024-12-19 13:59:21,638 - ProMCDA - Number of alternatives: 3\n",
      "INFO: 2024-12-19 13:59:21,639 - ProMCDA - Number of indicators: 2\n",
      "INFO: 2024-12-19 13:59:21,640 - ProMCDA - Polarities: ('+', '-')\n",
      "INFO: 2024-12-19 13:59:21,641 - ProMCDA - Weights: [0.5, 0.5]\n",
      "INFO: 2024-12-19 13:59:21,641 - ProMCDA - Normalized weights: [0.5, 0.5]\n"
     ]
    },
    {
     "data": {
      "text/html": [
       "<div>\n",
       "<style scoped>\n",
       "    .dataframe tbody tr th:only-of-type {\n",
       "        vertical-align: middle;\n",
       "    }\n",
       "\n",
       "    .dataframe tbody tr th {\n",
       "        vertical-align: top;\n",
       "    }\n",
       "\n",
       "    .dataframe thead th {\n",
       "        text-align: right;\n",
       "    }\n",
       "</style>\n",
       "<table border=\"1\" class=\"dataframe\">\n",
       "  <thead>\n",
       "    <tr style=\"text-align: right;\">\n",
       "      <th></th>\n",
       "      <th>minmax_weighted_sum</th>\n",
       "      <th>target_weighted_sum</th>\n",
       "      <th>standardized_weighted_sum</th>\n",
       "      <th>rank_weighted_sum</th>\n",
       "    </tr>\n",
       "  </thead>\n",
       "  <tbody>\n",
       "    <tr>\n",
       "      <th>0</th>\n",
       "      <td>0.55</td>\n",
       "      <td>0.5625</td>\n",
       "      <td>0.066227</td>\n",
       "      <td>2.0</td>\n",
       "    </tr>\n",
       "    <tr>\n",
       "      <th>1</th>\n",
       "      <td>0.0</td>\n",
       "      <td>0.125</td>\n",
       "      <td>-1.029813</td>\n",
       "      <td>1.0</td>\n",
       "    </tr>\n",
       "    <tr>\n",
       "      <th>2</th>\n",
       "      <td>1.0</td>\n",
       "      <td>0.916667</td>\n",
       "      <td>0.963586</td>\n",
       "      <td>3.0</td>\n",
       "    </tr>\n",
       "  </tbody>\n",
       "</table>\n",
       "</div>"
      ],
      "text/plain": [
       "  minmax_weighted_sum target_weighted_sum standardized_weighted_sum  \\\n",
       "0                0.55              0.5625                  0.066227   \n",
       "1                 0.0               0.125                 -1.029813   \n",
       "2                 1.0            0.916667                  0.963586   \n",
       "\n",
       "  rank_weighted_sum  \n",
       "0               2.0  \n",
       "1               1.0  \n",
       "2               3.0  "
      ]
     },
     "execution_count": 10,
     "metadata": {},
     "output_type": "execute_result"
    }
   ],
   "source": [
    "promcda.normalize()\n",
    "promcda.aggregate(aggregation_method=AggregationFunctions.WEIGHTED_SUM)"
   ]
  },
  {
   "cell_type": "markdown",
   "id": "cd50f9eb-2987-451b-bf1d-c67a0b2a80e8",
   "metadata": {},
   "source": [
    "### Test aggregate with robustness on weights, fix methods"
   ]
  },
  {
   "cell_type": "code",
   "execution_count": 11,
   "id": "3e8bfc0c-9b78-4058-bdc2-90d00bc8ae7e",
   "metadata": {},
   "outputs": [
    {
     "name": "stdout",
     "output_type": "stream",
     "text": [
      "INFO: 2024-12-19 14:00:00,122 - ProMCDA - Alternatives are ['A', 'B', 'C']\n"
     ]
    }
   ],
   "source": [
    "promcda = ProMCDA(\n",
    "    input_matrix=setup_no_robustness_indicators['input_matrix'],\n",
    "    polarity=setup_no_robustness_indicators['polarity'],\n",
    "    robustness_weights=True,\n",
    "    robustness_indicators=setup_no_robustness_indicators['robustness_indicators'],\n",
    "    marginal_distributions=setup_no_robustness_indicators['marginal_distributions'],\n",
    "    num_runs=setup_no_robustness_indicators['num_runs'],\n",
    "    num_cores=setup_no_robustness_indicators['num_cores'],\n",
    "    #output_path=setup_parameters['output_path']\n",
    ")"
   ]
  },
  {
   "cell_type": "code",
   "execution_count": 13,
   "id": "8ab04ddd-69a0-4e41-808b-bf57506eda95",
   "metadata": {},
   "outputs": [
    {
     "name": "stdout",
     "output_type": "stream",
     "text": [
      "INFO: 2024-12-19 14:00:11,805 - ProMCDA - Number of alternatives: 3\n",
      "INFO: 2024-12-19 14:00:11,807 - ProMCDA - Number of indicators: 2\n",
      "INFO: 2024-12-19 14:00:11,808 - ProMCDA - Polarities: ('+', '-')\n",
      "INFO: 2024-12-19 14:00:11,812 - ProMCDA - Start ProMCDA with uncertainty on the weights\n",
      "INFO: 2024-12-19 14:00:11,814 - ProMCDA - All weights are randomly sampled from a uniform distribution.\n"
     ]
    },
    {
     "data": {
      "text/plain": [
       "'Aggregation considered uncertainty on all weights, results are not explicitly shown.'"
      ]
     },
     "execution_count": 13,
     "metadata": {},
     "output_type": "execute_result"
    }
   ],
   "source": [
    "promcda.normalize(NormalizationFunctions.MINMAX)\n",
    "promcda.aggregate(aggregation_method=AggregationFunctions.WEIGHTED_SUM)"
   ]
  },
  {
   "cell_type": "code",
   "execution_count": 27,
   "id": "4bf3afe7-a611-4f29-969f-7fc31c9c7b4b",
   "metadata": {},
   "outputs": [
    {
     "name": "stdout",
     "output_type": "stream",
     "text": [
      "Mean scores are: \n",
      "  ws-minmax_01\n",
      "0     0.540678\n",
      "1          0.0\n",
      "2          1.0\n"
     ]
    }
   ],
   "source": [
    "means, normalized_means, std= promcda.get_aggregated_values_with_robustness_weights()\n",
    "print(\"Mean scores are: \")\n",
    "print(means)"
   ]
  },
  {
   "cell_type": "markdown",
   "id": "17df7b57-082b-4d66-9948-796f80f0ec84",
   "metadata": {},
   "source": [
    "### Test aggregate with robustness on weights, sensitivity"
   ]
  },
  {
   "cell_type": "code",
   "execution_count": 29,
   "id": "42e4508e-2151-4237-8c56-ed4fcc6abd89",
   "metadata": {},
   "outputs": [
    {
     "name": "stdout",
     "output_type": "stream",
     "text": [
      "INFO: 2024-12-19 14:15:02,783 - ProMCDA - Alternatives are ['A', 'B', 'C']\n"
     ]
    }
   ],
   "source": [
    "promcda = ProMCDA(\n",
    "    input_matrix=setup_no_robustness_indicators['input_matrix'],\n",
    "    polarity=setup_no_robustness_indicators['polarity'],\n",
    "    robustness_weights=True,\n",
    "    robustness_indicators=setup_no_robustness_indicators['robustness_indicators'],\n",
    "    marginal_distributions=setup_no_robustness_indicators['marginal_distributions'],\n",
    "    num_runs=setup_no_robustness_indicators['num_runs'],\n",
    "    num_cores=setup_no_robustness_indicators['num_cores'],\n",
    "    #output_path=setup_parameters['output_path']\n",
    ")"
   ]
  },
  {
   "cell_type": "code",
   "execution_count": 30,
   "id": "debee6f2-67e3-4f5f-8ed0-4f3397f8f728",
   "metadata": {},
   "outputs": [
    {
     "name": "stdout",
     "output_type": "stream",
     "text": [
      "INFO: 2024-12-19 14:15:19,334 - ProMCDA - Number of alternatives: 3\n",
      "INFO: 2024-12-19 14:15:19,334 - ProMCDA - Number of indicators: 2\n",
      "INFO: 2024-12-19 14:15:19,334 - ProMCDA - Polarities: ('+', '-')\n",
      "INFO: 2024-12-19 14:15:19,337 - ProMCDA - Start ProMCDA with uncertainty on the weights\n",
      "INFO: 2024-12-19 14:15:19,338 - ProMCDA - All weights are randomly sampled from a uniform distribution.\n"
     ]
    },
    {
     "ename": "ValueError",
     "evalue": "Unable to coerce to Series, length must be 8: given 2",
     "output_type": "error",
     "traceback": [
      "\u001b[0;31m---------------------------------------------------------------------------\u001b[0m",
      "\u001b[0;31mRemoteTraceback\u001b[0m                           Traceback (most recent call last)",
      "\u001b[0;31mRemoteTraceback\u001b[0m: \n\"\"\"\nTraceback (most recent call last):\n  File \"/opt/homebrew/Caskroom/miniforge/base/envs/ProMCDA/lib/python3.9/multiprocessing/pool.py\", line 125, in worker\n    result = (True, func(*args, **kwds))\n  File \"/opt/homebrew/Caskroom/miniforge/base/envs/ProMCDA/lib/python3.9/multiprocessing/pool.py\", line 48, in mapstar\n    return list(map(*args))\n  File \"/Users/flaminia/Documents/work/ProMCDA/mcda/utils/utils_for_parallelization.py\", line 53, in initialize_and_call_aggregation\n    scores_one_run = aggregate_indicators_in_parallel(agg, data, method)\n  File \"/Users/flaminia/Documents/work/ProMCDA/mcda/utils/utils_for_parallelization.py\", line 261, in aggregate_indicators_in_parallel\n    scores_weighted_sum = agg.weighted_sum(normalized_indicators[selected_columns])\n  File \"/Users/flaminia/Documents/work/ProMCDA/mcda/mcda_functions/aggregation.py\", line 42, in weighted_sum\n    scores = (norm_indicators * self.weights).sum(axis=1)\n  File \"/opt/homebrew/Caskroom/miniforge/base/envs/ProMCDA/lib/python3.9/site-packages/pandas/core/ops/common.py\", line 76, in new_method\n    return method(self, other)\n  File \"/opt/homebrew/Caskroom/miniforge/base/envs/ProMCDA/lib/python3.9/site-packages/pandas/core/arraylike.py\", line 202, in __mul__\n    return self._arith_method(other, operator.mul)\n  File \"/opt/homebrew/Caskroom/miniforge/base/envs/ProMCDA/lib/python3.9/site-packages/pandas/core/frame.py\", line 7910, in _arith_method\n    self, other = self._align_for_op(other, axis, flex=True, level=None)\n  File \"/opt/homebrew/Caskroom/miniforge/base/envs/ProMCDA/lib/python3.9/site-packages/pandas/core/frame.py\", line 8187, in _align_for_op\n    right = to_series(right)\n  File \"/opt/homebrew/Caskroom/miniforge/base/envs/ProMCDA/lib/python3.9/site-packages/pandas/core/frame.py\", line 8133, in to_series\n    raise ValueError(\nValueError: Unable to coerce to Series, length must be 8: given 2\n\"\"\"",
      "\nThe above exception was the direct cause of the following exception:\n",
      "\u001b[0;31mValueError\u001b[0m                                Traceback (most recent call last)",
      "\u001b[0;32m/var/folders/mt/lx9bxf895gq_bfbn6l6_m3kr0000gn/T/ipykernel_42456/2154284416.py\u001b[0m in \u001b[0;36m<module>\u001b[0;34m\u001b[0m\n\u001b[1;32m      1\u001b[0m \u001b[0mpromcda\u001b[0m\u001b[0;34m.\u001b[0m\u001b[0mnormalize\u001b[0m\u001b[0;34m(\u001b[0m\u001b[0;34m)\u001b[0m\u001b[0;34m\u001b[0m\u001b[0;34m\u001b[0m\u001b[0m\n\u001b[0;32m----> 2\u001b[0;31m \u001b[0mpromcda\u001b[0m\u001b[0;34m.\u001b[0m\u001b[0maggregate\u001b[0m\u001b[0;34m(\u001b[0m\u001b[0;34m)\u001b[0m\u001b[0;34m\u001b[0m\u001b[0;34m\u001b[0m\u001b[0m\n\u001b[0m",
      "\u001b[0;32m~/Documents/work/ProMCDA/mcda/models/ProMCDA.py\u001b[0m in \u001b[0;36maggregate\u001b[0;34m(self, aggregation_method, weights)\u001b[0m\n\u001b[1;32m    252\u001b[0m             \u001b[0mall_weights_score_means\u001b[0m\u001b[0;34m,\u001b[0m \u001b[0mall_weights_score_stds\u001b[0m\u001b[0;34m,\u001b[0m\u001b[0;31m \u001b[0m\u001b[0;31m\\\u001b[0m\u001b[0;34m\u001b[0m\u001b[0;34m\u001b[0m\u001b[0m\n\u001b[1;32m    253\u001b[0m             \u001b[0mall_weights_score_means_normalized\u001b[0m\u001b[0;34m,\u001b[0m \u001b[0mall_weights_score_stds_normalized\u001b[0m \u001b[0;34m=\u001b[0m\u001b[0;31m \u001b[0m\u001b[0;31m\\\u001b[0m\u001b[0;34m\u001b[0m\u001b[0;34m\u001b[0m\u001b[0m\n\u001b[0;32m--> 254\u001b[0;31m                         compute_scores_for_all_random_weights(self.normalized_values_without_robustness, weights,\n\u001b[0m\u001b[1;32m    255\u001b[0m                                                               aggregation_method)\n\u001b[1;32m    256\u001b[0m             \u001b[0mself\u001b[0m\u001b[0;34m.\u001b[0m\u001b[0mall_weights_score_means\u001b[0m \u001b[0;34m=\u001b[0m \u001b[0mall_weights_score_means\u001b[0m\u001b[0;34m\u001b[0m\u001b[0;34m\u001b[0m\u001b[0m\n",
      "\u001b[0;32m~/Documents/work/ProMCDA/mcda/utils/utils_for_main.py\u001b[0m in \u001b[0;36mcompute_scores_for_all_random_weights\u001b[0;34m(indicators, weights, aggregation_method)\u001b[0m\n\u001b[1;32m    885\u001b[0m \u001b[0;34m\u001b[0m\u001b[0m\n\u001b[1;32m    886\u001b[0m     \u001b[0;32mif\u001b[0m \u001b[0maggregation_method\u001b[0m \u001b[0;32mis\u001b[0m \u001b[0;32mNone\u001b[0m\u001b[0;34m:\u001b[0m\u001b[0;34m\u001b[0m\u001b[0;34m\u001b[0m\u001b[0m\n\u001b[0;32m--> 887\u001b[0;31m         \u001b[0mall_weights_scores\u001b[0m \u001b[0;34m=\u001b[0m \u001b[0mutils_for_parallelization\u001b[0m\u001b[0;34m.\u001b[0m\u001b[0mparallelize_aggregation\u001b[0m\u001b[0;34m(\u001b[0m\u001b[0margs_for_parallel_agg\u001b[0m\u001b[0;34m)\u001b[0m\u001b[0;34m\u001b[0m\u001b[0;34m\u001b[0m\u001b[0m\n\u001b[0m\u001b[1;32m    888\u001b[0m     \u001b[0;32melse\u001b[0m\u001b[0;34m:\u001b[0m\u001b[0;34m\u001b[0m\u001b[0;34m\u001b[0m\u001b[0m\n\u001b[1;32m    889\u001b[0m         \u001b[0mall_weights_scores\u001b[0m \u001b[0;34m=\u001b[0m \u001b[0mutils_for_parallelization\u001b[0m\u001b[0;34m.\u001b[0m\u001b[0mparallelize_aggregation\u001b[0m\u001b[0;34m(\u001b[0m\u001b[0margs_for_parallel_agg\u001b[0m\u001b[0;34m,\u001b[0m \u001b[0maggregation_method\u001b[0m\u001b[0;34m)\u001b[0m\u001b[0;34m\u001b[0m\u001b[0;34m\u001b[0m\u001b[0m\n",
      "\u001b[0;32m~/Documents/work/ProMCDA/mcda/utils/utils_for_parallelization.py\u001b[0m in \u001b[0;36mparallelize_aggregation\u001b[0;34m(args, aggregation_method)\u001b[0m\n\u001b[1;32m    320\u001b[0m     \u001b[0;31m# create a synchronous multiprocessing pool with the desired number of processes\u001b[0m\u001b[0;34m\u001b[0m\u001b[0;34m\u001b[0m\u001b[0m\n\u001b[1;32m    321\u001b[0m     \u001b[0mpool\u001b[0m \u001b[0;34m=\u001b[0m \u001b[0mmultiprocessing\u001b[0m\u001b[0;34m.\u001b[0m\u001b[0mPool\u001b[0m\u001b[0;34m(\u001b[0m\u001b[0;34m)\u001b[0m\u001b[0;34m\u001b[0m\u001b[0;34m\u001b[0m\u001b[0m\n\u001b[0;32m--> 322\u001b[0;31m     \u001b[0mres\u001b[0m \u001b[0;34m=\u001b[0m \u001b[0mpool\u001b[0m\u001b[0;34m.\u001b[0m\u001b[0mmap\u001b[0m\u001b[0;34m(\u001b[0m\u001b[0mpartial_func\u001b[0m\u001b[0;34m,\u001b[0m \u001b[0margs\u001b[0m\u001b[0;34m)\u001b[0m\u001b[0;34m\u001b[0m\u001b[0;34m\u001b[0m\u001b[0m\n\u001b[0m\u001b[1;32m    323\u001b[0m     \u001b[0mpool\u001b[0m\u001b[0;34m.\u001b[0m\u001b[0mclose\u001b[0m\u001b[0;34m(\u001b[0m\u001b[0;34m)\u001b[0m\u001b[0;34m\u001b[0m\u001b[0;34m\u001b[0m\u001b[0m\n\u001b[1;32m    324\u001b[0m     \u001b[0mpool\u001b[0m\u001b[0;34m.\u001b[0m\u001b[0mjoin\u001b[0m\u001b[0;34m(\u001b[0m\u001b[0;34m)\u001b[0m\u001b[0;34m\u001b[0m\u001b[0;34m\u001b[0m\u001b[0m\n",
      "\u001b[0;32m/opt/homebrew/Caskroom/miniforge/base/envs/ProMCDA/lib/python3.9/multiprocessing/pool.py\u001b[0m in \u001b[0;36mmap\u001b[0;34m(self, func, iterable, chunksize)\u001b[0m\n\u001b[1;32m    362\u001b[0m         \u001b[0;32min\u001b[0m \u001b[0ma\u001b[0m \u001b[0mlist\u001b[0m \u001b[0mthat\u001b[0m \u001b[0;32mis\u001b[0m \u001b[0mreturned\u001b[0m\u001b[0;34m.\u001b[0m\u001b[0;34m\u001b[0m\u001b[0;34m\u001b[0m\u001b[0m\n\u001b[1;32m    363\u001b[0m         '''\n\u001b[0;32m--> 364\u001b[0;31m         \u001b[0;32mreturn\u001b[0m \u001b[0mself\u001b[0m\u001b[0;34m.\u001b[0m\u001b[0m_map_async\u001b[0m\u001b[0;34m(\u001b[0m\u001b[0mfunc\u001b[0m\u001b[0;34m,\u001b[0m \u001b[0miterable\u001b[0m\u001b[0;34m,\u001b[0m \u001b[0mmapstar\u001b[0m\u001b[0;34m,\u001b[0m \u001b[0mchunksize\u001b[0m\u001b[0;34m)\u001b[0m\u001b[0;34m.\u001b[0m\u001b[0mget\u001b[0m\u001b[0;34m(\u001b[0m\u001b[0;34m)\u001b[0m\u001b[0;34m\u001b[0m\u001b[0;34m\u001b[0m\u001b[0m\n\u001b[0m\u001b[1;32m    365\u001b[0m \u001b[0;34m\u001b[0m\u001b[0m\n\u001b[1;32m    366\u001b[0m     \u001b[0;32mdef\u001b[0m \u001b[0mstarmap\u001b[0m\u001b[0;34m(\u001b[0m\u001b[0mself\u001b[0m\u001b[0;34m,\u001b[0m \u001b[0mfunc\u001b[0m\u001b[0;34m,\u001b[0m \u001b[0miterable\u001b[0m\u001b[0;34m,\u001b[0m \u001b[0mchunksize\u001b[0m\u001b[0;34m=\u001b[0m\u001b[0;32mNone\u001b[0m\u001b[0;34m)\u001b[0m\u001b[0;34m:\u001b[0m\u001b[0;34m\u001b[0m\u001b[0;34m\u001b[0m\u001b[0m\n",
      "\u001b[0;32m/opt/homebrew/Caskroom/miniforge/base/envs/ProMCDA/lib/python3.9/multiprocessing/pool.py\u001b[0m in \u001b[0;36mget\u001b[0;34m(self, timeout)\u001b[0m\n\u001b[1;32m    769\u001b[0m             \u001b[0;32mreturn\u001b[0m \u001b[0mself\u001b[0m\u001b[0;34m.\u001b[0m\u001b[0m_value\u001b[0m\u001b[0;34m\u001b[0m\u001b[0;34m\u001b[0m\u001b[0m\n\u001b[1;32m    770\u001b[0m         \u001b[0;32melse\u001b[0m\u001b[0;34m:\u001b[0m\u001b[0;34m\u001b[0m\u001b[0;34m\u001b[0m\u001b[0m\n\u001b[0;32m--> 771\u001b[0;31m             \u001b[0;32mraise\u001b[0m \u001b[0mself\u001b[0m\u001b[0;34m.\u001b[0m\u001b[0m_value\u001b[0m\u001b[0;34m\u001b[0m\u001b[0;34m\u001b[0m\u001b[0m\n\u001b[0m\u001b[1;32m    772\u001b[0m \u001b[0;34m\u001b[0m\u001b[0m\n\u001b[1;32m    773\u001b[0m     \u001b[0;32mdef\u001b[0m \u001b[0m_set\u001b[0m\u001b[0;34m(\u001b[0m\u001b[0mself\u001b[0m\u001b[0;34m,\u001b[0m \u001b[0mi\u001b[0m\u001b[0;34m,\u001b[0m \u001b[0mobj\u001b[0m\u001b[0;34m)\u001b[0m\u001b[0;34m:\u001b[0m\u001b[0;34m\u001b[0m\u001b[0;34m\u001b[0m\u001b[0m\n",
      "\u001b[0;31mValueError\u001b[0m: Unable to coerce to Series, length must be 8: given 2"
     ]
    }
   ],
   "source": [
    "promcda.normalize()\n",
    "promcda.aggregate()"
   ]
  },
  {
   "cell_type": "markdown",
   "id": "04da27ae-0303-447a-b454-5324361fbdf3",
   "metadata": {},
   "source": [
    "## TEST ROBUSTNESS INDICATORS"
   ]
  },
  {
   "cell_type": "code",
   "execution_count": 31,
   "id": "cd0e175f-9d59-4c96-bcb5-a53d8555988c",
   "metadata": {},
   "outputs": [
    {
     "name": "stdout",
     "output_type": "stream",
     "text": [
      "INFO: 2024-12-19 15:55:33,867 - ProMCDA - Alternatives are ['A', 'B', 'C']\n"
     ]
    }
   ],
   "source": [
    "promcda = ProMCDA(\n",
    "    input_matrix=setup_robustness_indicators['input_matrix'],\n",
    "    polarity=setup_robustness_indicators['polarity'],\n",
    "    robustness_weights=setup_robustness_indicators['robustness_weights'],\n",
    "    robustness_indicators=setup_robustness_indicators['robustness_indicators'],\n",
    "    marginal_distributions=setup_robustness_indicators['marginal_distributions'],\n",
    "    num_runs=setup_robustness_indicators['num_runs'],\n",
    "    num_cores=setup_robustness_indicators['num_cores'],\n",
    "    #output_path=setup_parameters['output_path']\n",
    ")"
   ]
  },
  {
   "cell_type": "markdown",
   "id": "448f86cd-6136-4636-9c5e-b803de97ca74",
   "metadata": {},
   "source": [
    "### Test normalize with sensitivity"
   ]
  },
  {
   "cell_type": "code",
   "execution_count": 38,
   "id": "1518d4a0-9351-4a5e-91db-806f21d32e96",
   "metadata": {
    "scrolled": true
   },
   "outputs": [
    {
     "data": {
      "text/plain": [
       "[{'standardized_any':   0_standardized_any 1_standardized_any\n",
       "  0           0.107857           0.228287\n",
       "  1          -1.049557          -1.094406\n",
       "  2           0.941699           0.866119,\n",
       "  'standardized_without_zero':   0_standardized_without_zero 1_standardized_without_zero\n",
       "  0                    1.257414                    1.422692\n",
       "  1                         0.1                         0.1\n",
       "  2                    2.091256                    2.060524,\n",
       "  'minmax_01':   0_minmax_01 1_minmax_01\n",
       "  0    0.581248    0.674663\n",
       "  1         0.0         0.0\n",
       "  2         1.0         1.0,\n",
       "  'minmax_without_zero':   0_minmax_without_zero 1_minmax_without_zero\n",
       "  0              0.623123              0.707196\n",
       "  1                   0.1                   0.1\n",
       "  2                   1.0                   1.0,\n",
       "  'target_01':   0_target_01 1_target_01\n",
       "  0    0.679686    0.586277\n",
       "  1    0.235073         0.0\n",
       "  2         1.0    0.868992,\n",
       "  'target_without_zero':   0_target_without_zero 1_target_without_zero\n",
       "  0              0.711717              0.627649\n",
       "  1              0.311566                   0.1\n",
       "  2                   1.0              0.882093,\n",
       "  'rank':   0_rank 1_rank\n",
       "  0    2.0    2.0\n",
       "  1    1.0    1.0\n",
       "  2    3.0    3.0},\n",
       " {'standardized_any':   0_standardized_any 1_standardized_any\n",
       "  0          -0.114056           0.161992\n",
       "  1          -0.938082          -1.071107\n",
       "  2           1.052138           0.909114,\n",
       "  'standardized_without_zero':   0_standardized_without_zero 1_standardized_without_zero\n",
       "  0                    0.924026                    1.333099\n",
       "  1                         0.1                         0.1\n",
       "  2                     2.09022                    2.080221,\n",
       "  'minmax_01':   0_minmax_01 1_minmax_01\n",
       "  0    0.414038    0.622708\n",
       "  1         0.0         0.0\n",
       "  2         1.0         1.0,\n",
       "  'minmax_without_zero':   0_minmax_without_zero 1_minmax_without_zero\n",
       "  0              0.472634              0.660437\n",
       "  1                   0.1                   0.1\n",
       "  2                   1.0                   1.0,\n",
       "  'target_01':   0_target_01 1_target_01\n",
       "  0    0.579062    0.508629\n",
       "  1    0.281629         0.0\n",
       "  2         1.0    0.816802,\n",
       "  'target_without_zero':   0_target_without_zero 1_target_without_zero\n",
       "  0              0.621156              0.557766\n",
       "  1              0.353467                   0.1\n",
       "  2                   1.0              0.835122,\n",
       "  'rank':   0_rank 1_rank\n",
       "  0    2.0    2.0\n",
       "  1    1.0    1.0\n",
       "  2    3.0    3.0},\n",
       " {'standardized_any':   0_standardized_any 1_standardized_any\n",
       "  0          -0.029782           0.244632\n",
       "  1          -0.984776          -1.099617\n",
       "  2           1.014558           0.854985,\n",
       "  'standardized_without_zero':   0_standardized_without_zero 1_standardized_without_zero\n",
       "  0                    1.054994                    1.444249\n",
       "  1                         0.1                         0.1\n",
       "  2                    2.099335                    2.054601,\n",
       "  'minmax_01':   0_minmax_01 1_minmax_01\n",
       "  0    0.477656    0.687736\n",
       "  1         0.0         0.0\n",
       "  2         1.0         1.0,\n",
       "  'minmax_without_zero':   0_minmax_without_zero 1_minmax_without_zero\n",
       "  0               0.52989              0.718962\n",
       "  1                   0.1                   0.1\n",
       "  2                   1.0                   1.0,\n",
       "  'target_01':   0_target_01 1_target_01\n",
       "  0    0.618886    0.597756\n",
       "  1    0.270378         0.0\n",
       "  2         1.0    0.869166,\n",
       "  'target_without_zero':   0_target_without_zero 1_target_without_zero\n",
       "  0              0.656998              0.637981\n",
       "  1               0.34334                   0.1\n",
       "  2                   1.0              0.882249,\n",
       "  'rank':   0_rank 1_rank\n",
       "  0    2.0    2.0\n",
       "  1    1.0    1.0\n",
       "  2    3.0    3.0},\n",
       " {'standardized_any':   0_standardized_any 1_standardized_any\n",
       "  0            -0.1171           0.176795\n",
       "  1          -0.936295          -1.076607\n",
       "  2           1.053394           0.899812,\n",
       "  'standardized_without_zero':   0_standardized_without_zero 1_standardized_without_zero\n",
       "  0                    0.919195                    1.353401\n",
       "  1                         0.1                         0.1\n",
       "  2                    2.089689                    2.076419,\n",
       "  'minmax_01':   0_minmax_01 1_minmax_01\n",
       "  0     0.41172    0.634178\n",
       "  1         0.0         0.0\n",
       "  2         1.0         1.0,\n",
       "  'minmax_without_zero':   0_minmax_without_zero 1_minmax_without_zero\n",
       "  0              0.470548               0.67076\n",
       "  1                   0.1                   0.1\n",
       "  2                   1.0                   1.0,\n",
       "  'target_01':   0_target_01 1_target_01\n",
       "  0    0.548255    0.538117\n",
       "  1    0.232092         0.0\n",
       "  2         1.0    0.848526,\n",
       "  'target_without_zero':   0_target_without_zero 1_target_without_zero\n",
       "  0               0.59343              0.584305\n",
       "  1              0.308883                   0.1\n",
       "  2                   1.0              0.863673,\n",
       "  'rank':   0_rank 1_rank\n",
       "  0    2.0    2.0\n",
       "  1    1.0    1.0\n",
       "  2    3.0    3.0},\n",
       " {'standardized_any':   0_standardized_any 1_standardized_any\n",
       "  0           -0.34284           0.126952\n",
       "  1          -0.783486          -1.057414\n",
       "  2           1.126326           0.930462,\n",
       "  'standardized_without_zero':   0_standardized_without_zero 1_standardized_without_zero\n",
       "  0                    0.540646                    1.284365\n",
       "  1                         0.1                         0.1\n",
       "  2                    2.009812                    2.087876,\n",
       "  'minmax_01':   0_minmax_01 1_minmax_01\n",
       "  0    0.230727    0.595794\n",
       "  1         0.0         0.0\n",
       "  2         1.0         1.0,\n",
       "  'minmax_without_zero':   0_minmax_without_zero 1_minmax_without_zero\n",
       "  0              0.307655              0.636215\n",
       "  1                   0.1                   0.1\n",
       "  2                   1.0                   1.0,\n",
       "  'target_01':   0_target_01 1_target_01\n",
       "  0      0.3992     0.49227\n",
       "  1    0.219002         0.0\n",
       "  2         1.0    0.826242,\n",
       "  'target_without_zero':   0_target_without_zero 1_target_without_zero\n",
       "  0               0.45928              0.543043\n",
       "  1              0.297102                   0.1\n",
       "  2                   1.0              0.843618,\n",
       "  'rank':   0_rank 1_rank\n",
       "  0    2.0    2.0\n",
       "  1    1.0    1.0\n",
       "  2    3.0    3.0}]"
      ]
     },
     "execution_count": 38,
     "metadata": {},
     "output_type": "execute_result"
    }
   ],
   "source": [
    "promcda.normalize()\n",
    "promcda.get_normalized_values_with_robustness() # If robustness_indicators"
   ]
  },
  {
   "cell_type": "markdown",
   "id": "e3d4c24e-6203-4ab6-bfb4-72defe219ac3",
   "metadata": {},
   "source": [
    "### Test normalize with specific method"
   ]
  },
  {
   "cell_type": "code",
   "execution_count": 33,
   "id": "1aec0eab-5c5a-4279-91b1-891a3fc9a868",
   "metadata": {},
   "outputs": [
    {
     "data": {
      "text/plain": [
       "[{'minmax_01':   0_minmax_01 1_minmax_01\n",
       "  0    0.581248    0.674663\n",
       "  1         0.0         0.0\n",
       "  2         1.0         1.0,\n",
       "  'minmax_without_zero':   0_minmax_without_zero 1_minmax_without_zero\n",
       "  0              0.623123              0.707196\n",
       "  1                   0.1                   0.1\n",
       "  2                   1.0                   1.0},\n",
       " {'minmax_01':   0_minmax_01 1_minmax_01\n",
       "  0    0.414038    0.622708\n",
       "  1         0.0         0.0\n",
       "  2         1.0         1.0,\n",
       "  'minmax_without_zero':   0_minmax_without_zero 1_minmax_without_zero\n",
       "  0              0.472634              0.660437\n",
       "  1                   0.1                   0.1\n",
       "  2                   1.0                   1.0},\n",
       " {'minmax_01':   0_minmax_01 1_minmax_01\n",
       "  0    0.477656    0.687736\n",
       "  1         0.0         0.0\n",
       "  2         1.0         1.0,\n",
       "  'minmax_without_zero':   0_minmax_without_zero 1_minmax_without_zero\n",
       "  0               0.52989              0.718962\n",
       "  1                   0.1                   0.1\n",
       "  2                   1.0                   1.0},\n",
       " {'minmax_01':   0_minmax_01 1_minmax_01\n",
       "  0     0.41172    0.634178\n",
       "  1         0.0         0.0\n",
       "  2         1.0         1.0,\n",
       "  'minmax_without_zero':   0_minmax_without_zero 1_minmax_without_zero\n",
       "  0              0.470548               0.67076\n",
       "  1                   0.1                   0.1\n",
       "  2                   1.0                   1.0},\n",
       " {'minmax_01':   0_minmax_01 1_minmax_01\n",
       "  0    0.230727    0.595794\n",
       "  1         0.0         0.0\n",
       "  2         1.0         1.0,\n",
       "  'minmax_without_zero':   0_minmax_without_zero 1_minmax_without_zero\n",
       "  0              0.307655              0.636215\n",
       "  1                   0.1                   0.1\n",
       "  2                   1.0                   1.0}]"
      ]
     },
     "execution_count": 33,
     "metadata": {},
     "output_type": "execute_result"
    }
   ],
   "source": [
    "promcda.normalize(NormalizationFunctions.MINMAX)\n",
    "promcda.get_normalized_values_with_robustness() # If robustness_indicators"
   ]
  },
  {
   "cell_type": "markdown",
   "id": "2c6ad5ee-a10e-4c89-8bb3-c60190bb587d",
   "metadata": {},
   "source": [
    "### Test aggregate with robustness - need setUpRobustnessIndicators"
   ]
  },
  {
   "cell_type": "code",
   "execution_count": 34,
   "id": "15bb84ff-e194-4326-a368-c467c9b6e3a7",
   "metadata": {
    "scrolled": true
   },
   "outputs": [
    {
     "name": "stdout",
     "output_type": "stream",
     "text": [
      "INFO: 2024-12-19 15:55:49,075 - ProMCDA - Number of alternatives: 3\n",
      "INFO: 2024-12-19 15:55:49,076 - ProMCDA - Number of indicators: 2\n",
      "INFO: 2024-12-19 15:55:49,076 - ProMCDA - Polarities: ('+', '-')\n",
      "INFO: 2024-12-19 15:55:49,076 - ProMCDA - Weights: [0.5, 0.5]\n",
      "INFO: 2024-12-19 15:55:49,076 - ProMCDA - Normalized weights: [0.5, 0.5]\n",
      "INFO: 2024-12-19 15:55:49,077 - ProMCDA - Start ProMCDA with uncertainty on the indicators\n",
      "INFO: 2024-12-19 15:55:49,077 - ProMCDA - The number of Monte-Carlo runs is only 5\n",
      "INFO: 2024-12-19 15:55:49,077 - ProMCDA - A meaningful number of Monte-Carlo runs is equal or larger than 1000\n"
     ]
    },
    {
     "data": {
      "text/plain": [
       "'Aggregation considered uncertainty on indicators, results are not explicitly shown.'"
      ]
     },
     "execution_count": 34,
     "metadata": {},
     "output_type": "execute_result"
    }
   ],
   "source": [
    "promcda.normalize(normalization_method=NormalizationFunctions.MINMAX)\n",
    "promcda.aggregate(aggregation_method=AggregationFunctions.WEIGHTED_SUM, weights=None)"
   ]
  },
  {
   "cell_type": "code",
   "execution_count": 36,
   "id": "128cc88d-928e-439e-896a-be71faa60075",
   "metadata": {},
   "outputs": [],
   "source": [
    "#promcda.get_aggregated_values_with_robustness()"
   ]
  },
  {
   "cell_type": "code",
   "execution_count": null,
   "id": "9cf166df-6244-4364-8006-bacf98570225",
   "metadata": {},
   "outputs": [],
   "source": []
  }
 ],
 "metadata": {
  "kernelspec": {
   "display_name": "ProMCDA (Python)",
   "language": "python",
   "name": "promcda"
  },
  "language_info": {
   "codemirror_mode": {
    "name": "ipython",
    "version": 3
   },
   "file_extension": ".py",
   "mimetype": "text/x-python",
   "name": "python",
   "nbconvert_exporter": "python",
   "pygments_lexer": "ipython3",
   "version": "3.9.20"
  }
 },
 "nbformat": 4,
 "nbformat_minor": 5
}
