{
 "cells": [
  {
   "cell_type": "code",
   "execution_count": 1,
   "id": "96df2c84-1509-4e93-952a-9beba8d0ec45",
   "metadata": {},
   "outputs": [
    {
     "name": "stdout",
     "output_type": "stream",
     "text": [
      "Import successful!\n"
     ]
    }
   ],
   "source": [
    "import os\n",
    "import sys\n",
    "import pandas as pd\n",
    "\n",
    "package_path = '/Users/flaminia/Documents/work/ProMCDA'\n",
    "\n",
    "if package_path not in sys.path:\n",
    "    sys.path.append(package_path)\n",
    "\n",
    "try:\n",
    "    from mcda.models.ProMCDA import ProMCDA\n",
    "    print(\"Import successful!\")\n",
    "except ModuleNotFoundError as e:\n",
    "    print(f\"ModuleNotFoundError: {e}\")\n",
    "\n",
    "from mcda.configuration.enums import NormalizationFunctions, AggregationFunctions, OutputColumnNames4Sensitivity, NormalizationNames4Sensitivity, PDFType"
   ]
  },
  {
   "cell_type": "code",
   "execution_count": 2,
   "id": "9dbbd731-e201-47cc-8bfb-159a52559b25",
   "metadata": {},
   "outputs": [
    {
     "data": {
      "text/plain": [
       "{'input_matrix':               Criteria 1  Criteria 2\n",
       " Alternatives                        \n",
       " A                    0.5         0.3\n",
       " B                    0.2         0.6\n",
       " C                    0.8         0.1,\n",
       " 'polarity': ('+', '-'),\n",
       " 'robustness_weights': False,\n",
       " 'robustness_single_weights': False,\n",
       " 'robustness_indicators': False,\n",
       " 'marginal_distributions': [<PDFType.NORMAL: 'normal'>,\n",
       "  <PDFType.NORMAL: 'normal'>],\n",
       " 'num_runs': 5,\n",
       " 'num_cores': 1,\n",
       " 'output_path': 'mock_output/'}"
      ]
     },
     "execution_count": 2,
     "metadata": {},
     "output_type": "execute_result"
    }
   ],
   "source": [
    "def setUpNoRobustnessIndicators():\n",
    "    \n",
    "    # Mock input data for testing\n",
    "    input_matrix_without_uncertainty = pd.DataFrame({\n",
    "        'Alternatives': ['A', 'B', 'C'],\n",
    "        'Criteria 1': [0.5, 0.2, 0.8],\n",
    "        'Criteria 2': [0.3, 0.6, 0.1]\n",
    "    }, index=['A', 'B', 'C'])\n",
    "   \n",
    "    input_matrix_without_uncertainty.set_index('Alternatives', inplace=True)\n",
    "\n",
    "    polarity = ('+', '-')\n",
    "\n",
    "    robustness_weights = False\n",
    "    robustness_single_weights = False\n",
    "    robustness_indicators = False\n",
    "\n",
    "    marginal_distributions = [PDFType.NORMAL, PDFType.NORMAL]\n",
    "\n",
    "    num_runs = 5\n",
    "    num_cores = 1\n",
    "\n",
    "    output_path = 'mock_output/'\n",
    "\n",
    "    # Return the setup parameters as a dictionary\n",
    "    return {\n",
    "        'input_matrix': input_matrix_without_uncertainty, # Decide what type of input matrix\n",
    "        'polarity': polarity,\n",
    "        'robustness_weights': robustness_weights,\n",
    "        'robustness_single_weights': robustness_single_weights,\n",
    "        'robustness_indicators': robustness_indicators,\n",
    "        'marginal_distributions': marginal_distributions,\n",
    "        'num_runs': num_runs,\n",
    "        'num_cores': num_cores,\n",
    "        'output_path': output_path\n",
    "    }\n",
    "\n",
    "# Run the setup and store parameters in a variable\n",
    "setup_no_robustness_indicators = setUpNoRobustnessIndicators()\n",
    "\n",
    "# Check the setup parameters\n",
    "setup_no_robustness_indicators"
   ]
  },
  {
   "cell_type": "code",
   "execution_count": 3,
   "id": "cef40536-5942-44a4-9a2c-2a9e9b02b7a0",
   "metadata": {},
   "outputs": [
    {
     "data": {
      "text/plain": [
       "{'input_matrix':               Criterion1_mean  Criterion1_std  Criterion2_mean  Criterion2_std\n",
       " Alternatives                                                                  \n",
       " A                         0.5            0.10              0.3            0.03\n",
       " B                         0.2            0.02              0.6            0.06\n",
       " C                         0.8            0.07              0.1            0.01,\n",
       " 'polarity': ('+', '-'),\n",
       " 'robustness_weights': False,\n",
       " 'robustness_indicators': True,\n",
       " 'marginal_distributions': [<PDFType.NORMAL: 'normal'>,\n",
       "  <PDFType.NORMAL: 'normal'>],\n",
       " 'num_runs': 5,\n",
       " 'num_cores': 1,\n",
       " 'output_path': 'mock_output/'}"
      ]
     },
     "execution_count": 3,
     "metadata": {},
     "output_type": "execute_result"
    }
   ],
   "source": [
    "def setUpRobustnessIndicators():\n",
    "    \n",
    "    # Mock input data for testing\n",
    "    input_matrix_with_uncertainty = pd.DataFrame({\n",
    "    'Alternatives': ['A', 'B', 'C'],\n",
    "    'Criterion1_mean': [0.5, 0.2, 0.8],\n",
    "    'Criterion1_std': [0.1, 0.02, 0.07],\n",
    "    'Criterion2_mean': [0.3, 0.6, 0.1],\n",
    "    'Criterion2_std': [0.03, 0.06, 0.01]\n",
    "        })\n",
    "   \n",
    "    input_matrix_with_uncertainty.set_index('Alternatives', inplace=True)\n",
    "\n",
    "    polarity = ('+', '-')\n",
    "\n",
    "    robustness_weights = False\n",
    "    robustness_indicators = True\n",
    "\n",
    "    marginal_distributions = [PDFType.NORMAL, PDFType.NORMAL]\n",
    "\n",
    "    num_runs = 5\n",
    "    num_cores = 1\n",
    "\n",
    "    output_path = 'mock_output/'\n",
    "\n",
    "    # Return the setup parameters as a dictionary\n",
    "    return {\n",
    "        'input_matrix': input_matrix_with_uncertainty, # Decide what type of input matrix\n",
    "        'polarity': polarity,\n",
    "        'robustness_weights': robustness_weights,\n",
    "        'robustness_indicators': robustness_indicators,\n",
    "        'marginal_distributions': marginal_distributions,\n",
    "        'num_runs': num_runs,\n",
    "        'num_cores': num_cores,\n",
    "        'output_path': output_path\n",
    "    }\n",
    "\n",
    "# Run the setup and store parameters in a variable\n",
    "setup_robustness_indicators = setUpRobustnessIndicators()\n",
    "\n",
    "# Check the setup parameters\n",
    "setup_robustness_indicators"
   ]
  },
  {
   "cell_type": "markdown",
   "id": "07775901-e7d2-447c-a96e-b882748e9f4f",
   "metadata": {},
   "source": [
    "## TEST NO ROBUSTNESS ON INDICATORS"
   ]
  },
  {
   "cell_type": "code",
   "execution_count": 4,
   "id": "c9ffcdc6-0243-4303-8afd-33c7f3de5c21",
   "metadata": {},
   "outputs": [
    {
     "name": "stdout",
     "output_type": "stream",
     "text": [
      "INFO: 2025-01-23 10:39:56,622 - ProMCDA - Alternatives are ['A', 'B', 'C']\n"
     ]
    }
   ],
   "source": [
    "promcda = ProMCDA(\n",
    "    input_matrix=setup_no_robustness_indicators['input_matrix'],\n",
    "    polarity=setup_no_robustness_indicators['polarity'],\n",
    "    robustness_weights=setup_no_robustness_indicators['robustness_weights'],\n",
    "    robustness_indicators=setup_no_robustness_indicators['robustness_indicators'],\n",
    "    marginal_distributions=setup_no_robustness_indicators['marginal_distributions'],\n",
    "    num_runs=setup_no_robustness_indicators['num_runs'],\n",
    "    num_cores=setup_no_robustness_indicators['num_cores'],\n",
    "    #output_path=setup_parameters['output_path']\n",
    ")"
   ]
  },
  {
   "cell_type": "markdown",
   "id": "94796bf7-fd25-4f0d-bdd6-f828f3e0b5f1",
   "metadata": {},
   "source": [
    "### Test normalize with sensitivity¶"
   ]
  },
  {
   "cell_type": "code",
   "execution_count": 5,
   "id": "dfd69479-446e-4919-8b3e-c888d9e675f7",
   "metadata": {},
   "outputs": [
    {
     "data": {
      "text/html": [
       "<div>\n",
       "<style scoped>\n",
       "    .dataframe tbody tr th:only-of-type {\n",
       "        vertical-align: middle;\n",
       "    }\n",
       "\n",
       "    .dataframe tbody tr th {\n",
       "        vertical-align: top;\n",
       "    }\n",
       "\n",
       "    .dataframe thead th {\n",
       "        text-align: right;\n",
       "    }\n",
       "</style>\n",
       "<table border=\"1\" class=\"dataframe\">\n",
       "  <thead>\n",
       "    <tr style=\"text-align: right;\">\n",
       "      <th></th>\n",
       "      <th>Criteria 1_minmax_01</th>\n",
       "      <th>Criteria 2_minmax_01</th>\n",
       "      <th>Criteria 1_minmax_without_zero</th>\n",
       "      <th>Criteria 2_minmax_without_zero</th>\n",
       "      <th>Criteria 1_target_01</th>\n",
       "      <th>Criteria 2_target_01</th>\n",
       "      <th>Criteria 1_target_without_zero</th>\n",
       "      <th>Criteria 2_target_without_zero</th>\n",
       "      <th>Criteria 1_standardized_any</th>\n",
       "      <th>Criteria 2_standardized_any</th>\n",
       "      <th>Criteria 1_standardized_without_zero</th>\n",
       "      <th>Criteria 2_standardized_without_zero</th>\n",
       "      <th>Criteria 1_rank</th>\n",
       "      <th>Criteria 2_rank</th>\n",
       "    </tr>\n",
       "  </thead>\n",
       "  <tbody>\n",
       "    <tr>\n",
       "      <th>0</th>\n",
       "      <td>0.5</td>\n",
       "      <td>0.6</td>\n",
       "      <td>0.55</td>\n",
       "      <td>0.64</td>\n",
       "      <td>0.625</td>\n",
       "      <td>0.5</td>\n",
       "      <td>0.6625</td>\n",
       "      <td>0.55</td>\n",
       "      <td>0.0</td>\n",
       "      <td>0.132453</td>\n",
       "      <td>1.1</td>\n",
       "      <td>1.292079</td>\n",
       "      <td>2.0</td>\n",
       "      <td>2.0</td>\n",
       "    </tr>\n",
       "    <tr>\n",
       "      <th>1</th>\n",
       "      <td>0.0</td>\n",
       "      <td>0.0</td>\n",
       "      <td>0.1</td>\n",
       "      <td>0.1</td>\n",
       "      <td>0.25</td>\n",
       "      <td>0.0</td>\n",
       "      <td>0.325</td>\n",
       "      <td>0.1</td>\n",
       "      <td>-1.0</td>\n",
       "      <td>-1.059626</td>\n",
       "      <td>0.1</td>\n",
       "      <td>0.1</td>\n",
       "      <td>1.0</td>\n",
       "      <td>1.0</td>\n",
       "    </tr>\n",
       "    <tr>\n",
       "      <th>2</th>\n",
       "      <td>1.0</td>\n",
       "      <td>1.0</td>\n",
       "      <td>1.0</td>\n",
       "      <td>1.0</td>\n",
       "      <td>1.0</td>\n",
       "      <td>0.833333</td>\n",
       "      <td>1.0</td>\n",
       "      <td>0.85</td>\n",
       "      <td>1.0</td>\n",
       "      <td>0.927173</td>\n",
       "      <td>2.1</td>\n",
       "      <td>2.086799</td>\n",
       "      <td>3.0</td>\n",
       "      <td>3.0</td>\n",
       "    </tr>\n",
       "  </tbody>\n",
       "</table>\n",
       "</div>"
      ],
      "text/plain": [
       "  Criteria 1_minmax_01 Criteria 2_minmax_01 Criteria 1_minmax_without_zero  \\\n",
       "0                  0.5                  0.6                           0.55   \n",
       "1                  0.0                  0.0                            0.1   \n",
       "2                  1.0                  1.0                            1.0   \n",
       "\n",
       "  Criteria 2_minmax_without_zero Criteria 1_target_01 Criteria 2_target_01  \\\n",
       "0                           0.64                0.625                  0.5   \n",
       "1                            0.1                 0.25                  0.0   \n",
       "2                            1.0                  1.0             0.833333   \n",
       "\n",
       "  Criteria 1_target_without_zero Criteria 2_target_without_zero  \\\n",
       "0                         0.6625                           0.55   \n",
       "1                          0.325                            0.1   \n",
       "2                            1.0                           0.85   \n",
       "\n",
       "  Criteria 1_standardized_any Criteria 2_standardized_any  \\\n",
       "0                         0.0                    0.132453   \n",
       "1                        -1.0                   -1.059626   \n",
       "2                         1.0                    0.927173   \n",
       "\n",
       "  Criteria 1_standardized_without_zero Criteria 2_standardized_without_zero  \\\n",
       "0                                  1.1                             1.292079   \n",
       "1                                  0.1                                  0.1   \n",
       "2                                  2.1                             2.086799   \n",
       "\n",
       "  Criteria 1_rank Criteria 2_rank  \n",
       "0             2.0             2.0  \n",
       "1             1.0             1.0  \n",
       "2             3.0             3.0  "
      ]
     },
     "execution_count": 5,
     "metadata": {},
     "output_type": "execute_result"
    }
   ],
   "source": [
    "promcda.normalize()"
   ]
  },
  {
   "cell_type": "markdown",
   "id": "267aae1e-3b4d-4ad0-8337-fa46a68081f8",
   "metadata": {},
   "source": [
    "### Test normalize with specific method"
   ]
  },
  {
   "cell_type": "code",
   "execution_count": 6,
   "id": "2ba273b0-18ac-43a1-8afc-f3280f6e2d9f",
   "metadata": {},
   "outputs": [
    {
     "data": {
      "text/html": [
       "<div>\n",
       "<style scoped>\n",
       "    .dataframe tbody tr th:only-of-type {\n",
       "        vertical-align: middle;\n",
       "    }\n",
       "\n",
       "    .dataframe tbody tr th {\n",
       "        vertical-align: top;\n",
       "    }\n",
       "\n",
       "    .dataframe thead th {\n",
       "        text-align: right;\n",
       "    }\n",
       "</style>\n",
       "<table border=\"1\" class=\"dataframe\">\n",
       "  <thead>\n",
       "    <tr style=\"text-align: right;\">\n",
       "      <th></th>\n",
       "      <th>Criteria 1_minmax_01</th>\n",
       "      <th>Criteria 2_minmax_01</th>\n",
       "      <th>Criteria 1_minmax_without_zero</th>\n",
       "      <th>Criteria 2_minmax_without_zero</th>\n",
       "    </tr>\n",
       "  </thead>\n",
       "  <tbody>\n",
       "    <tr>\n",
       "      <th>0</th>\n",
       "      <td>0.5</td>\n",
       "      <td>0.6</td>\n",
       "      <td>0.55</td>\n",
       "      <td>0.64</td>\n",
       "    </tr>\n",
       "    <tr>\n",
       "      <th>1</th>\n",
       "      <td>0.0</td>\n",
       "      <td>0.0</td>\n",
       "      <td>0.1</td>\n",
       "      <td>0.1</td>\n",
       "    </tr>\n",
       "    <tr>\n",
       "      <th>2</th>\n",
       "      <td>1.0</td>\n",
       "      <td>1.0</td>\n",
       "      <td>1.0</td>\n",
       "      <td>1.0</td>\n",
       "    </tr>\n",
       "  </tbody>\n",
       "</table>\n",
       "</div>"
      ],
      "text/plain": [
       "  Criteria 1_minmax_01 Criteria 2_minmax_01 Criteria 1_minmax_without_zero  \\\n",
       "0                  0.5                  0.6                           0.55   \n",
       "1                  0.0                  0.0                            0.1   \n",
       "2                  1.0                  1.0                            1.0   \n",
       "\n",
       "  Criteria 2_minmax_without_zero  \n",
       "0                           0.64  \n",
       "1                            0.1  \n",
       "2                            1.0  "
      ]
     },
     "execution_count": 6,
     "metadata": {},
     "output_type": "execute_result"
    }
   ],
   "source": [
    "promcda.normalize(NormalizationFunctions.MINMAX)"
   ]
  },
  {
   "cell_type": "code",
   "execution_count": 7,
   "id": "81651dc2-1772-4435-ac3b-1c553e9e5935",
   "metadata": {},
   "outputs": [
    {
     "data": {
      "text/html": [
       "<div>\n",
       "<style scoped>\n",
       "    .dataframe tbody tr th:only-of-type {\n",
       "        vertical-align: middle;\n",
       "    }\n",
       "\n",
       "    .dataframe tbody tr th {\n",
       "        vertical-align: top;\n",
       "    }\n",
       "\n",
       "    .dataframe thead th {\n",
       "        text-align: right;\n",
       "    }\n",
       "</style>\n",
       "<table border=\"1\" class=\"dataframe\">\n",
       "  <thead>\n",
       "    <tr style=\"text-align: right;\">\n",
       "      <th></th>\n",
       "      <th>Criteria 1_rank</th>\n",
       "      <th>Criteria 2_rank</th>\n",
       "    </tr>\n",
       "  </thead>\n",
       "  <tbody>\n",
       "    <tr>\n",
       "      <th>0</th>\n",
       "      <td>2.0</td>\n",
       "      <td>2.0</td>\n",
       "    </tr>\n",
       "    <tr>\n",
       "      <th>1</th>\n",
       "      <td>1.0</td>\n",
       "      <td>1.0</td>\n",
       "    </tr>\n",
       "    <tr>\n",
       "      <th>2</th>\n",
       "      <td>3.0</td>\n",
       "      <td>3.0</td>\n",
       "    </tr>\n",
       "  </tbody>\n",
       "</table>\n",
       "</div>"
      ],
      "text/plain": [
       "  Criteria 1_rank Criteria 2_rank\n",
       "0             2.0             2.0\n",
       "1             1.0             1.0\n",
       "2             3.0             3.0"
      ]
     },
     "execution_count": 7,
     "metadata": {},
     "output_type": "execute_result"
    }
   ],
   "source": [
    "promcda.normalize(NormalizationFunctions.RANK)"
   ]
  },
  {
   "cell_type": "markdown",
   "id": "eb96c3cb-6a6c-493a-9e30-089fc3676052",
   "metadata": {},
   "source": [
    "### Test aggregate with full sensitivity"
   ]
  },
  {
   "cell_type": "code",
   "execution_count": 8,
   "id": "dccaf3ad-79e2-4110-a286-8bfef5abbd6a",
   "metadata": {},
   "outputs": [
    {
     "name": "stdout",
     "output_type": "stream",
     "text": [
      "INFO: 2025-01-23 10:39:59,476 - ProMCDA - Number of alternatives: 3\n",
      "INFO: 2025-01-23 10:39:59,478 - ProMCDA - Number of indicators: 2\n",
      "INFO: 2025-01-23 10:39:59,479 - ProMCDA - Polarities: ('+', '-')\n",
      "INFO: 2025-01-23 10:39:59,480 - ProMCDA - Weights: [0.5, 0.5]\n",
      "INFO: 2025-01-23 10:39:59,480 - ProMCDA - Normalized weights: [0.5, 0.5]\n"
     ]
    },
    {
     "data": {
      "text/html": [
       "<div>\n",
       "<style scoped>\n",
       "    .dataframe tbody tr th:only-of-type {\n",
       "        vertical-align: middle;\n",
       "    }\n",
       "\n",
       "    .dataframe tbody tr th {\n",
       "        vertical-align: top;\n",
       "    }\n",
       "\n",
       "    .dataframe thead th {\n",
       "        text-align: right;\n",
       "    }\n",
       "</style>\n",
       "<table border=\"1\" class=\"dataframe\">\n",
       "  <thead>\n",
       "    <tr style=\"text-align: right;\">\n",
       "      <th></th>\n",
       "      <th>ws-minmax_01</th>\n",
       "      <th>ws-target_01</th>\n",
       "      <th>ws-standardized_any</th>\n",
       "      <th>ws-rank</th>\n",
       "      <th>geom-minmax_without_zero</th>\n",
       "      <th>geom-target_without_zero</th>\n",
       "      <th>geom-standardized_without_zero</th>\n",
       "      <th>geom-rank</th>\n",
       "      <th>harm-minmax_without_zero</th>\n",
       "      <th>harm-target_without_zero</th>\n",
       "      <th>harm-standardized_without_zero</th>\n",
       "      <th>harm-rank</th>\n",
       "      <th>min-standardized_any</th>\n",
       "    </tr>\n",
       "  </thead>\n",
       "  <tbody>\n",
       "    <tr>\n",
       "      <th>0</th>\n",
       "      <td>0.55</td>\n",
       "      <td>0.5625</td>\n",
       "      <td>0.066227</td>\n",
       "      <td>2.0</td>\n",
       "      <td>0.593296</td>\n",
       "      <td>0.603635</td>\n",
       "      <td>1.192177</td>\n",
       "      <td>2.0</td>\n",
       "      <td>0.591597</td>\n",
       "      <td>0.601031</td>\n",
       "      <td>1.188328</td>\n",
       "      <td>2.0</td>\n",
       "      <td>0.0</td>\n",
       "    </tr>\n",
       "    <tr>\n",
       "      <th>1</th>\n",
       "      <td>0.0</td>\n",
       "      <td>0.125</td>\n",
       "      <td>-1.029813</td>\n",
       "      <td>1.0</td>\n",
       "      <td>0.100000</td>\n",
       "      <td>0.180278</td>\n",
       "      <td>0.100000</td>\n",
       "      <td>1.0</td>\n",
       "      <td>0.1</td>\n",
       "      <td>0.152941</td>\n",
       "      <td>0.1</td>\n",
       "      <td>1.0</td>\n",
       "      <td>-1.059626</td>\n",
       "    </tr>\n",
       "    <tr>\n",
       "      <th>2</th>\n",
       "      <td>1.0</td>\n",
       "      <td>0.916667</td>\n",
       "      <td>0.963586</td>\n",
       "      <td>3.0</td>\n",
       "      <td>1.000000</td>\n",
       "      <td>0.921954</td>\n",
       "      <td>2.093389</td>\n",
       "      <td>3.0</td>\n",
       "      <td>1.0</td>\n",
       "      <td>0.918919</td>\n",
       "      <td>2.093378</td>\n",
       "      <td>3.0</td>\n",
       "      <td>0.927173</td>\n",
       "    </tr>\n",
       "  </tbody>\n",
       "</table>\n",
       "</div>"
      ],
      "text/plain": [
       "  ws-minmax_01 ws-target_01 ws-standardized_any ws-rank  \\\n",
       "0         0.55       0.5625            0.066227     2.0   \n",
       "1          0.0        0.125           -1.029813     1.0   \n",
       "2          1.0     0.916667            0.963586     3.0   \n",
       "\n",
       "   geom-minmax_without_zero  geom-target_without_zero  \\\n",
       "0                  0.593296                  0.603635   \n",
       "1                  0.100000                  0.180278   \n",
       "2                  1.000000                  0.921954   \n",
       "\n",
       "   geom-standardized_without_zero  geom-rank harm-minmax_without_zero  \\\n",
       "0                        1.192177        2.0                 0.591597   \n",
       "1                        0.100000        1.0                      0.1   \n",
       "2                        2.093389        3.0                      1.0   \n",
       "\n",
       "  harm-target_without_zero harm-standardized_without_zero harm-rank  \\\n",
       "0                 0.601031                       1.188328       2.0   \n",
       "1                 0.152941                            0.1       1.0   \n",
       "2                 0.918919                       2.093378       3.0   \n",
       "\n",
       "  min-standardized_any  \n",
       "0                  0.0  \n",
       "1            -1.059626  \n",
       "2             0.927173  "
      ]
     },
     "execution_count": 8,
     "metadata": {},
     "output_type": "execute_result"
    }
   ],
   "source": [
    "promcda.normalize()\n",
    "promcda.aggregate()"
   ]
  },
  {
   "cell_type": "markdown",
   "id": "3d221807-cd40-41fc-b295-a9e0e1c4dc08",
   "metadata": {},
   "source": [
    "### Test aggregate with sensitivity on aggregation"
   ]
  },
  {
   "cell_type": "code",
   "execution_count": 9,
   "id": "587b6905-e9bc-4cbc-a923-501f35e225ad",
   "metadata": {},
   "outputs": [
    {
     "name": "stdout",
     "output_type": "stream",
     "text": [
      "INFO: 2025-01-23 10:40:00,431 - ProMCDA - Number of alternatives: 3\n",
      "INFO: 2025-01-23 10:40:00,434 - ProMCDA - Number of indicators: 2\n",
      "INFO: 2025-01-23 10:40:00,434 - ProMCDA - Polarities: ('+', '-')\n",
      "INFO: 2025-01-23 10:40:00,435 - ProMCDA - Weights: [0.5, 0.5]\n",
      "INFO: 2025-01-23 10:40:00,436 - ProMCDA - Normalized weights: [0.5, 0.5]\n"
     ]
    },
    {
     "data": {
      "text/html": [
       "<div>\n",
       "<style scoped>\n",
       "    .dataframe tbody tr th:only-of-type {\n",
       "        vertical-align: middle;\n",
       "    }\n",
       "\n",
       "    .dataframe tbody tr th {\n",
       "        vertical-align: top;\n",
       "    }\n",
       "\n",
       "    .dataframe thead th {\n",
       "        text-align: right;\n",
       "    }\n",
       "</style>\n",
       "<table border=\"1\" class=\"dataframe\">\n",
       "  <thead>\n",
       "    <tr style=\"text-align: right;\">\n",
       "      <th></th>\n",
       "      <th>ws-minmax_01</th>\n",
       "      <th>geom-minmax_without_zero</th>\n",
       "      <th>harm-minmax_without_zero</th>\n",
       "    </tr>\n",
       "  </thead>\n",
       "  <tbody>\n",
       "    <tr>\n",
       "      <th>0</th>\n",
       "      <td>0.55</td>\n",
       "      <td>0.593296</td>\n",
       "      <td>0.591597</td>\n",
       "    </tr>\n",
       "    <tr>\n",
       "      <th>1</th>\n",
       "      <td>0.0</td>\n",
       "      <td>0.100000</td>\n",
       "      <td>0.1</td>\n",
       "    </tr>\n",
       "    <tr>\n",
       "      <th>2</th>\n",
       "      <td>1.0</td>\n",
       "      <td>1.000000</td>\n",
       "      <td>1.0</td>\n",
       "    </tr>\n",
       "  </tbody>\n",
       "</table>\n",
       "</div>"
      ],
      "text/plain": [
       "  ws-minmax_01  geom-minmax_without_zero harm-minmax_without_zero\n",
       "0         0.55                  0.593296                 0.591597\n",
       "1          0.0                  0.100000                      0.1\n",
       "2          1.0                  1.000000                      1.0"
      ]
     },
     "execution_count": 9,
     "metadata": {},
     "output_type": "execute_result"
    }
   ],
   "source": [
    "promcda.normalize(NormalizationFunctions.MINMAX)\n",
    "promcda.aggregate()"
   ]
  },
  {
   "cell_type": "markdown",
   "id": "29e6c4e2-e347-4e9c-8897-2113770441e0",
   "metadata": {},
   "source": [
    "### Test aggregate with sensitivity on normalization"
   ]
  },
  {
   "cell_type": "code",
   "execution_count": 10,
   "id": "89425df3-407c-4d13-945a-4355182d2900",
   "metadata": {},
   "outputs": [
    {
     "name": "stdout",
     "output_type": "stream",
     "text": [
      "INFO: 2025-01-23 10:40:01,431 - ProMCDA - Number of alternatives: 3\n",
      "INFO: 2025-01-23 10:40:01,433 - ProMCDA - Number of indicators: 2\n",
      "INFO: 2025-01-23 10:40:01,434 - ProMCDA - Polarities: ('+', '-')\n",
      "INFO: 2025-01-23 10:40:01,435 - ProMCDA - Weights: [0.5, 0.5]\n",
      "INFO: 2025-01-23 10:40:01,435 - ProMCDA - Normalized weights: [0.5, 0.5]\n"
     ]
    },
    {
     "data": {
      "text/html": [
       "<div>\n",
       "<style scoped>\n",
       "    .dataframe tbody tr th:only-of-type {\n",
       "        vertical-align: middle;\n",
       "    }\n",
       "\n",
       "    .dataframe tbody tr th {\n",
       "        vertical-align: top;\n",
       "    }\n",
       "\n",
       "    .dataframe thead th {\n",
       "        text-align: right;\n",
       "    }\n",
       "</style>\n",
       "<table border=\"1\" class=\"dataframe\">\n",
       "  <thead>\n",
       "    <tr style=\"text-align: right;\">\n",
       "      <th></th>\n",
       "      <th>ws-minmax_01</th>\n",
       "      <th>ws-target_01</th>\n",
       "      <th>ws-standardized_any</th>\n",
       "      <th>ws-rank</th>\n",
       "    </tr>\n",
       "  </thead>\n",
       "  <tbody>\n",
       "    <tr>\n",
       "      <th>0</th>\n",
       "      <td>0.55</td>\n",
       "      <td>0.5625</td>\n",
       "      <td>0.066227</td>\n",
       "      <td>2.0</td>\n",
       "    </tr>\n",
       "    <tr>\n",
       "      <th>1</th>\n",
       "      <td>0.0</td>\n",
       "      <td>0.125</td>\n",
       "      <td>-1.029813</td>\n",
       "      <td>1.0</td>\n",
       "    </tr>\n",
       "    <tr>\n",
       "      <th>2</th>\n",
       "      <td>1.0</td>\n",
       "      <td>0.916667</td>\n",
       "      <td>0.963586</td>\n",
       "      <td>3.0</td>\n",
       "    </tr>\n",
       "  </tbody>\n",
       "</table>\n",
       "</div>"
      ],
      "text/plain": [
       "  ws-minmax_01 ws-target_01 ws-standardized_any ws-rank\n",
       "0         0.55       0.5625            0.066227     2.0\n",
       "1          0.0        0.125           -1.029813     1.0\n",
       "2          1.0     0.916667            0.963586     3.0"
      ]
     },
     "execution_count": 10,
     "metadata": {},
     "output_type": "execute_result"
    }
   ],
   "source": [
    "promcda.normalize()\n",
    "promcda.aggregate(aggregation_method=AggregationFunctions.WEIGHTED_SUM)"
   ]
  },
  {
   "cell_type": "markdown",
   "id": "cd50f9eb-2987-451b-bf1d-c67a0b2a80e8",
   "metadata": {},
   "source": [
    "### Test aggregate with robustness on weights, fix methods"
   ]
  },
  {
   "cell_type": "code",
   "execution_count": 11,
   "id": "3e8bfc0c-9b78-4058-bdc2-90d00bc8ae7e",
   "metadata": {},
   "outputs": [
    {
     "name": "stdout",
     "output_type": "stream",
     "text": [
      "INFO: 2025-01-23 10:40:02,298 - ProMCDA - Alternatives are ['A', 'B', 'C']\n"
     ]
    }
   ],
   "source": [
    "promcda = ProMCDA(\n",
    "    input_matrix=setup_no_robustness_indicators['input_matrix'],\n",
    "    polarity=setup_no_robustness_indicators['polarity'],\n",
    "    robustness_weights=True,\n",
    "    robustness_indicators=setup_no_robustness_indicators['robustness_indicators'],\n",
    "    marginal_distributions=setup_no_robustness_indicators['marginal_distributions'],\n",
    "    num_runs=setup_no_robustness_indicators['num_runs'],\n",
    "    num_cores=setup_no_robustness_indicators['num_cores'],\n",
    "    #output_path=setup_parameters['output_path']\n",
    ")"
   ]
  },
  {
   "cell_type": "code",
   "execution_count": 12,
   "id": "8ab04ddd-69a0-4e41-808b-bf57506eda95",
   "metadata": {},
   "outputs": [
    {
     "name": "stdout",
     "output_type": "stream",
     "text": [
      "INFO: 2025-01-23 10:40:03,073 - ProMCDA - Number of alternatives: 3\n",
      "INFO: 2025-01-23 10:40:03,075 - ProMCDA - Number of indicators: 2\n",
      "INFO: 2025-01-23 10:40:03,075 - ProMCDA - Polarities: ('+', '-')\n",
      "INFO: 2025-01-23 10:40:03,077 - ProMCDA - Start ProMCDA with uncertainty on the weights\n",
      "INFO: 2025-01-23 10:40:03,078 - ProMCDA - All weights are randomly sampled from a uniform distribution.\n"
     ]
    },
    {
     "data": {
      "text/plain": [
       "'Aggregation considered uncertainty on all weights, results are not explicitly shown.'"
      ]
     },
     "execution_count": 12,
     "metadata": {},
     "output_type": "execute_result"
    }
   ],
   "source": [
    "promcda.normalize(NormalizationFunctions.MINMAX)\n",
    "promcda.aggregate(aggregation_method=AggregationFunctions.WEIGHTED_SUM)"
   ]
  },
  {
   "cell_type": "code",
   "execution_count": 13,
   "id": "4bf3afe7-a611-4f29-969f-7fc31c9c7b4b",
   "metadata": {},
   "outputs": [
    {
     "name": "stdout",
     "output_type": "stream",
     "text": [
      "Mean scores are: \n",
      "  ws-minmax_01\n",
      "0     0.552672\n",
      "1          0.0\n",
      "2          1.0\n"
     ]
    }
   ],
   "source": [
    "means, normalized_means, std= promcda.get_aggregated_values_with_robustness_weights()\n",
    "print(\"Mean scores are: \")\n",
    "print(means)"
   ]
  },
  {
   "cell_type": "markdown",
   "id": "17df7b57-082b-4d66-9948-796f80f0ec84",
   "metadata": {},
   "source": [
    "### Test aggregate with robustness on weights, sensitivity"
   ]
  },
  {
   "cell_type": "code",
   "execution_count": 14,
   "id": "42e4508e-2151-4237-8c56-ed4fcc6abd89",
   "metadata": {},
   "outputs": [
    {
     "name": "stdout",
     "output_type": "stream",
     "text": [
      "INFO: 2025-01-23 10:40:07,293 - ProMCDA - Alternatives are ['A', 'B', 'C']\n"
     ]
    }
   ],
   "source": [
    "promcda = ProMCDA(\n",
    "    input_matrix=setup_no_robustness_indicators['input_matrix'],\n",
    "    polarity=setup_no_robustness_indicators['polarity'],\n",
    "    robustness_weights=True,\n",
    "    robustness_indicators=setup_no_robustness_indicators['robustness_indicators'],\n",
    "    marginal_distributions=setup_no_robustness_indicators['marginal_distributions'],\n",
    "    num_runs=setup_no_robustness_indicators['num_runs'],\n",
    "    num_cores=setup_no_robustness_indicators['num_cores'],\n",
    "    #output_path=setup_parameters['output_path']\n",
    ")"
   ]
  },
  {
   "cell_type": "code",
   "execution_count": 15,
   "id": "debee6f2-67e3-4f5f-8ed0-4f3397f8f728",
   "metadata": {},
   "outputs": [
    {
     "name": "stdout",
     "output_type": "stream",
     "text": [
      "INFO: 2025-01-23 10:40:09,116 - ProMCDA - Number of alternatives: 3\n",
      "INFO: 2025-01-23 10:40:09,119 - ProMCDA - Number of indicators: 2\n",
      "INFO: 2025-01-23 10:40:09,123 - ProMCDA - Polarities: ('+', '-')\n",
      "INFO: 2025-01-23 10:40:09,138 - ProMCDA - Start ProMCDA with uncertainty on the weights\n",
      "INFO: 2025-01-23 10:40:09,147 - ProMCDA - All weights are randomly sampled from a uniform distribution.\n"
     ]
    },
    {
     "data": {
      "text/plain": [
       "'Aggregation considered uncertainty on all weights, results are not explicitly shown.'"
      ]
     },
     "execution_count": 15,
     "metadata": {},
     "output_type": "execute_result"
    }
   ],
   "source": [
    "promcda.normalize()\n",
    "promcda.aggregate()"
   ]
  },
  {
   "cell_type": "markdown",
   "id": "a09be8b6-2d59-4498-8c94-2f3fa50fcf86",
   "metadata": {},
   "source": [
    "### Test aggregate with robustness on one weight at time, sensitivity"
   ]
  },
  {
   "cell_type": "code",
   "execution_count": 16,
   "id": "8e2709e2-02b6-46ec-b620-9efd7c53b2d2",
   "metadata": {},
   "outputs": [
    {
     "name": "stdout",
     "output_type": "stream",
     "text": [
      "INFO: 2025-01-23 10:40:17,980 - ProMCDA - Alternatives are ['A', 'B', 'C']\n"
     ]
    }
   ],
   "source": [
    "promcda = ProMCDA(\n",
    "    input_matrix=setup_no_robustness_indicators['input_matrix'],\n",
    "    polarity=setup_no_robustness_indicators['polarity'],\n",
    "    robustness_weights=False,\n",
    "    robustness_single_weights=True,\n",
    "    robustness_indicators=setup_no_robustness_indicators['robustness_indicators'],\n",
    "    marginal_distributions=setup_no_robustness_indicators['marginal_distributions'],\n",
    "    num_runs=setup_no_robustness_indicators['num_runs'],\n",
    "    num_cores=setup_no_robustness_indicators['num_cores'],\n",
    "    #output_path=setup_parameters['output_path']\n",
    ")"
   ]
  },
  {
   "cell_type": "code",
   "execution_count": 17,
   "id": "ed75c0b3-5859-4437-b3ad-1eb91287ce77",
   "metadata": {},
   "outputs": [
    {
     "name": "stdout",
     "output_type": "stream",
     "text": [
      "INFO: 2025-01-23 10:40:20,662 - ProMCDA - Number of alternatives: 3\n",
      "INFO: 2025-01-23 10:40:20,663 - ProMCDA - Number of indicators: 2\n",
      "INFO: 2025-01-23 10:40:20,665 - ProMCDA - Polarities: ('+', '-')\n",
      "INFO: 2025-01-23 10:40:20,667 - ProMCDA - Start ProMCDA with uncertainty on one weight at time\n",
      "INFO: 2025-01-23 10:40:20,668 - ProMCDA - One weight at time is randomly sampled from a uniform distribution.\n"
     ]
    },
    {
     "data": {
      "text/plain": [
       "'Aggregation considered uncertainty on one weight at time, results are not explicitly shown.'"
      ]
     },
     "execution_count": 17,
     "metadata": {},
     "output_type": "execute_result"
    }
   ],
   "source": [
    "promcda.normalize()\n",
    "promcda.aggregate()"
   ]
  },
  {
   "cell_type": "code",
   "execution_count": 18,
   "id": "7bcc9bad-4063-4675-a798-eb71bc9bf479",
   "metadata": {},
   "outputs": [],
   "source": [
    "means, normalized_means, stds = promcda.get_aggregated_values_with_robustness_one_weight()"
   ]
  },
  {
   "cell_type": "code",
   "execution_count": 19,
   "id": "462ed782-0e75-4835-9871-e3a9771b259b",
   "metadata": {},
   "outputs": [
    {
     "name": "stdout",
     "output_type": "stream",
     "text": [
      "{'indicator_1':   Alternatives ws-minmax_01 ws-target_01 ws-standardized_any ws-rank  \\\n",
      "0            A       0.0954     0.572025            0.534968     2.0   \n",
      "1            B    -1.042946          0.0            0.069937     1.0   \n",
      "2            C     0.947546          1.0            0.879958     3.0   \n",
      "\n",
      "   geom-minmax_without_zero  geom-target_without_zero  \\\n",
      "0                  1.235640                  0.613629   \n",
      "1                  0.100000                  0.100000   \n",
      "2                  2.090484                  1.000000   \n",
      "\n",
      "   geom-standardized_without_zero  geom-rank harm-minmax_without_zero  \\\n",
      "0                        0.579669        2.0                 1.232857   \n",
      "1                        0.141689        1.0                      0.1   \n",
      "2                        0.889861        3.0                 2.090477   \n",
      "\n",
      "  harm-target_without_zero harm-standardized_without_zero harm-rank  \\\n",
      "0                 0.612404                       0.577934       2.0   \n",
      "1                      0.1                       0.126497       1.0   \n",
      "2                      1.0                       0.887828       3.0   \n",
      "\n",
      "  min-standardized_any  \n",
      "0                  0.0  \n",
      "1            -1.059626  \n",
      "2             0.927173  , 'indicator_2':   Alternatives ws-minmax_01 ws-target_01 ws-standardized_any ws-rank  \\\n",
      "0            A     0.045568     0.534403            0.581996     2.0   \n",
      "1            B    -1.020513          0.0            0.163992     1.0   \n",
      "2            C     0.974945          1.0            0.942661     3.0   \n",
      "\n",
      "   geom-minmax_without_zero  geom-target_without_zero  \\\n",
      "0                  1.162806                  0.579517   \n",
      "1                  0.100000                  0.100000   \n",
      "2                  2.095449                  1.000000   \n",
      "\n",
      "   geom-standardized_without_zero  geom-rank harm-minmax_without_zero  \\\n",
      "0                        0.621542        2.0                 1.159635   \n",
      "1                        0.218445        1.0                      0.1   \n",
      "2                        0.945773        3.0                  2.09544   \n",
      "\n",
      "  harm-target_without_zero harm-standardized_without_zero harm-rank  \\\n",
      "0                 0.578115                       0.619215       2.0   \n",
      "1                      0.1                        0.18662       1.0   \n",
      "2                      1.0                       0.943076       3.0   \n",
      "\n",
      "  min-standardized_any  \n",
      "0                  0.0  \n",
      "1            -1.059626  \n",
      "2             0.927173  }\n"
     ]
    }
   ],
   "source": [
    "print(means)"
   ]
  },
  {
   "cell_type": "markdown",
   "id": "04da27ae-0303-447a-b454-5324361fbdf3",
   "metadata": {},
   "source": [
    "## TEST ROBUSTNESS INDICATORS"
   ]
  },
  {
   "cell_type": "code",
   "execution_count": null,
   "id": "cd0e175f-9d59-4c96-bcb5-a53d8555988c",
   "metadata": {},
   "outputs": [],
   "source": [
    "promcda = ProMCDA(\n",
    "    input_matrix=setup_robustness_indicators['input_matrix'],\n",
    "    polarity=setup_robustness_indicators['polarity'],\n",
    "    robustness_weights=setup_robustness_indicators['robustness_weights'],\n",
    "    robustness_indicators=setup_robustness_indicators['robustness_indicators'],\n",
    "    marginal_distributions=setup_robustness_indicators['marginal_distributions'],\n",
    "    num_runs=setup_robustness_indicators['num_runs'],\n",
    "    num_cores=setup_robustness_indicators['num_cores'],\n",
    "    #output_path=setup_parameters['output_path']\n",
    ")"
   ]
  },
  {
   "cell_type": "markdown",
   "id": "448f86cd-6136-4636-9c5e-b803de97ca74",
   "metadata": {},
   "source": [
    "### Test normalize with sensitivity"
   ]
  },
  {
   "cell_type": "code",
   "execution_count": null,
   "id": "1518d4a0-9351-4a5e-91db-806f21d32e96",
   "metadata": {
    "scrolled": true
   },
   "outputs": [],
   "source": [
    "promcda.normalize()\n",
    "promcda.get_normalized_values_with_robustness() # If robustness_indicators"
   ]
  },
  {
   "cell_type": "markdown",
   "id": "e3d4c24e-6203-4ab6-bfb4-72defe219ac3",
   "metadata": {},
   "source": [
    "### Test normalize with specific method"
   ]
  },
  {
   "cell_type": "code",
   "execution_count": null,
   "id": "1aec0eab-5c5a-4279-91b1-891a3fc9a868",
   "metadata": {},
   "outputs": [],
   "source": [
    "promcda.normalize(NormalizationFunctions.MINMAX)\n",
    "promcda.get_normalized_values_with_robustness() # If robustness_indicators"
   ]
  },
  {
   "cell_type": "markdown",
   "id": "2c6ad5ee-a10e-4c89-8bb3-c60190bb587d",
   "metadata": {},
   "source": [
    "### Test aggregate with robustness - need setUpRobustnessIndicators"
   ]
  },
  {
   "cell_type": "code",
   "execution_count": null,
   "id": "15bb84ff-e194-4326-a368-c467c9b6e3a7",
   "metadata": {
    "scrolled": true
   },
   "outputs": [],
   "source": [
    "promcda.normalize(normalization_method=NormalizationFunctions.MINMAX)\n",
    "promcda.aggregate(aggregation_method=AggregationFunctions.WEIGHTED_SUM, weights=None)"
   ]
  },
  {
   "cell_type": "code",
   "execution_count": null,
   "id": "128cc88d-928e-439e-896a-be71faa60075",
   "metadata": {},
   "outputs": [],
   "source": [
    "#promcda.get_aggregated_values_with_robustness()"
   ]
  },
  {
   "cell_type": "markdown",
   "id": "49678cf4-c0be-4764-9fe5-85cb84dbee08",
   "metadata": {},
   "source": [
    "### Test aggregate with robustness - need setUpRobustnessIndicators"
   ]
  },
  {
   "cell_type": "code",
   "execution_count": null,
   "id": "5fda14fb-8388-4a03-9586-412ecf16ded4",
   "metadata": {},
   "outputs": [],
   "source": []
  }
 ],
 "metadata": {
  "kernelspec": {
   "display_name": "ProMCDA (Python)",
   "language": "python",
   "name": "promcda"
  },
  "language_info": {
   "codemirror_mode": {
    "name": "ipython",
    "version": 3
   },
   "file_extension": ".py",
   "mimetype": "text/x-python",
   "name": "python",
   "nbconvert_exporter": "python",
   "pygments_lexer": "ipython3",
   "version": "3.9.20"
  }
 },
 "nbformat": 4,
 "nbformat_minor": 5
}
