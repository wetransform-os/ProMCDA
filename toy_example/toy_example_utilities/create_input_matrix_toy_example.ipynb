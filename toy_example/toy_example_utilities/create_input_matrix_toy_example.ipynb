{
 "cells": [
  {
   "cell_type": "markdown",
   "id": "f725fb2a",
   "metadata": {},
   "source": [
    "## Use MCDA to rank car models based on given criteria and weights."
   ]
  },
  {
   "cell_type": "code",
   "execution_count": 1,
   "id": "5babe7c0",
   "metadata": {},
   "outputs": [],
   "source": [
    "import csv\n",
    "import pandas as pd"
   ]
  },
  {
   "cell_type": "code",
   "execution_count": 2,
   "id": "827116ee",
   "metadata": {},
   "outputs": [],
   "source": [
    "data = [\n",
    "    [\"Car Model\", \"Fuel Efficiency\", \"Safety Rating\", \"Price\", \"Cargo Space\", \"Acceleration\", \"Warranty\"],\n",
    "    [\"A\", 30, 5, 25000, 15, 8, 3],\n",
    "    [\"B\", 25, 4, 30000, 20, 6, 5],\n",
    "    [\"C\", 35, 5, 20000, 10, 10, 2],\n",
    "    [\"D\", 40, 3, 24000, 30, 7, 1],\n",
    "    [\"E\", 38, 1, 15000, 10, 10, 3],\n",
    "    [\"F\", 40, 4, 28000, 15, 9, 4],\n",
    "]"
   ]
  },
  {
   "cell_type": "code",
   "execution_count": 3,
   "id": "981aa5b9",
   "metadata": {},
   "outputs": [],
   "source": [
    "csv_file = \"car_data.csv\"\n",
    "\n",
    "with open(csv_file, mode='w', newline='') as file:\n",
    "    writer = csv.writer(file)\n",
    "    writer.writerows(data)"
   ]
  },
  {
   "cell_type": "code",
   "execution_count": 4,
   "id": "ef10e607",
   "metadata": {},
   "outputs": [],
   "source": [
    "input_matrix = pd.read_csv(csv_file)"
   ]
  },
  {
   "cell_type": "code",
   "execution_count": 6,
   "id": "04b45e4b",
   "metadata": {},
   "outputs": [
    {
     "data": {
      "text/html": [
       "<div>\n",
       "<style scoped>\n",
       "    .dataframe tbody tr th:only-of-type {\n",
       "        vertical-align: middle;\n",
       "    }\n",
       "\n",
       "    .dataframe tbody tr th {\n",
       "        vertical-align: top;\n",
       "    }\n",
       "\n",
       "    .dataframe thead th {\n",
       "        text-align: right;\n",
       "    }\n",
       "</style>\n",
       "<table border=\"1\" class=\"dataframe\">\n",
       "  <thead>\n",
       "    <tr style=\"text-align: right;\">\n",
       "      <th></th>\n",
       "      <th>Fuel Efficiency</th>\n",
       "      <th>Safety Rating</th>\n",
       "      <th>Price</th>\n",
       "      <th>Cargo Space</th>\n",
       "      <th>Acceleration</th>\n",
       "      <th>Warranty</th>\n",
       "    </tr>\n",
       "    <tr>\n",
       "      <th>Car Model</th>\n",
       "      <th></th>\n",
       "      <th></th>\n",
       "      <th></th>\n",
       "      <th></th>\n",
       "      <th></th>\n",
       "      <th></th>\n",
       "    </tr>\n",
       "  </thead>\n",
       "  <tbody>\n",
       "    <tr>\n",
       "      <th>A</th>\n",
       "      <td>30</td>\n",
       "      <td>5</td>\n",
       "      <td>25000</td>\n",
       "      <td>15</td>\n",
       "      <td>8</td>\n",
       "      <td>3</td>\n",
       "    </tr>\n",
       "    <tr>\n",
       "      <th>B</th>\n",
       "      <td>25</td>\n",
       "      <td>4</td>\n",
       "      <td>30000</td>\n",
       "      <td>20</td>\n",
       "      <td>6</td>\n",
       "      <td>5</td>\n",
       "    </tr>\n",
       "    <tr>\n",
       "      <th>C</th>\n",
       "      <td>35</td>\n",
       "      <td>5</td>\n",
       "      <td>20000</td>\n",
       "      <td>10</td>\n",
       "      <td>10</td>\n",
       "      <td>2</td>\n",
       "    </tr>\n",
       "    <tr>\n",
       "      <th>D</th>\n",
       "      <td>40</td>\n",
       "      <td>3</td>\n",
       "      <td>24000</td>\n",
       "      <td>30</td>\n",
       "      <td>7</td>\n",
       "      <td>1</td>\n",
       "    </tr>\n",
       "    <tr>\n",
       "      <th>E</th>\n",
       "      <td>38</td>\n",
       "      <td>1</td>\n",
       "      <td>15000</td>\n",
       "      <td>10</td>\n",
       "      <td>10</td>\n",
       "      <td>3</td>\n",
       "    </tr>\n",
       "    <tr>\n",
       "      <th>F</th>\n",
       "      <td>40</td>\n",
       "      <td>4</td>\n",
       "      <td>28000</td>\n",
       "      <td>15</td>\n",
       "      <td>9</td>\n",
       "      <td>4</td>\n",
       "    </tr>\n",
       "  </tbody>\n",
       "</table>\n",
       "</div>"
      ],
      "text/plain": [
       "           Fuel Efficiency  Safety Rating  Price  Cargo Space  Acceleration  \\\n",
       "Car Model                                                                     \n",
       "A                       30              5  25000           15             8   \n",
       "B                       25              4  30000           20             6   \n",
       "C                       35              5  20000           10            10   \n",
       "D                       40              3  24000           30             7   \n",
       "E                       38              1  15000           10            10   \n",
       "F                       40              4  28000           15             9   \n",
       "\n",
       "           Warranty  \n",
       "Car Model            \n",
       "A                 3  \n",
       "B                 5  \n",
       "C                 2  \n",
       "D                 1  \n",
       "E                 3  \n",
       "F                 4  "
      ]
     },
     "execution_count": 6,
     "metadata": {},
     "output_type": "execute_result"
    }
   ],
   "source": [
    "input_matrix"
   ]
  }
 ],
 "metadata": {
  "kernelspec": {
   "display_name": "base",
   "language": "python",
   "name": "base"
  },
  "language_info": {
   "codemirror_mode": {
    "name": "ipython",
    "version": 3
   },
   "file_extension": ".py",
   "mimetype": "text/x-python",
   "name": "python",
   "nbconvert_exporter": "python",
   "pygments_lexer": "ipython3",
   "version": "3.8.8"
  }
 },
 "nbformat": 4,
 "nbformat_minor": 5
}
